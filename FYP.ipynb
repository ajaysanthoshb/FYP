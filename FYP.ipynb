{
  "nbformat": 4,
  "nbformat_minor": 0,
  "metadata": {
    "colab": {
      "provenance": [],
      "mount_file_id": "1NNayZCQSdZKhDic_tmcNAfDNlr8QEIQM",
      "authorship_tag": "ABX9TyM9KaeTnmBk8m7mzEcz82a0",
      "include_colab_link": true
    },
    "kernelspec": {
      "name": "python3",
      "display_name": "Python 3"
    },
    "language_info": {
      "name": "python"
    },
    "gpuClass": "standard"
  },
  "cells": [
    {
      "cell_type": "markdown",
      "metadata": {
        "id": "view-in-github",
        "colab_type": "text"
      },
      "source": [
        "<a href=\"https://colab.research.google.com/github/ajaysanthoshb/FYP/blob/main/FYP.ipynb\" target=\"_parent\"><img src=\"https://colab.research.google.com/assets/colab-badge.svg\" alt=\"Open In Colab\"/></a>"
      ]
    },
    {
      "cell_type": "code",
      "execution_count": 57,
      "metadata": {
        "id": "RWJcpBSvXYau"
      },
      "outputs": [],
      "source": [
        "import os\n",
        "import glob\n",
        "import numpy as np\n",
        "from tqdm import tqdm\n",
        "import itertools\n",
        "import matplotlib.pyplot as plt\n",
        "import pandas as pd\n",
        "\n",
        "# Audio\n",
        "import librosa\n",
        "import librosa.display\n",
        "\n",
        "# Scikit learn\n",
        "from sklearn.model_selection import train_test_split\n",
        "from sklearn.metrics import classification_report, accuracy_score, confusion_matrix\n",
        "from sklearn.preprocessing import LabelEncoder\n",
        "from sklearn.utils import shuffle\n",
        "from sklearn.utils import class_weight\n",
        "\n",
        "# Keras\n",
        "import keras\n",
        "from keras.models import Sequential\n",
        "from keras.layers import Dense, Dropout, Activation, Flatten\n",
        "from keras.layers import Convolution2D, Conv2D, MaxPooling2D, GlobalAveragePooling2D\n",
        "\n",
        "import warnings\n",
        "warnings.filterwarnings('ignore', category=FutureWarning)"
      ]
    },
    {
      "cell_type": "code",
      "source": [
        "!pip install tqdm\n",
        "!pip install scikit-plot"
      ],
      "metadata": {
        "colab": {
          "base_uri": "https://localhost:8080/"
        },
        "id": "Bg0xb30Q94Km",
        "outputId": "73e55050-e116-49dc-9897-2572d2c4327c"
      },
      "execution_count": 58,
      "outputs": [
        {
          "output_type": "stream",
          "name": "stdout",
          "text": [
            "Looking in indexes: https://pypi.org/simple, https://us-python.pkg.dev/colab-wheels/public/simple/\n",
            "Requirement already satisfied: tqdm in /usr/local/lib/python3.8/dist-packages (4.64.1)\n",
            "Looking in indexes: https://pypi.org/simple, https://us-python.pkg.dev/colab-wheels/public/simple/\n",
            "Requirement already satisfied: scikit-plot in /usr/local/lib/python3.8/dist-packages (0.3.7)\n",
            "Requirement already satisfied: matplotlib>=1.4.0 in /usr/local/lib/python3.8/dist-packages (from scikit-plot) (3.5.3)\n",
            "Requirement already satisfied: scikit-learn>=0.18 in /usr/local/lib/python3.8/dist-packages (from scikit-plot) (1.2.1)\n",
            "Requirement already satisfied: scipy>=0.9 in /usr/local/lib/python3.8/dist-packages (from scikit-plot) (1.10.1)\n",
            "Requirement already satisfied: joblib>=0.10 in /usr/local/lib/python3.8/dist-packages (from scikit-plot) (1.2.0)\n",
            "Requirement already satisfied: kiwisolver>=1.0.1 in /usr/local/lib/python3.8/dist-packages (from matplotlib>=1.4.0->scikit-plot) (1.4.4)\n",
            "Requirement already satisfied: pyparsing>=2.2.1 in /usr/local/lib/python3.8/dist-packages (from matplotlib>=1.4.0->scikit-plot) (3.0.9)\n",
            "Requirement already satisfied: fonttools>=4.22.0 in /usr/local/lib/python3.8/dist-packages (from matplotlib>=1.4.0->scikit-plot) (4.38.0)\n",
            "Requirement already satisfied: python-dateutil>=2.7 in /usr/local/lib/python3.8/dist-packages (from matplotlib>=1.4.0->scikit-plot) (2.8.2)\n",
            "Requirement already satisfied: pillow>=6.2.0 in /usr/local/lib/python3.8/dist-packages (from matplotlib>=1.4.0->scikit-plot) (8.4.0)\n",
            "Requirement already satisfied: packaging>=20.0 in /usr/local/lib/python3.8/dist-packages (from matplotlib>=1.4.0->scikit-plot) (23.0)\n",
            "Requirement already satisfied: numpy>=1.17 in /usr/local/lib/python3.8/dist-packages (from matplotlib>=1.4.0->scikit-plot) (1.22.4)\n",
            "Requirement already satisfied: cycler>=0.10 in /usr/local/lib/python3.8/dist-packages (from matplotlib>=1.4.0->scikit-plot) (0.11.0)\n",
            "Requirement already satisfied: threadpoolctl>=2.0.0 in /usr/local/lib/python3.8/dist-packages (from scikit-learn>=0.18->scikit-plot) (3.1.0)\n",
            "Requirement already satisfied: six>=1.5 in /usr/local/lib/python3.8/dist-packages (from python-dateutil>=2.7->matplotlib>=1.4.0->scikit-plot) (1.15.0)\n"
          ]
        }
      ]
    },
    {
      "cell_type": "code",
      "source": [
        "import pandas as pd\n",
        "\n",
        "# scikit learn\n",
        "from sklearn.model_selection import train_test_split\n",
        "from sklearn.metrics import classification_report, accuracy_score, confusion_matrix\n",
        "from sklearn.preprocessing import LabelEncoder\n",
        "from sklearn.utils import shuffle\n",
        "from sklearn.utils import class_weight\n",
        "import scikitplot as skplt\n",
        "from sklearn.metrics import accuracy_score, f1_score, precision_score, recall_score, classification_report, confusion_matrix\n",
        "\n",
        "# Keras\n",
        "from keras.models import Sequential\n",
        "from tensorflow.keras.callbacks import EarlyStopping\n",
        "from keras.layers import Dense, Dropout, Activation, Flatten\n",
        "from keras.layers import Convolution2D, Conv2D, MaxPooling2D, GlobalAveragePooling2D\n",
        "# from keras.utils import to_categorical\n",
        "\n",
        "# Audio\n",
        "import librosa \n",
        "import librosa.display\n",
        "\n",
        "#Plot\n",
        "import matplotlib.pyplot as plt\n",
        "\n",
        "# Utility\n",
        "import os\n",
        "import glob\n",
        "import numpy as np\n",
        "from tqdm import tqdm\n",
        "import itertools"
      ],
      "metadata": {
        "id": "tRO-m9Q99zE4"
      },
      "execution_count": 59,
      "outputs": []
    },
    {
      "cell_type": "code",
      "source": [
        "dataset = []\n",
        "for folder in [\"/content/drive/MyDrive/heartbeat-sounds/set_a/**\",\"/content/drive/MyDrive/heartbeat-sounds/set_b/**\"]:\n",
        "    for filename in glob.iglob(folder):\n",
        "        if os.path.exists(filename):\n",
        "            label = os.path.basename(filename).split(\"_\")[0]\n",
        "            duration = librosa.get_duration(filename=filename)\n",
        "            # skip audio smaller than 3 secs\n",
        "            if duration>=3:\n",
        "                slice_size = 3\n",
        "                iterations = int((duration-slice_size)/(slice_size-1))\n",
        "                iterations += 1\n",
        "                initial_offset = (duration - ((iterations*(slice_size-1))+1))/2\n",
        "                if label not in [\"Aunlabelledtest\", \"Bunlabelledtest\"]:\n",
        "                    for i in range(iterations):\n",
        "                        offset = initial_offset + i*(slice_size-1)\n",
        "                        if duration == 9:\n",
        "                          print(offset,i)\n",
        "                        dataset.append({\n",
        "                                \"filename\": filename,\n",
        "                                \"label\": label,\n",
        "                                \"offset\": offset\n",
        "                            })\n",
        "                       \n",
        "                        \n",
        "dataset = pd.DataFrame(dataset)\n",
        "dataset = shuffle(dataset, random_state=42)\n",
        "dataset.info()"
      ],
      "metadata": {
        "colab": {
          "base_uri": "https://localhost:8080/"
        },
        "id": "alFuajMarIyh",
        "outputId": "03905fce-fd3c-40b9-ef35-6e0cbb1c161b"
      },
      "execution_count": 66,
      "outputs": [
        {
          "output_type": "stream",
          "name": "stdout",
          "text": [
            "0.0 0\n",
            "2.0 1\n",
            "4.0 2\n",
            "6.0 3\n",
            "0.0 0\n",
            "2.0 1\n",
            "4.0 2\n",
            "6.0 3\n",
            "0.0 0\n",
            "2.0 1\n",
            "4.0 2\n",
            "6.0 3\n",
            "0.0 0\n",
            "2.0 1\n",
            "4.0 2\n",
            "6.0 3\n",
            "0.0 0\n",
            "2.0 1\n",
            "4.0 2\n",
            "6.0 3\n",
            "0.0 0\n",
            "2.0 1\n",
            "4.0 2\n",
            "6.0 3\n",
            "0.0 0\n",
            "2.0 1\n",
            "4.0 2\n",
            "6.0 3\n",
            "0.0 0\n",
            "2.0 1\n",
            "4.0 2\n",
            "6.0 3\n",
            "0.0 0\n",
            "2.0 1\n",
            "4.0 2\n",
            "6.0 3\n",
            "0.0 0\n",
            "2.0 1\n",
            "4.0 2\n",
            "6.0 3\n",
            "0.0 0\n",
            "2.0 1\n",
            "4.0 2\n",
            "6.0 3\n",
            "0.0 0\n",
            "2.0 1\n",
            "4.0 2\n",
            "6.0 3\n",
            "0.0 0\n",
            "2.0 1\n",
            "4.0 2\n",
            "6.0 3\n",
            "0.0 0\n",
            "2.0 1\n",
            "4.0 2\n",
            "6.0 3\n",
            "0.0 0\n",
            "2.0 1\n",
            "4.0 2\n",
            "6.0 3\n",
            "0.0 0\n",
            "2.0 1\n",
            "4.0 2\n",
            "6.0 3\n",
            "0.0 0\n",
            "2.0 1\n",
            "4.0 2\n",
            "6.0 3\n",
            "0.0 0\n",
            "2.0 1\n",
            "4.0 2\n",
            "6.0 3\n",
            "0.0 0\n",
            "2.0 1\n",
            "4.0 2\n",
            "6.0 3\n",
            "0.0 0\n",
            "2.0 1\n",
            "4.0 2\n",
            "6.0 3\n",
            "0.0 0\n",
            "2.0 1\n",
            "4.0 2\n",
            "6.0 3\n",
            "0.0 0\n",
            "2.0 1\n",
            "4.0 2\n",
            "6.0 3\n",
            "0.0 0\n",
            "2.0 1\n",
            "4.0 2\n",
            "6.0 3\n",
            "0.0 0\n",
            "2.0 1\n",
            "4.0 2\n",
            "6.0 3\n",
            "0.0 0\n",
            "2.0 1\n",
            "4.0 2\n",
            "6.0 3\n",
            "0.0 0\n",
            "2.0 1\n",
            "4.0 2\n",
            "6.0 3\n",
            "0.0 0\n",
            "2.0 1\n",
            "4.0 2\n",
            "6.0 3\n",
            "0.0 0\n",
            "2.0 1\n",
            "4.0 2\n",
            "6.0 3\n",
            "0.0 0\n",
            "2.0 1\n",
            "4.0 2\n",
            "6.0 3\n",
            "0.0 0\n",
            "2.0 1\n",
            "4.0 2\n",
            "6.0 3\n",
            "0.0 0\n",
            "2.0 1\n",
            "4.0 2\n",
            "6.0 3\n",
            "0.0 0\n",
            "2.0 1\n",
            "4.0 2\n",
            "6.0 3\n",
            "0.0 0\n",
            "2.0 1\n",
            "4.0 2\n",
            "6.0 3\n",
            "0.0 0\n",
            "2.0 1\n",
            "4.0 2\n",
            "6.0 3\n",
            "0.0 0\n",
            "2.0 1\n",
            "4.0 2\n",
            "6.0 3\n",
            "0.0 0\n",
            "2.0 1\n",
            "4.0 2\n",
            "6.0 3\n",
            "0.0 0\n",
            "2.0 1\n",
            "4.0 2\n",
            "6.0 3\n",
            "0.0 0\n",
            "2.0 1\n",
            "4.0 2\n",
            "6.0 3\n",
            "0.0 0\n",
            "2.0 1\n",
            "4.0 2\n",
            "6.0 3\n",
            "0.0 0\n",
            "2.0 1\n",
            "4.0 2\n",
            "6.0 3\n",
            "0.0 0\n",
            "2.0 1\n",
            "4.0 2\n",
            "6.0 3\n",
            "0.0 0\n",
            "2.0 1\n",
            "4.0 2\n",
            "6.0 3\n",
            "0.0 0\n",
            "2.0 1\n",
            "4.0 2\n",
            "6.0 3\n",
            "0.0 0\n",
            "2.0 1\n",
            "4.0 2\n",
            "6.0 3\n",
            "0.0 0\n",
            "2.0 1\n",
            "4.0 2\n",
            "6.0 3\n",
            "0.0 0\n",
            "2.0 1\n",
            "4.0 2\n",
            "6.0 3\n",
            "0.0 0\n",
            "2.0 1\n",
            "4.0 2\n",
            "6.0 3\n",
            "0.0 0\n",
            "2.0 1\n",
            "4.0 2\n",
            "6.0 3\n",
            "0.0 0\n",
            "2.0 1\n",
            "4.0 2\n",
            "6.0 3\n",
            "0.0 0\n",
            "2.0 1\n",
            "4.0 2\n",
            "6.0 3\n",
            "0.0 0\n",
            "2.0 1\n",
            "4.0 2\n",
            "6.0 3\n",
            "0.0 0\n",
            "2.0 1\n",
            "4.0 2\n",
            "6.0 3\n",
            "0.0 0\n",
            "2.0 1\n",
            "4.0 2\n",
            "6.0 3\n",
            "0.0 0\n",
            "2.0 1\n",
            "4.0 2\n",
            "6.0 3\n",
            "0.0 0\n",
            "2.0 1\n",
            "4.0 2\n",
            "6.0 3\n",
            "0.0 0\n",
            "2.0 1\n",
            "4.0 2\n",
            "6.0 3\n",
            "0.0 0\n",
            "2.0 1\n",
            "4.0 2\n",
            "6.0 3\n",
            "0.0 0\n",
            "2.0 1\n",
            "4.0 2\n",
            "6.0 3\n",
            "0.0 0\n",
            "2.0 1\n",
            "4.0 2\n",
            "6.0 3\n",
            "<class 'pandas.core.frame.DataFrame'>\n",
            "Int64Index: 1441 entries, 168 to 1126\n",
            "Data columns (total 3 columns):\n",
            " #   Column    Non-Null Count  Dtype  \n",
            "---  ------    --------------  -----  \n",
            " 0   filename  1441 non-null   object \n",
            " 1   label     1441 non-null   object \n",
            " 2   offset    1441 non-null   float64\n",
            "dtypes: float64(1), object(2)\n",
            "memory usage: 45.0+ KB\n"
          ]
        }
      ]
    },
    {
      "cell_type": "code",
      "source": [
        "plt.figure(figsize=(12,6))\n",
        "dataset.label.value_counts().plot(kind='bar', title='Dataset distribution')\n",
        "plt.show(),len(dataset)"
      ],
      "metadata": {
        "colab": {
          "base_uri": "https://localhost:8080/",
          "height": 448
        },
        "id": "8ix4tO7nr1t5",
        "outputId": "0eb635e5-fdd7-49b9-f8bc-8c1cd65d5949"
      },
      "execution_count": 61,
      "outputs": [
        {
          "output_type": "display_data",
          "data": {
            "text/plain": [
              "<Figure size 864x432 with 1 Axes>"
            ],
            "image/png": "[encoded data removed]"
          },
          "metadata": {
            "needs_background": "light"
          }
        },
        {
          "output_type": "execute_result",
          "data": {
            "text/plain": [
              "(None, 1441)"
            ]
          },
          "metadata": {},
          "execution_count": 61
        }
      ]
    },
    {
      "cell_type": "code",
      "source": [
        "train, test = train_test_split(dataset, test_size=0.2, random_state=42)\n",
        "\n",
        "print(\"Train: %i\" % len(train))\n",
        "print(\"Test: %i\" % len(test))"
      ],
      "metadata": {
        "colab": {
          "base_uri": "https://localhost:8080/"
        },
        "id": "kjMrfwjLr7Kw",
        "outputId": "768823d8-0963-4347-9ed7-8543e88f1e4d"
      },
      "execution_count": 62,
      "outputs": [
        {
          "output_type": "stream",
          "name": "stdout",
          "text": [
            "Train: 1152\n",
            "Test: 289\n"
          ]
        }
      ]
    },
    {
      "cell_type": "code",
      "source": [
        "visited = False\n",
        "def extract_features(audio_path,offset):\n",
        "    global visited\n",
        "    y, sr = librosa.load(audio_path, offset=offset, duration=3)  \n",
        "    S = librosa.feature.melspectrogram(y, sr=sr, n_fft=2048, \n",
        "                                   hop_length=512, \n",
        "                                   n_mels=128)\n",
        "    mfccs = librosa.feature.mfcc(S=librosa.power_to_db(S), n_mfcc=40)\n",
        "    if not visited:\n",
        "      print(S.shape,mfccs.shape)\n",
        "      visited = True\n",
        "    return mfccs"
      ],
      "metadata": {
        "id": "ru5oGhu_sHZx"
      },
      "execution_count": 63,
      "outputs": []
    },
    {
      "cell_type": "code",
      "source": [
        "x_train = []\n",
        "x_test = []\n",
        "\n",
        "for idx in tqdm(range(len(train))):\n",
        "    x_train.append(extract_features(train.filename.iloc[idx],train.offset.iloc[idx]))\n",
        "\n",
        "for idx in tqdm(range(len(test))):\n",
        "    x_test.append(extract_features(test.filename.iloc[idx],test.offset.iloc[idx]))\n",
        "    \n",
        "x_test = np.asarray(x_test)\n",
        "x_train = np.asarray(x_train)\n",
        "\n",
        "print(\"X train:\", x_train.shape)\n",
        "print(\"X test:\", x_test.shape)"
      ],
      "metadata": {
        "colab": {
          "base_uri": "https://localhost:8080/"
        },
        "id": "kZnxf11hswLK",
        "outputId": "0636ae63-017c-4bc7-9493-74098d6d2132"
      },
      "execution_count": 64,
      "outputs": [
        {
          "output_type": "stream",
          "name": "stderr",
          "text": [
            "  0%|          | 1/1152 [00:00<13:27,  1.43it/s]"
          ]
        },
        {
          "output_type": "stream",
          "name": "stdout",
          "text": [
            "(128, 130) (40, 130)\n"
          ]
        },
        {
          "output_type": "stream",
          "name": "stderr",
          "text": [
            "100%|██████████| 1152/1152 [02:51<00:00,  6.71it/s]\n",
            "100%|██████████| 289/289 [00:51<00:00,  5.57it/s]"
          ]
        },
        {
          "output_type": "stream",
          "name": "stdout",
          "text": [
            "X train: (1152, 40, 130)\n",
            "X test: (289, 40, 130)\n"
          ]
        },
        {
          "output_type": "stream",
          "name": "stderr",
          "text": [
            "\n"
          ]
        }
      ]
    },
    {
      "cell_type": "code",
      "source": [
        "# Encode Labels\n",
        "encoder = LabelEncoder()\n",
        "encoder.fit(train.label)\n",
        "\n",
        "y_train = encoder.transform(train.label)\n",
        "y_test = encoder.transform(test.label)\n",
        "\n",
        "# Compute class weights\n",
        "class_weights = class_weight.compute_class_weight(class_weight = \"balanced\", classes = np.unique(y_train),\n",
        "                                        y = y_train )"
      ],
      "metadata": {
        "id": "MF4fe20bt2KL"
      },
      "execution_count": 67,
      "outputs": []
    },
    {
      "cell_type": "code",
      "source": [
        "from tensorflow.keras.utils import to_categorical\n",
        "\n",
        "x_train_CNN = x_train.reshape(x_train.shape[0], x_train.shape[1], x_train.shape[2], 1)\n",
        "x_test_CNN = x_test.reshape(x_test.shape[0], x_test.shape[1], x_test.shape[2], 1)\n",
        "y_train = to_categorical(y_train)\n",
        "y_test = to_categorical(y_test)\n",
        "\n",
        "print(\"X train:\", x_train.shape)\n",
        "print(\"Y train:\", y_train.shape)\n",
        "print(\"X test:\", x_test.shape)\n",
        "print(\"Y test:\", y_test.shape)"
      ],
      "metadata": {
        "colab": {
          "base_uri": "https://localhost:8080/"
        },
        "id": "H_002_ZNt7Bh",
        "outputId": "8fbf838e-aa9f-4131-8a5e-50f50bdb5016"
      },
      "execution_count": 68,
      "outputs": [
        {
          "output_type": "stream",
          "name": "stdout",
          "text": [
            "X train: (1152, 40, 130)\n",
            "Y train: (1152, 5)\n",
            "X test: (289, 40, 130)\n",
            "Y test: (289, 5)\n"
          ]
        }
      ]
    },
    {
      "cell_type": "code",
      "source": [
        "print(x_train_CNN.shape)"
      ],
      "metadata": {
        "colab": {
          "base_uri": "https://localhost:8080/"
        },
        "id": "3pZyNOMOqFnC",
        "outputId": "71d1b48b-0d8f-46f7-b0bc-3e25899895c8"
      },
      "execution_count": 75,
      "outputs": [
        {
          "output_type": "stream",
          "name": "stdout",
          "text": [
            "(1152, 40, 130, 1)\n"
          ]
        }
      ]
    },
    {
      "cell_type": "code",
      "source": [
        "model = Sequential()\n",
        "model.add(Conv2D(filters=32, kernel_size=2, input_shape=(x_train.shape[1],x_train.shape[2],x_train.shape[3]), activation='relu'))\n",
        "model.add(MaxPooling2D(pool_size=2))\n",
        "model.add(Dropout(0.2))\n",
        "\n",
        "model.add(Conv2D(filters=64, kernel_size=2, activation='relu'))\n",
        "model.add(MaxPooling2D(pool_size=2))\n",
        "model.add(Dropout(0.2))\n",
        "\n",
        "model.add(Conv2D(filters=128, kernel_size=2, activation='relu'))\n",
        "model.add(MaxPooling2D(pool_size=2))\n",
        "model.add(Dropout(0.2))\n",
        "\n",
        "model.add(Conv2D(filters=256, kernel_size=2, activation='relu'))\n",
        "model.add(MaxPooling2D(pool_size=2))\n",
        "model.add(Dropout(0.5))\n",
        "model.add(GlobalAveragePooling2D())\n",
        "\n",
        "model.add(Dense(len(encoder.classes_), activation='softmax'))\n",
        "model.summary()"
      ],
      "metadata": {
        "colab": {
          "base_uri": "https://localhost:8080/"
        },
        "id": "ABUnAcYDt_8Q",
        "outputId": "fae43334-9123-48e4-b81b-4ee17ad9b52b"
      },
      "execution_count": 10,
      "outputs": [
        {
          "output_type": "stream",
          "name": "stdout",
          "text": [
            "Model: \"sequential\"\n",
            "_________________________________________________________________\n",
            " Layer (type)                Output Shape              Param #   \n",
            "=================================================================\n",
            " conv2d (Conv2D)             (None, 39, 129, 32)       160       \n",
            "                                                                 \n",
            " max_pooling2d (MaxPooling2D  (None, 19, 64, 32)       0         \n",
            " )                                                               \n",
            "                                                                 \n",
            " dropout (Dropout)           (None, 19, 64, 32)        0         \n",
            "                                                                 \n",
            " conv2d_1 (Conv2D)           (None, 18, 63, 64)        8256      \n",
            "                                                                 \n",
            " max_pooling2d_1 (MaxPooling  (None, 9, 31, 64)        0         \n",
            " 2D)                                                             \n",
            "                                                                 \n",
            " dropout_1 (Dropout)         (None, 9, 31, 64)         0         \n",
            "                                                                 \n",
            " conv2d_2 (Conv2D)           (None, 8, 30, 128)        32896     \n",
            "                                                                 \n",
            " max_pooling2d_2 (MaxPooling  (None, 4, 15, 128)       0         \n",
            " 2D)                                                             \n",
            "                                                                 \n",
            " dropout_2 (Dropout)         (None, 4, 15, 128)        0         \n",
            "                                                                 \n",
            " conv2d_3 (Conv2D)           (None, 3, 14, 256)        131328    \n",
            "                                                                 \n",
            " max_pooling2d_3 (MaxPooling  (None, 1, 7, 256)        0         \n",
            " 2D)                                                             \n",
            "                                                                 \n",
            " dropout_3 (Dropout)         (None, 1, 7, 256)         0         \n",
            "                                                                 \n",
            " global_average_pooling2d (G  (None, 256)              0         \n",
            " lobalAveragePooling2D)                                          \n",
            "                                                                 \n",
            " dense (Dense)               (None, 5)                 1285      \n",
            "                                                                 \n",
            "=================================================================\n",
            "Total params: 173,925\n",
            "Trainable params: 173,925\n",
            "Non-trainable params: 0\n",
            "_________________________________________________________________\n"
          ]
        }
      ]
    },
    {
      "cell_type": "code",
      "source": [
        "import numpy as np\n",
        "from keras.models import Sequential\n",
        "from keras.layers import Dense, Dropout, Activation, Flatten, LSTM\n",
        "from keras.layers import Convolution2D, MaxPooling2D\n",
        "from keras.optimizers import Adam\n",
        "from keras.callbacks import EarlyStopping,ReduceLROnPlateau,ModelCheckpoint,TensorBoard,ProgbarLogger\n",
        "from keras.utils import np_utils\n",
        "from sklearn import metrics \n",
        "from sklearn.metrics import confusion_matrix, classification_report, accuracy_score\n",
        "from sklearn.preprocessing import LabelEncoder\n",
        "import itertools"
      ],
      "metadata": {
        "id": "TWBALSuov8oC"
      },
      "execution_count": 11,
      "outputs": []
    },
    {
      "cell_type": "code",
      "source": [
        "model.compile(loss='categorical_crossentropy', optimizer='Adamax', metrics=['acc'])\n",
        "MAX_PATIENT=12\n",
        "MAX_EPOCHS=300\n",
        "MAX_BATCH=32\n",
        "\n",
        "best_model_file = '/content/drive/MyDrive/heartbeat-sounds/CNN2'\n",
        "# callbacks\n",
        "# removed EarlyStopping(patience=MAX_PATIENT)\n",
        "callback=[ReduceLROnPlateau(patience=MAX_PATIENT, verbose=1),\n",
        "          ModelCheckpoint(filepath=best_model_file, monitor='loss', verbose=1, save_best_only=True)]\n",
        "\n",
        "\n",
        "print (\"training started..... please wait.\")\n",
        "# training\n",
        "history=model.fit(x_train_CNN, y_train, \n",
        "                  batch_size=MAX_BATCH, \n",
        "                  epochs=MAX_EPOCHS,\n",
        "                  verbose=0,\n",
        "                  validation_data=(x_test_CNN, y_test),\n",
        "                  callbacks=callback)"
      ],
      "metadata": {
        "colab": {
          "base_uri": "https://localhost:8080/"
        },
        "id": "iR82a7JBvsPw",
        "outputId": "260f9fc8-ee28-476e-ea85-d4afbfec008d"
      },
      "execution_count": 12,
      "outputs": [
        {
          "output_type": "stream",
          "name": "stdout",
          "text": [
            "training started..... please wait.\n",
            "\n",
            "Epoch 1: loss improved from inf to 4.22028, saving model to /content/drive/MyDrive/heartbeat-sounds/CNN2\n"
          ]
        },
        {
          "output_type": "stream",
          "name": "stderr",
          "text": [
            "WARNING:absl:Found untraced functions such as _jit_compiled_convolution_op, _jit_compiled_convolution_op, _jit_compiled_convolution_op, _jit_compiled_convolution_op while saving (showing 4 of 4). These functions will not be directly callable after loading.\n"
          ]
        },
        {
          "output_type": "stream",
          "name": "stdout",
          "text": [
            "\n",
            "Epoch 2: loss improved from 4.22028 to 1.30703, saving model to /content/drive/MyDrive/heartbeat-sounds/CNN2\n"
          ]
        },
        {
          "output_type": "stream",
          "name": "stderr",
          "text": [
            "WARNING:absl:Found untraced functions such as _jit_compiled_convolution_op, _jit_compiled_convolution_op, _jit_compiled_convolution_op, _jit_compiled_convolution_op while saving (showing 4 of 4). These functions will not be directly callable after loading.\n"
          ]
        },
        {
          "output_type": "stream",
          "name": "stdout",
          "text": [
            "\n",
            "Epoch 3: loss improved from 1.30703 to 1.02286, saving model to /content/drive/MyDrive/heartbeat-sounds/CNN2\n"
          ]
        },
        {
          "output_type": "stream",
          "name": "stderr",
          "text": [
            "WARNING:absl:Found untraced functions such as _jit_compiled_convolution_op, _jit_compiled_convolution_op, _jit_compiled_convolution_op, _jit_compiled_convolution_op while saving (showing 4 of 4). These functions will not be directly callable after loading.\n"
          ]
        },
        {
          "output_type": "stream",
          "name": "stdout",
          "text": [
            "\n",
            "Epoch 4: loss improved from 1.02286 to 0.90530, saving model to /content/drive/MyDrive/heartbeat-sounds/CNN2\n"
          ]
        },
        {
          "output_type": "stream",
          "name": "stderr",
          "text": [
            "WARNING:absl:Found untraced functions such as _jit_compiled_convolution_op, _jit_compiled_convolution_op, _jit_compiled_convolution_op, _jit_compiled_convolution_op while saving (showing 4 of 4). These functions will not be directly callable after loading.\n"
          ]
        },
        {
          "output_type": "stream",
          "name": "stdout",
          "text": [
            "\n",
            "Epoch 5: loss improved from 0.90530 to 0.87709, saving model to /content/drive/MyDrive/heartbeat-sounds/CNN2\n"
          ]
        },
        {
          "output_type": "stream",
          "name": "stderr",
          "text": [
            "WARNING:absl:Found untraced functions such as _jit_compiled_convolution_op, _jit_compiled_convolution_op, _jit_compiled_convolution_op, _jit_compiled_convolution_op while saving (showing 4 of 4). These functions will not be directly callable after loading.\n"
          ]
        },
        {
          "output_type": "stream",
          "name": "stdout",
          "text": [
            "\n",
            "Epoch 6: loss improved from 0.87709 to 0.85282, saving model to /content/drive/MyDrive/heartbeat-sounds/CNN2\n"
          ]
        },
        {
          "output_type": "stream",
          "name": "stderr",
          "text": [
            "WARNING:absl:Found untraced functions such as _jit_compiled_convolution_op, _jit_compiled_convolution_op, _jit_compiled_convolution_op, _jit_compiled_convolution_op while saving (showing 4 of 4). These functions will not be directly callable after loading.\n"
          ]
        },
        {
          "output_type": "stream",
          "name": "stdout",
          "text": [
            "\n",
            "Epoch 7: loss improved from 0.85282 to 0.79128, saving model to /content/drive/MyDrive/heartbeat-sounds/CNN2\n"
          ]
        },
        {
          "output_type": "stream",
          "name": "stderr",
          "text": [
            "WARNING:absl:Found untraced functions such as _jit_compiled_convolution_op, _jit_compiled_convolution_op, _jit_compiled_convolution_op, _jit_compiled_convolution_op while saving (showing 4 of 4). These functions will not be directly callable after loading.\n"
          ]
        },
        {
          "output_type": "stream",
          "name": "stdout",
          "text": [
            "\n",
            "Epoch 8: loss improved from 0.79128 to 0.78972, saving model to /content/drive/MyDrive/heartbeat-sounds/CNN2\n"
          ]
        },
        {
          "output_type": "stream",
          "name": "stderr",
          "text": [
            "WARNING:absl:Found untraced functions such as _jit_compiled_convolution_op, _jit_compiled_convolution_op, _jit_compiled_convolution_op, _jit_compiled_convolution_op while saving (showing 4 of 4). These functions will not be directly callable after loading.\n"
          ]
        },
        {
          "output_type": "stream",
          "name": "stdout",
          "text": [
            "\n",
            "Epoch 9: loss improved from 0.78972 to 0.74957, saving model to /content/drive/MyDrive/heartbeat-sounds/CNN2\n"
          ]
        },
        {
          "output_type": "stream",
          "name": "stderr",
          "text": [
            "WARNING:absl:Found untraced functions such as _jit_compiled_convolution_op, _jit_compiled_convolution_op, _jit_compiled_convolution_op, _jit_compiled_convolution_op while saving (showing 4 of 4). These functions will not be directly callable after loading.\n"
          ]
        },
        {
          "output_type": "stream",
          "name": "stdout",
          "text": [
            "\n",
            "Epoch 10: loss improved from 0.74957 to 0.73034, saving model to /content/drive/MyDrive/heartbeat-sounds/CNN2\n"
          ]
        },
        {
          "output_type": "stream",
          "name": "stderr",
          "text": [
            "WARNING:absl:Found untraced functions such as _jit_compiled_convolution_op, _jit_compiled_convolution_op, _jit_compiled_convolution_op, _jit_compiled_convolution_op while saving (showing 4 of 4). These functions will not be directly callable after loading.\n"
          ]
        },
        {
          "output_type": "stream",
          "name": "stdout",
          "text": [
            "\n",
            "Epoch 11: loss improved from 0.73034 to 0.71625, saving model to /content/drive/MyDrive/heartbeat-sounds/CNN2\n"
          ]
        },
        {
          "output_type": "stream",
          "name": "stderr",
          "text": [
            "WARNING:absl:Found untraced functions such as _jit_compiled_convolution_op, _jit_compiled_convolution_op, _jit_compiled_convolution_op, _jit_compiled_convolution_op while saving (showing 4 of 4). These functions will not be directly callable after loading.\n"
          ]
        },
        {
          "output_type": "stream",
          "name": "stdout",
          "text": [
            "\n",
            "Epoch 12: loss improved from 0.71625 to 0.71576, saving model to /content/drive/MyDrive/heartbeat-sounds/CNN2\n"
          ]
        },
        {
          "output_type": "stream",
          "name": "stderr",
          "text": [
            "WARNING:absl:Found untraced functions such as _jit_compiled_convolution_op, _jit_compiled_convolution_op, _jit_compiled_convolution_op, _jit_compiled_convolution_op while saving (showing 4 of 4). These functions will not be directly callable after loading.\n"
          ]
        },
        {
          "output_type": "stream",
          "name": "stdout",
          "text": [
            "\n",
            "Epoch 13: loss improved from 0.71576 to 0.70239, saving model to /content/drive/MyDrive/heartbeat-sounds/CNN2\n"
          ]
        },
        {
          "output_type": "stream",
          "name": "stderr",
          "text": [
            "WARNING:absl:Found untraced functions such as _jit_compiled_convolution_op, _jit_compiled_convolution_op, _jit_compiled_convolution_op, _jit_compiled_convolution_op while saving (showing 4 of 4). These functions will not be directly callable after loading.\n"
          ]
        },
        {
          "output_type": "stream",
          "name": "stdout",
          "text": [
            "\n",
            "Epoch 14: loss improved from 0.70239 to 0.69192, saving model to /content/drive/MyDrive/heartbeat-sounds/CNN2\n"
          ]
        },
        {
          "output_type": "stream",
          "name": "stderr",
          "text": [
            "WARNING:absl:Found untraced functions such as _jit_compiled_convolution_op, _jit_compiled_convolution_op, _jit_compiled_convolution_op, _jit_compiled_convolution_op while saving (showing 4 of 4). These functions will not be directly callable after loading.\n"
          ]
        },
        {
          "output_type": "stream",
          "name": "stdout",
          "text": [
            "\n",
            "Epoch 15: loss did not improve from 0.69192\n",
            "\n",
            "Epoch 16: loss improved from 0.69192 to 0.68070, saving model to /content/drive/MyDrive/heartbeat-sounds/CNN2\n"
          ]
        },
        {
          "output_type": "stream",
          "name": "stderr",
          "text": [
            "WARNING:absl:Found untraced functions such as _jit_compiled_convolution_op, _jit_compiled_convolution_op, _jit_compiled_convolution_op, _jit_compiled_convolution_op while saving (showing 4 of 4). These functions will not be directly callable after loading.\n"
          ]
        },
        {
          "output_type": "stream",
          "name": "stdout",
          "text": [
            "\n",
            "Epoch 17: loss improved from 0.68070 to 0.67180, saving model to /content/drive/MyDrive/heartbeat-sounds/CNN2\n"
          ]
        },
        {
          "output_type": "stream",
          "name": "stderr",
          "text": [
            "WARNING:absl:Found untraced functions such as _jit_compiled_convolution_op, _jit_compiled_convolution_op, _jit_compiled_convolution_op, _jit_compiled_convolution_op while saving (showing 4 of 4). These functions will not be directly callable after loading.\n"
          ]
        },
        {
          "output_type": "stream",
          "name": "stdout",
          "text": [
            "\n",
            "Epoch 18: loss improved from 0.67180 to 0.65874, saving model to /content/drive/MyDrive/heartbeat-sounds/CNN2\n"
          ]
        },
        {
          "output_type": "stream",
          "name": "stderr",
          "text": [
            "WARNING:absl:Found untraced functions such as _jit_compiled_convolution_op, _jit_compiled_convolution_op, _jit_compiled_convolution_op, _jit_compiled_convolution_op while saving (showing 4 of 4). These functions will not be directly callable after loading.\n"
          ]
        },
        {
          "output_type": "stream",
          "name": "stdout",
          "text": [
            "\n",
            "Epoch 19: loss did not improve from 0.65874\n",
            "\n",
            "Epoch 20: loss did not improve from 0.65874\n",
            "\n",
            "Epoch 21: loss improved from 0.65874 to 0.63346, saving model to /content/drive/MyDrive/heartbeat-sounds/CNN2\n"
          ]
        },
        {
          "output_type": "stream",
          "name": "stderr",
          "text": [
            "WARNING:absl:Found untraced functions such as _jit_compiled_convolution_op, _jit_compiled_convolution_op, _jit_compiled_convolution_op, _jit_compiled_convolution_op while saving (showing 4 of 4). These functions will not be directly callable after loading.\n"
          ]
        },
        {
          "output_type": "stream",
          "name": "stdout",
          "text": [
            "\n",
            "Epoch 22: loss did not improve from 0.63346\n",
            "\n",
            "Epoch 23: loss did not improve from 0.63346\n",
            "\n",
            "Epoch 24: loss improved from 0.63346 to 0.62603, saving model to /content/drive/MyDrive/heartbeat-sounds/CNN2\n"
          ]
        },
        {
          "output_type": "stream",
          "name": "stderr",
          "text": [
            "WARNING:absl:Found untraced functions such as _jit_compiled_convolution_op, _jit_compiled_convolution_op, _jit_compiled_convolution_op, _jit_compiled_convolution_op while saving (showing 4 of 4). These functions will not be directly callable after loading.\n"
          ]
        },
        {
          "output_type": "stream",
          "name": "stdout",
          "text": [
            "\n",
            "Epoch 25: loss did not improve from 0.62603\n",
            "\n",
            "Epoch 26: loss improved from 0.62603 to 0.62220, saving model to /content/drive/MyDrive/heartbeat-sounds/CNN2\n"
          ]
        },
        {
          "output_type": "stream",
          "name": "stderr",
          "text": [
            "WARNING:absl:Found untraced functions such as _jit_compiled_convolution_op, _jit_compiled_convolution_op, _jit_compiled_convolution_op, _jit_compiled_convolution_op while saving (showing 4 of 4). These functions will not be directly callable after loading.\n"
          ]
        },
        {
          "output_type": "stream",
          "name": "stdout",
          "text": [
            "\n",
            "Epoch 27: loss improved from 0.62220 to 0.61823, saving model to /content/drive/MyDrive/heartbeat-sounds/CNN2\n"
          ]
        },
        {
          "output_type": "stream",
          "name": "stderr",
          "text": [
            "WARNING:absl:Found untraced functions such as _jit_compiled_convolution_op, _jit_compiled_convolution_op, _jit_compiled_convolution_op, _jit_compiled_convolution_op while saving (showing 4 of 4). These functions will not be directly callable after loading.\n"
          ]
        },
        {
          "output_type": "stream",
          "name": "stdout",
          "text": [
            "\n",
            "Epoch 28: loss improved from 0.61823 to 0.59666, saving model to /content/drive/MyDrive/heartbeat-sounds/CNN2\n"
          ]
        },
        {
          "output_type": "stream",
          "name": "stderr",
          "text": [
            "WARNING:absl:Found untraced functions such as _jit_compiled_convolution_op, _jit_compiled_convolution_op, _jit_compiled_convolution_op, _jit_compiled_convolution_op while saving (showing 4 of 4). These functions will not be directly callable after loading.\n"
          ]
        },
        {
          "output_type": "stream",
          "name": "stdout",
          "text": [
            "\n",
            "Epoch 29: loss did not improve from 0.59666\n",
            "\n",
            "Epoch 30: loss did not improve from 0.59666\n",
            "\n",
            "Epoch 31: loss improved from 0.59666 to 0.58356, saving model to /content/drive/MyDrive/heartbeat-sounds/CNN2\n"
          ]
        },
        {
          "output_type": "stream",
          "name": "stderr",
          "text": [
            "WARNING:absl:Found untraced functions such as _jit_compiled_convolution_op, _jit_compiled_convolution_op, _jit_compiled_convolution_op, _jit_compiled_convolution_op while saving (showing 4 of 4). These functions will not be directly callable after loading.\n"
          ]
        },
        {
          "output_type": "stream",
          "name": "stdout",
          "text": [
            "\n",
            "Epoch 32: loss did not improve from 0.58356\n",
            "\n",
            "Epoch 33: loss improved from 0.58356 to 0.57908, saving model to /content/drive/MyDrive/heartbeat-sounds/CNN2\n"
          ]
        },
        {
          "output_type": "stream",
          "name": "stderr",
          "text": [
            "WARNING:absl:Found untraced functions such as _jit_compiled_convolution_op, _jit_compiled_convolution_op, _jit_compiled_convolution_op, _jit_compiled_convolution_op while saving (showing 4 of 4). These functions will not be directly callable after loading.\n"
          ]
        },
        {
          "output_type": "stream",
          "name": "stdout",
          "text": [
            "\n",
            "Epoch 34: loss improved from 0.57908 to 0.57817, saving model to /content/drive/MyDrive/heartbeat-sounds/CNN2\n"
          ]
        },
        {
          "output_type": "stream",
          "name": "stderr",
          "text": [
            "WARNING:absl:Found untraced functions such as _jit_compiled_convolution_op, _jit_compiled_convolution_op, _jit_compiled_convolution_op, _jit_compiled_convolution_op while saving (showing 4 of 4). These functions will not be directly callable after loading.\n"
          ]
        },
        {
          "output_type": "stream",
          "name": "stdout",
          "text": [
            "\n",
            "Epoch 35: loss improved from 0.57817 to 0.56848, saving model to /content/drive/MyDrive/heartbeat-sounds/CNN2\n"
          ]
        },
        {
          "output_type": "stream",
          "name": "stderr",
          "text": [
            "WARNING:absl:Found untraced functions such as _jit_compiled_convolution_op, _jit_compiled_convolution_op, _jit_compiled_convolution_op, _jit_compiled_convolution_op while saving (showing 4 of 4). These functions will not be directly callable after loading.\n"
          ]
        },
        {
          "output_type": "stream",
          "name": "stdout",
          "text": [
            "\n",
            "Epoch 36: loss did not improve from 0.56848\n",
            "\n",
            "Epoch 37: loss improved from 0.56848 to 0.55115, saving model to /content/drive/MyDrive/heartbeat-sounds/CNN2\n"
          ]
        },
        {
          "output_type": "stream",
          "name": "stderr",
          "text": [
            "WARNING:absl:Found untraced functions such as _jit_compiled_convolution_op, _jit_compiled_convolution_op, _jit_compiled_convolution_op, _jit_compiled_convolution_op while saving (showing 4 of 4). These functions will not be directly callable after loading.\n"
          ]
        },
        {
          "output_type": "stream",
          "name": "stdout",
          "text": [
            "\n",
            "Epoch 38: loss did not improve from 0.55115\n",
            "\n",
            "Epoch 39: loss did not improve from 0.55115\n",
            "\n",
            "Epoch 40: loss did not improve from 0.55115\n",
            "\n",
            "Epoch 41: loss did not improve from 0.55115\n",
            "\n",
            "Epoch 42: loss did not improve from 0.55115\n",
            "\n",
            "Epoch 43: loss did not improve from 0.55115\n",
            "\n",
            "Epoch 44: loss improved from 0.55115 to 0.54934, saving model to /content/drive/MyDrive/heartbeat-sounds/CNN2\n"
          ]
        },
        {
          "output_type": "stream",
          "name": "stderr",
          "text": [
            "WARNING:absl:Found untraced functions such as _jit_compiled_convolution_op, _jit_compiled_convolution_op, _jit_compiled_convolution_op, _jit_compiled_convolution_op while saving (showing 4 of 4). These functions will not be directly callable after loading.\n"
          ]
        },
        {
          "output_type": "stream",
          "name": "stdout",
          "text": [
            "\n",
            "Epoch 45: loss did not improve from 0.54934\n",
            "\n",
            "Epoch 46: loss improved from 0.54934 to 0.52292, saving model to /content/drive/MyDrive/heartbeat-sounds/CNN2\n"
          ]
        },
        {
          "output_type": "stream",
          "name": "stderr",
          "text": [
            "WARNING:absl:Found untraced functions such as _jit_compiled_convolution_op, _jit_compiled_convolution_op, _jit_compiled_convolution_op, _jit_compiled_convolution_op while saving (showing 4 of 4). These functions will not be directly callable after loading.\n"
          ]
        },
        {
          "output_type": "stream",
          "name": "stdout",
          "text": [
            "\n",
            "Epoch 47: loss improved from 0.52292 to 0.52129, saving model to /content/drive/MyDrive/heartbeat-sounds/CNN2\n"
          ]
        },
        {
          "output_type": "stream",
          "name": "stderr",
          "text": [
            "WARNING:absl:Found untraced functions such as _jit_compiled_convolution_op, _jit_compiled_convolution_op, _jit_compiled_convolution_op, _jit_compiled_convolution_op while saving (showing 4 of 4). These functions will not be directly callable after loading.\n"
          ]
        },
        {
          "output_type": "stream",
          "name": "stdout",
          "text": [
            "\n",
            "Epoch 48: loss improved from 0.52129 to 0.51643, saving model to /content/drive/MyDrive/heartbeat-sounds/CNN2\n"
          ]
        },
        {
          "output_type": "stream",
          "name": "stderr",
          "text": [
            "WARNING:absl:Found untraced functions such as _jit_compiled_convolution_op, _jit_compiled_convolution_op, _jit_compiled_convolution_op, _jit_compiled_convolution_op while saving (showing 4 of 4). These functions will not be directly callable after loading.\n"
          ]
        },
        {
          "output_type": "stream",
          "name": "stdout",
          "text": [
            "\n",
            "Epoch 49: loss improved from 0.51643 to 0.51312, saving model to /content/drive/MyDrive/heartbeat-sounds/CNN2\n"
          ]
        },
        {
          "output_type": "stream",
          "name": "stderr",
          "text": [
            "WARNING:absl:Found untraced functions such as _jit_compiled_convolution_op, _jit_compiled_convolution_op, _jit_compiled_convolution_op, _jit_compiled_convolution_op while saving (showing 4 of 4). These functions will not be directly callable after loading.\n"
          ]
        },
        {
          "output_type": "stream",
          "name": "stdout",
          "text": [
            "\n",
            "Epoch 50: loss did not improve from 0.51312\n",
            "\n",
            "Epoch 51: loss improved from 0.51312 to 0.50087, saving model to /content/drive/MyDrive/heartbeat-sounds/CNN2\n"
          ]
        },
        {
          "output_type": "stream",
          "name": "stderr",
          "text": [
            "WARNING:absl:Found untraced functions such as _jit_compiled_convolution_op, _jit_compiled_convolution_op, _jit_compiled_convolution_op, _jit_compiled_convolution_op while saving (showing 4 of 4). These functions will not be directly callable after loading.\n"
          ]
        },
        {
          "output_type": "stream",
          "name": "stdout",
          "text": [
            "\n",
            "Epoch 52: loss did not improve from 0.50087\n",
            "\n",
            "Epoch 53: loss improved from 0.50087 to 0.48278, saving model to /content/drive/MyDrive/heartbeat-sounds/CNN2\n"
          ]
        },
        {
          "output_type": "stream",
          "name": "stderr",
          "text": [
            "WARNING:absl:Found untraced functions such as _jit_compiled_convolution_op, _jit_compiled_convolution_op, _jit_compiled_convolution_op, _jit_compiled_convolution_op while saving (showing 4 of 4). These functions will not be directly callable after loading.\n"
          ]
        },
        {
          "output_type": "stream",
          "name": "stdout",
          "text": [
            "\n",
            "Epoch 54: loss did not improve from 0.48278\n",
            "\n",
            "Epoch 55: loss did not improve from 0.48278\n",
            "\n",
            "Epoch 56: loss did not improve from 0.48278\n",
            "\n",
            "Epoch 57: loss did not improve from 0.48278\n",
            "\n",
            "Epoch 58: loss did not improve from 0.48278\n",
            "\n",
            "Epoch 59: loss improved from 0.48278 to 0.47852, saving model to /content/drive/MyDrive/heartbeat-sounds/CNN2\n"
          ]
        },
        {
          "output_type": "stream",
          "name": "stderr",
          "text": [
            "WARNING:absl:Found untraced functions such as _jit_compiled_convolution_op, _jit_compiled_convolution_op, _jit_compiled_convolution_op, _jit_compiled_convolution_op while saving (showing 4 of 4). These functions will not be directly callable after loading.\n"
          ]
        },
        {
          "output_type": "stream",
          "name": "stdout",
          "text": [
            "\n",
            "Epoch 60: loss did not improve from 0.47852\n",
            "\n",
            "Epoch 61: loss did not improve from 0.47852\n",
            "\n",
            "Epoch 62: loss did not improve from 0.47852\n",
            "\n",
            "Epoch 63: loss improved from 0.47852 to 0.46767, saving model to /content/drive/MyDrive/heartbeat-sounds/CNN2\n"
          ]
        },
        {
          "output_type": "stream",
          "name": "stderr",
          "text": [
            "WARNING:absl:Found untraced functions such as _jit_compiled_convolution_op, _jit_compiled_convolution_op, _jit_compiled_convolution_op, _jit_compiled_convolution_op while saving (showing 4 of 4). These functions will not be directly callable after loading.\n"
          ]
        },
        {
          "output_type": "stream",
          "name": "stdout",
          "text": [
            "\n",
            "Epoch 64: loss improved from 0.46767 to 0.45677, saving model to /content/drive/MyDrive/heartbeat-sounds/CNN2\n"
          ]
        },
        {
          "output_type": "stream",
          "name": "stderr",
          "text": [
            "WARNING:absl:Found untraced functions such as _jit_compiled_convolution_op, _jit_compiled_convolution_op, _jit_compiled_convolution_op, _jit_compiled_convolution_op while saving (showing 4 of 4). These functions will not be directly callable after loading.\n"
          ]
        },
        {
          "output_type": "stream",
          "name": "stdout",
          "text": [
            "\n",
            "Epoch 65: loss did not improve from 0.45677\n",
            "\n",
            "Epoch 66: loss improved from 0.45677 to 0.43140, saving model to /content/drive/MyDrive/heartbeat-sounds/CNN2\n"
          ]
        },
        {
          "output_type": "stream",
          "name": "stderr",
          "text": [
            "WARNING:absl:Found untraced functions such as _jit_compiled_convolution_op, _jit_compiled_convolution_op, _jit_compiled_convolution_op, _jit_compiled_convolution_op while saving (showing 4 of 4). These functions will not be directly callable after loading.\n"
          ]
        },
        {
          "output_type": "stream",
          "name": "stdout",
          "text": [
            "\n",
            "Epoch 67: loss did not improve from 0.43140\n",
            "\n",
            "Epoch 68: loss did not improve from 0.43140\n",
            "\n",
            "Epoch 69: loss did not improve from 0.43140\n",
            "\n",
            "Epoch 70: loss did not improve from 0.43140\n",
            "\n",
            "Epoch 71: loss improved from 0.43140 to 0.42091, saving model to /content/drive/MyDrive/heartbeat-sounds/CNN2\n"
          ]
        },
        {
          "output_type": "stream",
          "name": "stderr",
          "text": [
            "WARNING:absl:Found untraced functions such as _jit_compiled_convolution_op, _jit_compiled_convolution_op, _jit_compiled_convolution_op, _jit_compiled_convolution_op while saving (showing 4 of 4). These functions will not be directly callable after loading.\n"
          ]
        },
        {
          "output_type": "stream",
          "name": "stdout",
          "text": [
            "\n",
            "Epoch 72: loss did not improve from 0.42091\n",
            "\n",
            "Epoch 73: loss did not improve from 0.42091\n",
            "\n",
            "Epoch 74: loss did not improve from 0.42091\n",
            "\n",
            "Epoch 75: loss improved from 0.42091 to 0.40170, saving model to /content/drive/MyDrive/heartbeat-sounds/CNN2\n"
          ]
        },
        {
          "output_type": "stream",
          "name": "stderr",
          "text": [
            "WARNING:absl:Found untraced functions such as _jit_compiled_convolution_op, _jit_compiled_convolution_op, _jit_compiled_convolution_op, _jit_compiled_convolution_op while saving (showing 4 of 4). These functions will not be directly callable after loading.\n"
          ]
        },
        {
          "output_type": "stream",
          "name": "stdout",
          "text": [
            "\n",
            "Epoch 76: loss did not improve from 0.40170\n",
            "\n",
            "Epoch 77: loss did not improve from 0.40170\n",
            "\n",
            "Epoch 78: loss improved from 0.40170 to 0.39279, saving model to /content/drive/MyDrive/heartbeat-sounds/CNN2\n"
          ]
        },
        {
          "output_type": "stream",
          "name": "stderr",
          "text": [
            "WARNING:absl:Found untraced functions such as _jit_compiled_convolution_op, _jit_compiled_convolution_op, _jit_compiled_convolution_op, _jit_compiled_convolution_op while saving (showing 4 of 4). These functions will not be directly callable after loading.\n"
          ]
        },
        {
          "output_type": "stream",
          "name": "stdout",
          "text": [
            "\n",
            "Epoch 79: loss did not improve from 0.39279\n",
            "\n",
            "Epoch 80: loss did not improve from 0.39279\n",
            "\n",
            "Epoch 81: loss did not improve from 0.39279\n",
            "\n",
            "Epoch 82: loss did not improve from 0.39279\n",
            "\n",
            "Epoch 83: loss did not improve from 0.39279\n",
            "\n",
            "Epoch 84: loss did not improve from 0.39279\n",
            "\n",
            "Epoch 85: loss improved from 0.39279 to 0.37233, saving model to /content/drive/MyDrive/heartbeat-sounds/CNN2\n"
          ]
        },
        {
          "output_type": "stream",
          "name": "stderr",
          "text": [
            "WARNING:absl:Found untraced functions such as _jit_compiled_convolution_op, _jit_compiled_convolution_op, _jit_compiled_convolution_op, _jit_compiled_convolution_op while saving (showing 4 of 4). These functions will not be directly callable after loading.\n"
          ]
        },
        {
          "output_type": "stream",
          "name": "stdout",
          "text": [
            "\n",
            "Epoch 86: loss did not improve from 0.37233\n",
            "\n",
            "Epoch 87: loss improved from 0.37233 to 0.36983, saving model to /content/drive/MyDrive/heartbeat-sounds/CNN2\n"
          ]
        },
        {
          "output_type": "stream",
          "name": "stderr",
          "text": [
            "WARNING:absl:Found untraced functions such as _jit_compiled_convolution_op, _jit_compiled_convolution_op, _jit_compiled_convolution_op, _jit_compiled_convolution_op while saving (showing 4 of 4). These functions will not be directly callable after loading.\n"
          ]
        },
        {
          "output_type": "stream",
          "name": "stdout",
          "text": [
            "\n",
            "Epoch 88: loss improved from 0.36983 to 0.36907, saving model to /content/drive/MyDrive/heartbeat-sounds/CNN2\n"
          ]
        },
        {
          "output_type": "stream",
          "name": "stderr",
          "text": [
            "WARNING:absl:Found untraced functions such as _jit_compiled_convolution_op, _jit_compiled_convolution_op, _jit_compiled_convolution_op, _jit_compiled_convolution_op while saving (showing 4 of 4). These functions will not be directly callable after loading.\n"
          ]
        },
        {
          "output_type": "stream",
          "name": "stdout",
          "text": [
            "\n",
            "Epoch 89: loss improved from 0.36907 to 0.36493, saving model to /content/drive/MyDrive/heartbeat-sounds/CNN2\n"
          ]
        },
        {
          "output_type": "stream",
          "name": "stderr",
          "text": [
            "WARNING:absl:Found untraced functions such as _jit_compiled_convolution_op, _jit_compiled_convolution_op, _jit_compiled_convolution_op, _jit_compiled_convolution_op while saving (showing 4 of 4). These functions will not be directly callable after loading.\n"
          ]
        },
        {
          "output_type": "stream",
          "name": "stdout",
          "text": [
            "\n",
            "Epoch 90: loss improved from 0.36493 to 0.35693, saving model to /content/drive/MyDrive/heartbeat-sounds/CNN2\n"
          ]
        },
        {
          "output_type": "stream",
          "name": "stderr",
          "text": [
            "WARNING:absl:Found untraced functions such as _jit_compiled_convolution_op, _jit_compiled_convolution_op, _jit_compiled_convolution_op, _jit_compiled_convolution_op while saving (showing 4 of 4). These functions will not be directly callable after loading.\n"
          ]
        },
        {
          "output_type": "stream",
          "name": "stdout",
          "text": [
            "\n",
            "Epoch 91: loss did not improve from 0.35693\n",
            "\n",
            "Epoch 92: loss did not improve from 0.35693\n",
            "\n",
            "Epoch 93: loss did not improve from 0.35693\n",
            "\n",
            "Epoch 94: loss did not improve from 0.35693\n",
            "\n",
            "Epoch 95: loss did not improve from 0.35693\n",
            "\n",
            "Epoch 96: loss improved from 0.35693 to 0.35145, saving model to /content/drive/MyDrive/heartbeat-sounds/CNN2\n"
          ]
        },
        {
          "output_type": "stream",
          "name": "stderr",
          "text": [
            "WARNING:absl:Found untraced functions such as _jit_compiled_convolution_op, _jit_compiled_convolution_op, _jit_compiled_convolution_op, _jit_compiled_convolution_op while saving (showing 4 of 4). These functions will not be directly callable after loading.\n"
          ]
        },
        {
          "output_type": "stream",
          "name": "stdout",
          "text": [
            "\n",
            "Epoch 97: loss did not improve from 0.35145\n",
            "\n",
            "Epoch 98: loss improved from 0.35145 to 0.32837, saving model to /content/drive/MyDrive/heartbeat-sounds/CNN2\n"
          ]
        },
        {
          "output_type": "stream",
          "name": "stderr",
          "text": [
            "WARNING:absl:Found untraced functions such as _jit_compiled_convolution_op, _jit_compiled_convolution_op, _jit_compiled_convolution_op, _jit_compiled_convolution_op while saving (showing 4 of 4). These functions will not be directly callable after loading.\n"
          ]
        },
        {
          "output_type": "stream",
          "name": "stdout",
          "text": [
            "\n",
            "Epoch 99: loss improved from 0.32837 to 0.32792, saving model to /content/drive/MyDrive/heartbeat-sounds/CNN2\n"
          ]
        },
        {
          "output_type": "stream",
          "name": "stderr",
          "text": [
            "WARNING:absl:Found untraced functions such as _jit_compiled_convolution_op, _jit_compiled_convolution_op, _jit_compiled_convolution_op, _jit_compiled_convolution_op while saving (showing 4 of 4). These functions will not be directly callable after loading.\n"
          ]
        },
        {
          "output_type": "stream",
          "name": "stdout",
          "text": [
            "\n",
            "Epoch 100: loss did not improve from 0.32792\n",
            "\n",
            "Epoch 101: loss improved from 0.32792 to 0.32606, saving model to /content/drive/MyDrive/heartbeat-sounds/CNN2\n"
          ]
        },
        {
          "output_type": "stream",
          "name": "stderr",
          "text": [
            "WARNING:absl:Found untraced functions such as _jit_compiled_convolution_op, _jit_compiled_convolution_op, _jit_compiled_convolution_op, _jit_compiled_convolution_op while saving (showing 4 of 4). These functions will not be directly callable after loading.\n"
          ]
        },
        {
          "output_type": "stream",
          "name": "stdout",
          "text": [
            "\n",
            "Epoch 102: loss did not improve from 0.32606\n",
            "\n",
            "Epoch 103: loss did not improve from 0.32606\n",
            "\n",
            "Epoch 104: loss did not improve from 0.32606\n",
            "\n",
            "Epoch 105: loss improved from 0.32606 to 0.32172, saving model to /content/drive/MyDrive/heartbeat-sounds/CNN2\n"
          ]
        },
        {
          "output_type": "stream",
          "name": "stderr",
          "text": [
            "WARNING:absl:Found untraced functions such as _jit_compiled_convolution_op, _jit_compiled_convolution_op, _jit_compiled_convolution_op, _jit_compiled_convolution_op while saving (showing 4 of 4). These functions will not be directly callable after loading.\n"
          ]
        },
        {
          "output_type": "stream",
          "name": "stdout",
          "text": [
            "\n",
            "Epoch 106: loss improved from 0.32172 to 0.32095, saving model to /content/drive/MyDrive/heartbeat-sounds/CNN2\n"
          ]
        },
        {
          "output_type": "stream",
          "name": "stderr",
          "text": [
            "WARNING:absl:Found untraced functions such as _jit_compiled_convolution_op, _jit_compiled_convolution_op, _jit_compiled_convolution_op, _jit_compiled_convolution_op while saving (showing 4 of 4). These functions will not be directly callable after loading.\n"
          ]
        },
        {
          "output_type": "stream",
          "name": "stdout",
          "text": [
            "\n",
            "Epoch 107: loss improved from 0.32095 to 0.31786, saving model to /content/drive/MyDrive/heartbeat-sounds/CNN2\n"
          ]
        },
        {
          "output_type": "stream",
          "name": "stderr",
          "text": [
            "WARNING:absl:Found untraced functions such as _jit_compiled_convolution_op, _jit_compiled_convolution_op, _jit_compiled_convolution_op, _jit_compiled_convolution_op while saving (showing 4 of 4). These functions will not be directly callable after loading.\n"
          ]
        },
        {
          "output_type": "stream",
          "name": "stdout",
          "text": [
            "\n",
            "Epoch 108: loss improved from 0.31786 to 0.29198, saving model to /content/drive/MyDrive/heartbeat-sounds/CNN2\n"
          ]
        },
        {
          "output_type": "stream",
          "name": "stderr",
          "text": [
            "WARNING:absl:Found untraced functions such as _jit_compiled_convolution_op, _jit_compiled_convolution_op, _jit_compiled_convolution_op, _jit_compiled_convolution_op while saving (showing 4 of 4). These functions will not be directly callable after loading.\n"
          ]
        },
        {
          "output_type": "stream",
          "name": "stdout",
          "text": [
            "\n",
            "Epoch 109: loss did not improve from 0.29198\n",
            "\n",
            "Epoch 110: loss improved from 0.29198 to 0.28184, saving model to /content/drive/MyDrive/heartbeat-sounds/CNN2\n"
          ]
        },
        {
          "output_type": "stream",
          "name": "stderr",
          "text": [
            "WARNING:absl:Found untraced functions such as _jit_compiled_convolution_op, _jit_compiled_convolution_op, _jit_compiled_convolution_op, _jit_compiled_convolution_op while saving (showing 4 of 4). These functions will not be directly callable after loading.\n"
          ]
        },
        {
          "output_type": "stream",
          "name": "stdout",
          "text": [
            "\n",
            "Epoch 111: loss did not improve from 0.28184\n",
            "\n",
            "Epoch 112: loss did not improve from 0.28184\n",
            "\n",
            "Epoch 113: loss did not improve from 0.28184\n",
            "\n",
            "Epoch 114: loss did not improve from 0.28184\n",
            "\n",
            "Epoch 115: loss improved from 0.28184 to 0.28145, saving model to /content/drive/MyDrive/heartbeat-sounds/CNN2\n"
          ]
        },
        {
          "output_type": "stream",
          "name": "stderr",
          "text": [
            "WARNING:absl:Found untraced functions such as _jit_compiled_convolution_op, _jit_compiled_convolution_op, _jit_compiled_convolution_op, _jit_compiled_convolution_op while saving (showing 4 of 4). These functions will not be directly callable after loading.\n"
          ]
        },
        {
          "output_type": "stream",
          "name": "stdout",
          "text": [
            "\n",
            "Epoch 116: loss did not improve from 0.28145\n",
            "\n",
            "Epoch 117: loss did not improve from 0.28145\n",
            "\n",
            "Epoch 118: loss improved from 0.28145 to 0.26921, saving model to /content/drive/MyDrive/heartbeat-sounds/CNN2\n"
          ]
        },
        {
          "output_type": "stream",
          "name": "stderr",
          "text": [
            "WARNING:absl:Found untraced functions such as _jit_compiled_convolution_op, _jit_compiled_convolution_op, _jit_compiled_convolution_op, _jit_compiled_convolution_op while saving (showing 4 of 4). These functions will not be directly callable after loading.\n"
          ]
        },
        {
          "output_type": "stream",
          "name": "stdout",
          "text": [
            "\n",
            "Epoch 119: loss improved from 0.26921 to 0.26647, saving model to /content/drive/MyDrive/heartbeat-sounds/CNN2\n"
          ]
        },
        {
          "output_type": "stream",
          "name": "stderr",
          "text": [
            "WARNING:absl:Found untraced functions such as _jit_compiled_convolution_op, _jit_compiled_convolution_op, _jit_compiled_convolution_op, _jit_compiled_convolution_op while saving (showing 4 of 4). These functions will not be directly callable after loading.\n"
          ]
        },
        {
          "output_type": "stream",
          "name": "stdout",
          "text": [
            "\n",
            "Epoch 120: loss did not improve from 0.26647\n",
            "\n",
            "Epoch 121: loss did not improve from 0.26647\n",
            "\n",
            "Epoch 122: loss did not improve from 0.26647\n",
            "\n",
            "Epoch 123: loss did not improve from 0.26647\n",
            "\n",
            "Epoch 124: loss did not improve from 0.26647\n",
            "\n",
            "Epoch 125: loss improved from 0.26647 to 0.25576, saving model to /content/drive/MyDrive/heartbeat-sounds/CNN2\n"
          ]
        },
        {
          "output_type": "stream",
          "name": "stderr",
          "text": [
            "WARNING:absl:Found untraced functions such as _jit_compiled_convolution_op, _jit_compiled_convolution_op, _jit_compiled_convolution_op, _jit_compiled_convolution_op while saving (showing 4 of 4). These functions will not be directly callable after loading.\n"
          ]
        },
        {
          "output_type": "stream",
          "name": "stdout",
          "text": [
            "\n",
            "Epoch 126: loss did not improve from 0.25576\n",
            "\n",
            "Epoch 127: loss improved from 0.25576 to 0.25003, saving model to /content/drive/MyDrive/heartbeat-sounds/CNN2\n"
          ]
        },
        {
          "output_type": "stream",
          "name": "stderr",
          "text": [
            "WARNING:absl:Found untraced functions such as _jit_compiled_convolution_op, _jit_compiled_convolution_op, _jit_compiled_convolution_op, _jit_compiled_convolution_op while saving (showing 4 of 4). These functions will not be directly callable after loading.\n"
          ]
        },
        {
          "output_type": "stream",
          "name": "stdout",
          "text": [
            "\n",
            "Epoch 128: loss improved from 0.25003 to 0.24053, saving model to /content/drive/MyDrive/heartbeat-sounds/CNN2\n"
          ]
        },
        {
          "output_type": "stream",
          "name": "stderr",
          "text": [
            "WARNING:absl:Found untraced functions such as _jit_compiled_convolution_op, _jit_compiled_convolution_op, _jit_compiled_convolution_op, _jit_compiled_convolution_op while saving (showing 4 of 4). These functions will not be directly callable after loading.\n"
          ]
        },
        {
          "output_type": "stream",
          "name": "stdout",
          "text": [
            "\n",
            "Epoch 129: loss did not improve from 0.24053\n",
            "\n",
            "Epoch 130: loss improved from 0.24053 to 0.22737, saving model to /content/drive/MyDrive/heartbeat-sounds/CNN2\n"
          ]
        },
        {
          "output_type": "stream",
          "name": "stderr",
          "text": [
            "WARNING:absl:Found untraced functions such as _jit_compiled_convolution_op, _jit_compiled_convolution_op, _jit_compiled_convolution_op, _jit_compiled_convolution_op while saving (showing 4 of 4). These functions will not be directly callable after loading.\n"
          ]
        },
        {
          "output_type": "stream",
          "name": "stdout",
          "text": [
            "\n",
            "Epoch 131: loss improved from 0.22737 to 0.22497, saving model to /content/drive/MyDrive/heartbeat-sounds/CNN2\n"
          ]
        },
        {
          "output_type": "stream",
          "name": "stderr",
          "text": [
            "WARNING:absl:Found untraced functions such as _jit_compiled_convolution_op, _jit_compiled_convolution_op, _jit_compiled_convolution_op, _jit_compiled_convolution_op while saving (showing 4 of 4). These functions will not be directly callable after loading.\n"
          ]
        },
        {
          "output_type": "stream",
          "name": "stdout",
          "text": [
            "\n",
            "Epoch 132: loss did not improve from 0.22497\n",
            "\n",
            "Epoch 133: loss did not improve from 0.22497\n",
            "\n",
            "Epoch 134: loss did not improve from 0.22497\n",
            "\n",
            "Epoch 135: loss did not improve from 0.22497\n",
            "\n",
            "Epoch 136: loss did not improve from 0.22497\n",
            "\n",
            "Epoch 137: loss did not improve from 0.22497\n",
            "\n",
            "Epoch 138: loss improved from 0.22497 to 0.21577, saving model to /content/drive/MyDrive/heartbeat-sounds/CNN2\n"
          ]
        },
        {
          "output_type": "stream",
          "name": "stderr",
          "text": [
            "WARNING:absl:Found untraced functions such as _jit_compiled_convolution_op, _jit_compiled_convolution_op, _jit_compiled_convolution_op, _jit_compiled_convolution_op while saving (showing 4 of 4). These functions will not be directly callable after loading.\n"
          ]
        },
        {
          "output_type": "stream",
          "name": "stdout",
          "text": [
            "\n",
            "Epoch 139: loss did not improve from 0.21577\n",
            "\n",
            "Epoch 140: loss did not improve from 0.21577\n",
            "\n",
            "Epoch 141: loss did not improve from 0.21577\n",
            "\n",
            "Epoch 142: loss improved from 0.21577 to 0.20810, saving model to /content/drive/MyDrive/heartbeat-sounds/CNN2\n"
          ]
        },
        {
          "output_type": "stream",
          "name": "stderr",
          "text": [
            "WARNING:absl:Found untraced functions such as _jit_compiled_convolution_op, _jit_compiled_convolution_op, _jit_compiled_convolution_op, _jit_compiled_convolution_op while saving (showing 4 of 4). These functions will not be directly callable after loading.\n"
          ]
        },
        {
          "output_type": "stream",
          "name": "stdout",
          "text": [
            "\n",
            "Epoch 143: loss did not improve from 0.20810\n",
            "\n",
            "Epoch 144: loss improved from 0.20810 to 0.18885, saving model to /content/drive/MyDrive/heartbeat-sounds/CNN2\n"
          ]
        },
        {
          "output_type": "stream",
          "name": "stderr",
          "text": [
            "WARNING:absl:Found untraced functions such as _jit_compiled_convolution_op, _jit_compiled_convolution_op, _jit_compiled_convolution_op, _jit_compiled_convolution_op while saving (showing 4 of 4). These functions will not be directly callable after loading.\n"
          ]
        },
        {
          "output_type": "stream",
          "name": "stdout",
          "text": [
            "\n",
            "Epoch 145: loss did not improve from 0.18885\n",
            "\n",
            "Epoch 146: loss did not improve from 0.18885\n",
            "\n",
            "Epoch 147: loss did not improve from 0.18885\n",
            "\n",
            "Epoch 148: loss did not improve from 0.18885\n",
            "\n",
            "Epoch 149: loss did not improve from 0.18885\n",
            "\n",
            "Epoch 150: loss did not improve from 0.18885\n",
            "\n",
            "Epoch 151: loss did not improve from 0.18885\n",
            "\n",
            "Epoch 152: loss did not improve from 0.18885\n",
            "\n",
            "Epoch 153: loss improved from 0.18885 to 0.17862, saving model to /content/drive/MyDrive/heartbeat-sounds/CNN2\n"
          ]
        },
        {
          "output_type": "stream",
          "name": "stderr",
          "text": [
            "WARNING:absl:Found untraced functions such as _jit_compiled_convolution_op, _jit_compiled_convolution_op, _jit_compiled_convolution_op, _jit_compiled_convolution_op while saving (showing 4 of 4). These functions will not be directly callable after loading.\n"
          ]
        },
        {
          "output_type": "stream",
          "name": "stdout",
          "text": [
            "\n",
            "Epoch 154: loss did not improve from 0.17862\n",
            "\n",
            "Epoch 155: loss did not improve from 0.17862\n",
            "\n",
            "Epoch 156: loss did not improve from 0.17862\n",
            "\n",
            "Epoch 157: loss improved from 0.17862 to 0.17668, saving model to /content/drive/MyDrive/heartbeat-sounds/CNN2\n"
          ]
        },
        {
          "output_type": "stream",
          "name": "stderr",
          "text": [
            "WARNING:absl:Found untraced functions such as _jit_compiled_convolution_op, _jit_compiled_convolution_op, _jit_compiled_convolution_op, _jit_compiled_convolution_op while saving (showing 4 of 4). These functions will not be directly callable after loading.\n"
          ]
        },
        {
          "output_type": "stream",
          "name": "stdout",
          "text": [
            "\n",
            "Epoch 158: loss did not improve from 0.17668\n",
            "\n",
            "Epoch 159: loss improved from 0.17668 to 0.17315, saving model to /content/drive/MyDrive/heartbeat-sounds/CNN2\n"
          ]
        },
        {
          "output_type": "stream",
          "name": "stderr",
          "text": [
            "WARNING:absl:Found untraced functions such as _jit_compiled_convolution_op, _jit_compiled_convolution_op, _jit_compiled_convolution_op, _jit_compiled_convolution_op while saving (showing 4 of 4). These functions will not be directly callable after loading.\n"
          ]
        },
        {
          "output_type": "stream",
          "name": "stdout",
          "text": [
            "\n",
            "Epoch 160: loss did not improve from 0.17315\n",
            "\n",
            "Epoch 161: loss improved from 0.17315 to 0.16993, saving model to /content/drive/MyDrive/heartbeat-sounds/CNN2\n"
          ]
        },
        {
          "output_type": "stream",
          "name": "stderr",
          "text": [
            "WARNING:absl:Found untraced functions such as _jit_compiled_convolution_op, _jit_compiled_convolution_op, _jit_compiled_convolution_op, _jit_compiled_convolution_op while saving (showing 4 of 4). These functions will not be directly callable after loading.\n"
          ]
        },
        {
          "output_type": "stream",
          "name": "stdout",
          "text": [
            "\n",
            "Epoch 162: loss did not improve from 0.16993\n",
            "\n",
            "Epoch 163: loss improved from 0.16993 to 0.15066, saving model to /content/drive/MyDrive/heartbeat-sounds/CNN2\n"
          ]
        },
        {
          "output_type": "stream",
          "name": "stderr",
          "text": [
            "WARNING:absl:Found untraced functions such as _jit_compiled_convolution_op, _jit_compiled_convolution_op, _jit_compiled_convolution_op, _jit_compiled_convolution_op while saving (showing 4 of 4). These functions will not be directly callable after loading.\n"
          ]
        },
        {
          "output_type": "stream",
          "name": "stdout",
          "text": [
            "\n",
            "Epoch 164: loss did not improve from 0.15066\n",
            "\n",
            "Epoch 165: loss did not improve from 0.15066\n",
            "\n",
            "Epoch 166: loss did not improve from 0.15066\n",
            "\n",
            "Epoch 167: loss did not improve from 0.15066\n",
            "\n",
            "Epoch 168: loss did not improve from 0.15066\n",
            "\n",
            "Epoch 169: loss did not improve from 0.15066\n",
            "\n",
            "Epoch 170: loss did not improve from 0.15066\n",
            "\n",
            "Epoch 171: loss did not improve from 0.15066\n",
            "\n",
            "Epoch 172: loss improved from 0.15066 to 0.13398, saving model to /content/drive/MyDrive/heartbeat-sounds/CNN2\n"
          ]
        },
        {
          "output_type": "stream",
          "name": "stderr",
          "text": [
            "WARNING:absl:Found untraced functions such as _jit_compiled_convolution_op, _jit_compiled_convolution_op, _jit_compiled_convolution_op, _jit_compiled_convolution_op while saving (showing 4 of 4). These functions will not be directly callable after loading.\n"
          ]
        },
        {
          "output_type": "stream",
          "name": "stdout",
          "text": [
            "\n",
            "Epoch 173: loss improved from 0.13398 to 0.12569, saving model to /content/drive/MyDrive/heartbeat-sounds/CNN2\n"
          ]
        },
        {
          "output_type": "stream",
          "name": "stderr",
          "text": [
            "WARNING:absl:Found untraced functions such as _jit_compiled_convolution_op, _jit_compiled_convolution_op, _jit_compiled_convolution_op, _jit_compiled_convolution_op while saving (showing 4 of 4). These functions will not be directly callable after loading.\n"
          ]
        },
        {
          "output_type": "stream",
          "name": "stdout",
          "text": [
            "\n",
            "Epoch 174: loss did not improve from 0.12569\n",
            "\n",
            "Epoch 175: loss did not improve from 0.12569\n",
            "\n",
            "Epoch 176: loss did not improve from 0.12569\n",
            "\n",
            "Epoch 177: loss did not improve from 0.12569\n",
            "\n",
            "Epoch 178: loss did not improve from 0.12569\n",
            "\n",
            "Epoch 179: loss did not improve from 0.12569\n",
            "\n",
            "Epoch 180: loss did not improve from 0.12569\n",
            "\n",
            "Epoch 181: loss did not improve from 0.12569\n",
            "\n",
            "Epoch 182: loss did not improve from 0.12569\n",
            "\n",
            "Epoch 183: loss did not improve from 0.12569\n",
            "\n",
            "Epoch 184: loss did not improve from 0.12569\n",
            "\n",
            "Epoch 185: loss did not improve from 0.12569\n",
            "\n",
            "Epoch 186: loss improved from 0.12569 to 0.12384, saving model to /content/drive/MyDrive/heartbeat-sounds/CNN2\n"
          ]
        },
        {
          "output_type": "stream",
          "name": "stderr",
          "text": [
            "WARNING:absl:Found untraced functions such as _jit_compiled_convolution_op, _jit_compiled_convolution_op, _jit_compiled_convolution_op, _jit_compiled_convolution_op while saving (showing 4 of 4). These functions will not be directly callable after loading.\n"
          ]
        },
        {
          "output_type": "stream",
          "name": "stdout",
          "text": [
            "\n",
            "Epoch 187: loss did not improve from 0.12384\n",
            "\n",
            "Epoch 188: loss did not improve from 0.12384\n",
            "\n",
            "Epoch 189: ReduceLROnPlateau reducing learning rate to 0.00010000000474974513.\n",
            "\n",
            "Epoch 189: loss improved from 0.12384 to 0.11914, saving model to /content/drive/MyDrive/heartbeat-sounds/CNN2\n"
          ]
        },
        {
          "output_type": "stream",
          "name": "stderr",
          "text": [
            "WARNING:absl:Found untraced functions such as _jit_compiled_convolution_op, _jit_compiled_convolution_op, _jit_compiled_convolution_op, _jit_compiled_convolution_op while saving (showing 4 of 4). These functions will not be directly callable after loading.\n"
          ]
        },
        {
          "output_type": "stream",
          "name": "stdout",
          "text": [
            "\n",
            "Epoch 190: loss improved from 0.11914 to 0.11304, saving model to /content/drive/MyDrive/heartbeat-sounds/CNN2\n"
          ]
        },
        {
          "output_type": "stream",
          "name": "stderr",
          "text": [
            "WARNING:absl:Found untraced functions such as _jit_compiled_convolution_op, _jit_compiled_convolution_op, _jit_compiled_convolution_op, _jit_compiled_convolution_op while saving (showing 4 of 4). These functions will not be directly callable after loading.\n"
          ]
        },
        {
          "output_type": "stream",
          "name": "stdout",
          "text": [
            "\n",
            "Epoch 191: loss improved from 0.11304 to 0.10260, saving model to /content/drive/MyDrive/heartbeat-sounds/CNN2\n"
          ]
        },
        {
          "output_type": "stream",
          "name": "stderr",
          "text": [
            "WARNING:absl:Found untraced functions such as _jit_compiled_convolution_op, _jit_compiled_convolution_op, _jit_compiled_convolution_op, _jit_compiled_convolution_op while saving (showing 4 of 4). These functions will not be directly callable after loading.\n"
          ]
        },
        {
          "output_type": "stream",
          "name": "stdout",
          "text": [
            "\n",
            "Epoch 192: loss did not improve from 0.10260\n",
            "\n",
            "Epoch 193: loss improved from 0.10260 to 0.09740, saving model to /content/drive/MyDrive/heartbeat-sounds/CNN2\n"
          ]
        },
        {
          "output_type": "stream",
          "name": "stderr",
          "text": [
            "WARNING:absl:Found untraced functions such as _jit_compiled_convolution_op, _jit_compiled_convolution_op, _jit_compiled_convolution_op, _jit_compiled_convolution_op while saving (showing 4 of 4). These functions will not be directly callable after loading.\n"
          ]
        },
        {
          "output_type": "stream",
          "name": "stdout",
          "text": [
            "\n",
            "Epoch 194: loss did not improve from 0.09740\n",
            "\n",
            "Epoch 195: loss did not improve from 0.09740\n",
            "\n",
            "Epoch 196: loss did not improve from 0.09740\n",
            "\n",
            "Epoch 197: loss did not improve from 0.09740\n",
            "\n",
            "Epoch 198: loss improved from 0.09740 to 0.09055, saving model to /content/drive/MyDrive/heartbeat-sounds/CNN2\n"
          ]
        },
        {
          "output_type": "stream",
          "name": "stderr",
          "text": [
            "WARNING:absl:Found untraced functions such as _jit_compiled_convolution_op, _jit_compiled_convolution_op, _jit_compiled_convolution_op, _jit_compiled_convolution_op while saving (showing 4 of 4). These functions will not be directly callable after loading.\n"
          ]
        },
        {
          "output_type": "stream",
          "name": "stdout",
          "text": [
            "\n",
            "Epoch 199: loss did not improve from 0.09055\n",
            "\n",
            "Epoch 200: loss did not improve from 0.09055\n",
            "\n",
            "Epoch 201: loss did not improve from 0.09055\n",
            "\n",
            "Epoch 202: loss did not improve from 0.09055\n",
            "\n",
            "Epoch 203: loss improved from 0.09055 to 0.09029, saving model to /content/drive/MyDrive/heartbeat-sounds/CNN2\n"
          ]
        },
        {
          "output_type": "stream",
          "name": "stderr",
          "text": [
            "WARNING:absl:Found untraced functions such as _jit_compiled_convolution_op, _jit_compiled_convolution_op, _jit_compiled_convolution_op, _jit_compiled_convolution_op while saving (showing 4 of 4). These functions will not be directly callable after loading.\n"
          ]
        },
        {
          "output_type": "stream",
          "name": "stdout",
          "text": [
            "\n",
            "Epoch 204: loss did not improve from 0.09029\n",
            "\n",
            "Epoch 205: loss did not improve from 0.09029\n",
            "\n",
            "Epoch 206: loss improved from 0.09029 to 0.08476, saving model to /content/drive/MyDrive/heartbeat-sounds/CNN2\n"
          ]
        },
        {
          "output_type": "stream",
          "name": "stderr",
          "text": [
            "WARNING:absl:Found untraced functions such as _jit_compiled_convolution_op, _jit_compiled_convolution_op, _jit_compiled_convolution_op, _jit_compiled_convolution_op while saving (showing 4 of 4). These functions will not be directly callable after loading.\n"
          ]
        },
        {
          "output_type": "stream",
          "name": "stdout",
          "text": [
            "\n",
            "Epoch 207: loss did not improve from 0.08476\n",
            "\n",
            "Epoch 208: loss did not improve from 0.08476\n",
            "\n",
            "Epoch 209: loss did not improve from 0.08476\n",
            "\n",
            "Epoch 210: loss did not improve from 0.08476\n",
            "\n",
            "Epoch 211: loss did not improve from 0.08476\n",
            "\n",
            "Epoch 212: loss did not improve from 0.08476\n",
            "\n",
            "Epoch 213: loss improved from 0.08476 to 0.08262, saving model to /content/drive/MyDrive/heartbeat-sounds/CNN2\n"
          ]
        },
        {
          "output_type": "stream",
          "name": "stderr",
          "text": [
            "WARNING:absl:Found untraced functions such as _jit_compiled_convolution_op, _jit_compiled_convolution_op, _jit_compiled_convolution_op, _jit_compiled_convolution_op while saving (showing 4 of 4). These functions will not be directly callable after loading.\n"
          ]
        },
        {
          "output_type": "stream",
          "name": "stdout",
          "text": [
            "\n",
            "Epoch 214: loss did not improve from 0.08262\n",
            "\n",
            "Epoch 215: loss did not improve from 0.08262\n",
            "\n",
            "Epoch 216: loss did not improve from 0.08262\n",
            "\n",
            "Epoch 217: loss did not improve from 0.08262\n",
            "\n",
            "Epoch 218: ReduceLROnPlateau reducing learning rate to 1.0000000474974514e-05.\n",
            "\n",
            "Epoch 218: loss did not improve from 0.08262\n",
            "\n",
            "Epoch 219: loss did not improve from 0.08262\n",
            "\n",
            "Epoch 220: loss did not improve from 0.08262\n",
            "\n",
            "Epoch 221: loss did not improve from 0.08262\n",
            "\n",
            "Epoch 222: loss did not improve from 0.08262\n",
            "\n",
            "Epoch 223: loss improved from 0.08262 to 0.08081, saving model to /content/drive/MyDrive/heartbeat-sounds/CNN2\n"
          ]
        },
        {
          "output_type": "stream",
          "name": "stderr",
          "text": [
            "WARNING:absl:Found untraced functions such as _jit_compiled_convolution_op, _jit_compiled_convolution_op, _jit_compiled_convolution_op, _jit_compiled_convolution_op while saving (showing 4 of 4). These functions will not be directly callable after loading.\n"
          ]
        },
        {
          "output_type": "stream",
          "name": "stdout",
          "text": [
            "\n",
            "Epoch 224: loss did not improve from 0.08081\n",
            "\n",
            "Epoch 225: loss improved from 0.08081 to 0.08037, saving model to /content/drive/MyDrive/heartbeat-sounds/CNN2\n"
          ]
        },
        {
          "output_type": "stream",
          "name": "stderr",
          "text": [
            "WARNING:absl:Found untraced functions such as _jit_compiled_convolution_op, _jit_compiled_convolution_op, _jit_compiled_convolution_op, _jit_compiled_convolution_op while saving (showing 4 of 4). These functions will not be directly callable after loading.\n"
          ]
        },
        {
          "output_type": "stream",
          "name": "stdout",
          "text": [
            "\n",
            "Epoch 226: loss did not improve from 0.08037\n",
            "\n",
            "Epoch 227: loss improved from 0.08037 to 0.07371, saving model to /content/drive/MyDrive/heartbeat-sounds/CNN2\n"
          ]
        },
        {
          "output_type": "stream",
          "name": "stderr",
          "text": [
            "WARNING:absl:Found untraced functions such as _jit_compiled_convolution_op, _jit_compiled_convolution_op, _jit_compiled_convolution_op, _jit_compiled_convolution_op while saving (showing 4 of 4). These functions will not be directly callable after loading.\n"
          ]
        },
        {
          "output_type": "stream",
          "name": "stdout",
          "text": [
            "\n",
            "Epoch 228: loss did not improve from 0.07371\n",
            "\n",
            "Epoch 229: loss did not improve from 0.07371\n",
            "\n",
            "Epoch 230: ReduceLROnPlateau reducing learning rate to 1.0000000656873453e-06.\n",
            "\n",
            "Epoch 230: loss did not improve from 0.07371\n",
            "\n",
            "Epoch 231: loss did not improve from 0.07371\n",
            "\n",
            "Epoch 232: loss did not improve from 0.07371\n",
            "\n",
            "Epoch 233: loss did not improve from 0.07371\n",
            "\n",
            "Epoch 234: loss did not improve from 0.07371\n",
            "\n",
            "Epoch 235: loss did not improve from 0.07371\n",
            "\n",
            "Epoch 236: loss did not improve from 0.07371\n",
            "\n",
            "Epoch 237: loss did not improve from 0.07371\n",
            "\n",
            "Epoch 238: loss did not improve from 0.07371\n",
            "\n",
            "Epoch 239: loss did not improve from 0.07371\n",
            "\n",
            "Epoch 240: loss did not improve from 0.07371\n",
            "\n",
            "Epoch 241: loss did not improve from 0.07371\n",
            "\n",
            "Epoch 242: ReduceLROnPlateau reducing learning rate to 1.0000001111620805e-07.\n",
            "\n",
            "Epoch 242: loss did not improve from 0.07371\n",
            "\n",
            "Epoch 243: loss did not improve from 0.07371\n",
            "\n",
            "Epoch 244: loss did not improve from 0.07371\n",
            "\n",
            "Epoch 245: loss did not improve from 0.07371\n",
            "\n",
            "Epoch 246: loss did not improve from 0.07371\n",
            "\n",
            "Epoch 247: loss did not improve from 0.07371\n",
            "\n",
            "Epoch 248: loss did not improve from 0.07371\n",
            "\n",
            "Epoch 249: loss did not improve from 0.07371\n",
            "\n",
            "Epoch 250: loss did not improve from 0.07371\n",
            "\n",
            "Epoch 251: loss did not improve from 0.07371\n",
            "\n",
            "Epoch 252: loss did not improve from 0.07371\n",
            "\n",
            "Epoch 253: loss did not improve from 0.07371\n",
            "\n",
            "Epoch 254: ReduceLROnPlateau reducing learning rate to 1.000000082740371e-08.\n",
            "\n",
            "Epoch 254: loss did not improve from 0.07371\n",
            "\n",
            "Epoch 255: loss did not improve from 0.07371\n",
            "\n",
            "Epoch 256: loss did not improve from 0.07371\n",
            "\n",
            "Epoch 257: loss did not improve from 0.07371\n",
            "\n",
            "Epoch 258: loss did not improve from 0.07371\n",
            "\n",
            "Epoch 259: loss did not improve from 0.07371\n",
            "\n",
            "Epoch 260: loss did not improve from 0.07371\n",
            "\n",
            "Epoch 261: loss did not improve from 0.07371\n",
            "\n",
            "Epoch 262: loss did not improve from 0.07371\n",
            "\n",
            "Epoch 263: loss did not improve from 0.07371\n",
            "\n",
            "Epoch 264: loss did not improve from 0.07371\n",
            "\n",
            "Epoch 265: loss did not improve from 0.07371\n",
            "\n",
            "Epoch 266: ReduceLROnPlateau reducing learning rate to 1.000000082740371e-09.\n",
            "\n",
            "Epoch 266: loss did not improve from 0.07371\n",
            "\n",
            "Epoch 267: loss did not improve from 0.07371\n",
            "\n",
            "Epoch 268: loss did not improve from 0.07371\n",
            "\n",
            "Epoch 269: loss did not improve from 0.07371\n",
            "\n",
            "Epoch 270: loss did not improve from 0.07371\n",
            "\n",
            "Epoch 271: loss did not improve from 0.07371\n",
            "\n",
            "Epoch 272: loss did not improve from 0.07371\n",
            "\n",
            "Epoch 273: loss did not improve from 0.07371\n",
            "\n",
            "Epoch 274: loss did not improve from 0.07371\n",
            "\n",
            "Epoch 275: loss did not improve from 0.07371\n",
            "\n",
            "Epoch 276: loss did not improve from 0.07371\n",
            "\n",
            "Epoch 277: loss did not improve from 0.07371\n",
            "\n",
            "Epoch 278: ReduceLROnPlateau reducing learning rate to 1.000000082740371e-10.\n",
            "\n",
            "Epoch 278: loss did not improve from 0.07371\n",
            "\n",
            "Epoch 279: loss did not improve from 0.07371\n",
            "\n",
            "Epoch 280: loss did not improve from 0.07371\n",
            "\n",
            "Epoch 281: loss did not improve from 0.07371\n",
            "\n",
            "Epoch 282: loss did not improve from 0.07371\n",
            "\n",
            "Epoch 283: loss did not improve from 0.07371\n",
            "\n",
            "Epoch 284: loss did not improve from 0.07371\n",
            "\n",
            "Epoch 285: loss did not improve from 0.07371\n",
            "\n",
            "Epoch 286: loss did not improve from 0.07371\n",
            "\n",
            "Epoch 287: loss improved from 0.07371 to 0.07041, saving model to /content/drive/MyDrive/heartbeat-sounds/CNN2\n"
          ]
        },
        {
          "output_type": "stream",
          "name": "stderr",
          "text": [
            "WARNING:absl:Found untraced functions such as _jit_compiled_convolution_op, _jit_compiled_convolution_op, _jit_compiled_convolution_op, _jit_compiled_convolution_op while saving (showing 4 of 4). These functions will not be directly callable after loading.\n"
          ]
        },
        {
          "output_type": "stream",
          "name": "stdout",
          "text": [
            "\n",
            "Epoch 288: loss did not improve from 0.07041\n",
            "\n",
            "Epoch 289: loss did not improve from 0.07041\n",
            "\n",
            "Epoch 290: ReduceLROnPlateau reducing learning rate to 1.000000082740371e-11.\n",
            "\n",
            "Epoch 290: loss did not improve from 0.07041\n",
            "\n",
            "Epoch 291: loss did not improve from 0.07041\n",
            "\n",
            "Epoch 292: loss did not improve from 0.07041\n",
            "\n",
            "Epoch 293: loss did not improve from 0.07041\n",
            "\n",
            "Epoch 294: loss did not improve from 0.07041\n",
            "\n",
            "Epoch 295: loss did not improve from 0.07041\n",
            "\n",
            "Epoch 296: loss did not improve from 0.07041\n",
            "\n",
            "Epoch 297: loss did not improve from 0.07041\n",
            "\n",
            "Epoch 298: loss did not improve from 0.07041\n",
            "\n",
            "Epoch 299: loss did not improve from 0.07041\n",
            "\n",
            "Epoch 300: loss did not improve from 0.07041\n"
          ]
        }
      ]
    },
    {
      "cell_type": "code",
      "source": [
        "def drawTrainLossCurves(history):\n",
        "  # Loss curves\n",
        "  plt.figure(figsize=[12,8])\n",
        "  plt.subplot(2,1,1)\n",
        "  plt.plot(history.history['loss'], 'r', linewidth=3.0)\n",
        "  plt.plot(history.history['val_loss'], 'b', linewidth=3.0)\n",
        "  plt.legend(['Training loss', 'Validation Loss'], fontsize=18)\n",
        "  plt.xlabel('Epochs', fontsize=16)\n",
        "  plt.ylabel('Loss',fontsize=16)\n",
        "  plt.title('Loss Curves',fontsize=16)\n",
        "\n",
        "  # accuracy curves\n",
        "  plt.figure(figsize=[14,10])\n",
        "  plt.subplot(2,1,2)\n",
        "  plt.plot(history.history['acc'], 'r', linewidth=3.0)\n",
        "  plt.plot(history.history['val_acc'], 'b', linewidth=3.0)\n",
        "  plt.legend(['Training accuracy', 'Validation accuracy'], fontsize=18)\n",
        "  plt.xlabel('Epochs', fontsize=16)\n",
        "  plt.ylabel('Accuracy',fontsize=16)\n",
        "  plt.title('Accuracy Curves',fontsize=16)\n",
        "  plt.show()"
      ],
      "metadata": {
        "id": "W9z4jm0Ey2pi"
      },
      "execution_count": 24,
      "outputs": []
    },
    {
      "cell_type": "code",
      "source": [
        "drawTrainLossCurves(history)"
      ],
      "metadata": {
        "colab": {
          "base_uri": "https://localhost:8080/",
          "height": 598
        },
        "id": "c_rL_PDm7L7m",
        "outputId": "cd41dda2-cdc9-4bde-d7df-0ab85cc6bcb7"
      },
      "execution_count": 25,
      "outputs": [
        {
          "output_type": "display_data",
          "data": {
            "text/plain": [
              "<Figure size 864x576 with 1 Axes>"
            ],
            "image/png": "[encoded data removed]"
          },
          "metadata": {
            "needs_background": "light"
          }
        },
        {
          "output_type": "display_data",
          "data": {
            "text/plain": [
              "<Figure size 1008x720 with 1 Axes>"
            ],
            "image/png": "[encoded data removed]"
          },
          "metadata": {
            "needs_background": "light"
          }
        }
      ]
    },
    {
      "cell_type": "code",
      "source": [
        "import tensorflow as tf\n",
        "loadedCNNModel = tf.keras.models.load_model('/content/drive/MyDrive/heartbeat-sounds/CNN2')\n",
        "predictions = loadedCNNModel.predict(x_test_CNN, verbose=1)\n",
        "\n",
        "y_true, y_pred = [],[]\n",
        "classes = encoder.classes_\n",
        "for idx, prediction in enumerate(predictions): \n",
        "    y_true.append(classes[np.argmax(y_test[idx])])\n",
        "    y_pred.append(classes[np.argmax(prediction)])\n",
        "    \n",
        "print(classification_report(y_pred, y_true))"
      ],
      "metadata": {
        "colab": {
          "base_uri": "https://localhost:8080/"
        },
        "id": "5Xb7bbc37nNv",
        "outputId": "62fe2b1f-1866-4140-8a84-1cf9a14a3c60"
      },
      "execution_count": 40,
      "outputs": [
        {
          "output_type": "stream",
          "name": "stdout",
          "text": [
            "10/10 [==============================] - 0s 3ms/step\n",
            "              precision    recall  f1-score   support\n",
            "\n",
            "    artifact       1.00      0.94      0.97        35\n",
            "    extrahls       0.92      0.75      0.83        16\n",
            "  extrastole       0.76      0.87      0.81        15\n",
            "      murmur       0.88      0.88      0.88        86\n",
            "      normal       0.89      0.91      0.90       137\n",
            "\n",
            "    accuracy                           0.89       289\n",
            "   macro avg       0.89      0.87      0.88       289\n",
            "weighted avg       0.89      0.89      0.89       289\n",
            "\n"
          ]
        }
      ]
    },
    {
      "cell_type": "code",
      "source": [
        "def performance(name,model,xtest,ytest):\n",
        "  scores = model.evaluate(xtest, ytest, verbose=1)\n",
        "  predictions = model.predict(xtest, verbose=1)\n",
        "  if name != \"\":\n",
        "    model.save(name)\n",
        "  y_true, y_pred = [],[]\n",
        "  y_trueInd,y_predInd = [],[]\n",
        "  classes = encoder.classes_\n",
        "  for idx, prediction in enumerate(predictions):\n",
        "      y_trueInd.append(np.argmax(ytest[idx]))\n",
        "      y_predInd.append(np.argmax(prediction))\n",
        "      y_true.append(classes[np.argmax(ytest[idx])])\n",
        "      y_pred.append(classes[np.argmax(prediction)])\n",
        "\n",
        "  print(classification_report(y_pred, y_true))\n",
        "  skplt.metrics.plot_confusion_matrix(y_true, y_pred, normalize=False)\n",
        "  plt.xticks(rotation=50)\n",
        "  plt.show()"
      ],
      "metadata": {
        "id": "oOa3lFWJ8ftx"
      },
      "execution_count": 29,
      "outputs": []
    },
    {
      "cell_type": "code",
      "source": [
        "performance(\"\",model,x_test_CNN,y_test)"
      ],
      "metadata": {
        "colab": {
          "base_uri": "https://localhost:8080/",
          "height": 585
        },
        "id": "sew2S42R8qkH",
        "outputId": "7a26cce2-e4b7-49a8-aa61-20529c5955ba"
      },
      "execution_count": 42,
      "outputs": [
        {
          "output_type": "stream",
          "name": "stdout",
          "text": [
            "10/10 [==============================] - 0s 13ms/step - loss: 0.3097 - acc: 0.8927\n",
            "10/10 [==============================] - 0s 8ms/step\n",
            "              precision    recall  f1-score   support\n",
            "\n",
            "    artifact       1.00      0.94      0.97        35\n",
            "    extrahls       0.92      0.75      0.83        16\n",
            "  extrastole       0.76      0.87      0.81        15\n",
            "      murmur       0.88      0.88      0.88        86\n",
            "      normal       0.89      0.91      0.90       137\n",
            "\n",
            "    accuracy                           0.89       289\n",
            "   macro avg       0.89      0.87      0.88       289\n",
            "weighted avg       0.89      0.89      0.89       289\n",
            "\n"
          ]
        },
        {
          "output_type": "display_data",
          "data": {
            "text/plain": [
              "<Figure size 432x288 with 2 Axes>"
            ],
            "image/png": "[encoded data removed]"
          },
          "metadata": {
            "needs_background": "light"
          }
        }
      ]
    },
    {
      "cell_type": "code",
      "source": [
        "dnn = tf.keras.models.Sequential()\n",
        "dnn.add(tf.keras.Input(shape=(x_train.shape[1],x_train.shape[2])))\n",
        "dnn.add(tf.keras.layers.Dense(256, activation='relu'))\n",
        "dnn.add(Dropout(0.2))\n",
        "dnn.add(tf.keras.layers.Dense(128, activation='relu'))\n",
        "dnn.add(Dropout(0.2))\n",
        "dnn.add(tf.keras.layers.Dense(64, activation='relu'))\n",
        "dnn.add(Dropout(0.2))\n",
        "dnn.add(tf.keras.layers.Dense(32, activation='relu'))\n",
        "dnn.add(Dropout(0.2))\n",
        "dnn.add(tf.keras.layers.Dense(256, activation='relu'))\n",
        "dnn.add(Dropout(0.2))\n",
        "dnn.add(tf.keras.layers.Dense(128, activation='relu'))\n",
        "dnn.add(Dropout(0.2))\n",
        "dnn.add(tf.keras.layers.Dense(64, activation='relu'))\n",
        "dnn.add(Dropout(0.2))\n",
        "dnn.add(tf.keras.layers.Dense(32, activation='relu'))\n",
        "dnn.add(Dropout(0.2))\n",
        "dnn.add(tf.keras.layers.Dense(64, activation='relu'))\n",
        "dnn.add(Dropout(0.2))\n",
        "dnn.add(tf.keras.layers.Dense(32, activation='relu'))\n",
        "dnn.add(Dropout(0.2))\n",
        "dnn.add(Flatten())\n",
        "dnn.add(tf.keras.layers.Dense(5,activation = 'softmax'))\n",
        "dnn.summary()"
      ],
      "metadata": {
        "colab": {
          "base_uri": "https://localhost:8080/"
        },
        "id": "mm2aKWt1-iwP",
        "outputId": "8b34eeac-9348-403a-de3f-40e17f9af5d2"
      },
      "execution_count": 47,
      "outputs": [
        {
          "output_type": "stream",
          "name": "stdout",
          "text": [
            "Model: \"sequential_3\"\n",
            "_________________________________________________________________\n",
            " Layer (type)                Output Shape              Param #   \n",
            "=================================================================\n",
            " dense_11 (Dense)            (None, 40, 256)           33536     \n",
            "                                                                 \n",
            " dropout_12 (Dropout)        (None, 40, 256)           0         \n",
            "                                                                 \n",
            " dense_12 (Dense)            (None, 40, 128)           32896     \n",
            "                                                                 \n",
            " dropout_13 (Dropout)        (None, 40, 128)           0         \n",
            "                                                                 \n",
            " dense_13 (Dense)            (None, 40, 64)            8256      \n",
            "                                                                 \n",
            " dropout_14 (Dropout)        (None, 40, 64)            0         \n",
            "                                                                 \n",
            " dense_14 (Dense)            (None, 40, 32)            2080      \n",
            "                                                                 \n",
            " dropout_15 (Dropout)        (None, 40, 32)            0         \n",
            "                                                                 \n",
            " dense_15 (Dense)            (None, 40, 256)           8448      \n",
            "                                                                 \n",
            " dropout_16 (Dropout)        (None, 40, 256)           0         \n",
            "                                                                 \n",
            " dense_16 (Dense)            (None, 40, 128)           32896     \n",
            "                                                                 \n",
            " dropout_17 (Dropout)        (None, 40, 128)           0         \n",
            "                                                                 \n",
            " dense_17 (Dense)            (None, 40, 64)            8256      \n",
            "                                                                 \n",
            " dropout_18 (Dropout)        (None, 40, 64)            0         \n",
            "                                                                 \n",
            " dense_18 (Dense)            (None, 40, 32)            2080      \n",
            "                                                                 \n",
            " dropout_19 (Dropout)        (None, 40, 32)            0         \n",
            "                                                                 \n",
            " dense_19 (Dense)            (None, 40, 64)            2112      \n",
            "                                                                 \n",
            " dropout_20 (Dropout)        (None, 40, 64)            0         \n",
            "                                                                 \n",
            " dense_20 (Dense)            (None, 40, 32)            2080      \n",
            "                                                                 \n",
            " dropout_21 (Dropout)        (None, 40, 32)            0         \n",
            "                                                                 \n",
            " flatten_2 (Flatten)         (None, 1280)              0         \n",
            "                                                                 \n",
            " dense_21 (Dense)            (None, 5)                 6405      \n",
            "                                                                 \n",
            "=================================================================\n",
            "Total params: 139,045\n",
            "Trainable params: 139,045\n",
            "Non-trainable params: 0\n",
            "_________________________________________________________________\n"
          ]
        }
      ]
    },
    {
      "cell_type": "code",
      "source": [
        "dnn.compile(loss='categorical_crossentropy', optimizer='Adamax', metrics=['acc'])\n",
        "MAX_PATIENT=12\n",
        "MAX_EPOCHS=200\n",
        "MAX_BATCH=32\n",
        "\n",
        "best_model_file3 = '/content/drive/MyDrive/heartbeat-sounds/DNN2'\n",
        "# callbacks\n",
        "# removed EarlyStopping(patience=MAX_PATIENT)\n",
        "callback=[ReduceLROnPlateau(patience=MAX_PATIENT, verbose=1),\n",
        "          ModelCheckpoint(filepath=best_model_file3, monitor='loss', verbose=1, save_best_only=True)]\n",
        "\n",
        "\n",
        "print (\"training started..... please wait.\")\n",
        "# training\n",
        "history=dnn.fit(x_train, y_train, \n",
        "                  batch_size=MAX_BATCH, \n",
        "                  epochs=MAX_EPOCHS,\n",
        "                  verbose=0,\n",
        "                  validation_data=(x_test, y_test),\n",
        "                  callbacks=callback)"
      ],
      "metadata": {
        "colab": {
          "base_uri": "https://localhost:8080/"
        },
        "id": "4Piq1ITjCpgK",
        "outputId": "54957e96-7169-4114-bab3-c62f0b9afafc"
      },
      "execution_count": 49,
      "outputs": [
        {
          "output_type": "stream",
          "name": "stdout",
          "text": [
            "training started..... please wait.\n",
            "\n",
            "Epoch 1: loss improved from inf to 1.32898, saving model to /content/drive/MyDrive/heartbeat-sounds/DNN2\n",
            "\n",
            "Epoch 2: loss improved from 1.32898 to 1.21186, saving model to /content/drive/MyDrive/heartbeat-sounds/DNN2\n",
            "\n",
            "Epoch 3: loss improved from 1.21186 to 1.17333, saving model to /content/drive/MyDrive/heartbeat-sounds/DNN2\n",
            "\n",
            "Epoch 4: loss improved from 1.17333 to 1.10617, saving model to /content/drive/MyDrive/heartbeat-sounds/DNN2\n",
            "\n",
            "Epoch 5: loss did not improve from 1.10617\n",
            "\n",
            "Epoch 6: loss improved from 1.10617 to 1.03927, saving model to /content/drive/MyDrive/heartbeat-sounds/DNN2\n",
            "\n",
            "Epoch 7: loss improved from 1.03927 to 1.03306, saving model to /content/drive/MyDrive/heartbeat-sounds/DNN2\n",
            "\n",
            "Epoch 8: loss improved from 1.03306 to 0.97581, saving model to /content/drive/MyDrive/heartbeat-sounds/DNN2\n",
            "\n",
            "Epoch 9: loss improved from 0.97581 to 0.96470, saving model to /content/drive/MyDrive/heartbeat-sounds/DNN2\n",
            "\n",
            "Epoch 10: loss improved from 0.96470 to 0.94409, saving model to /content/drive/MyDrive/heartbeat-sounds/DNN2\n",
            "\n",
            "Epoch 11: loss improved from 0.94409 to 0.89258, saving model to /content/drive/MyDrive/heartbeat-sounds/DNN2\n",
            "\n",
            "Epoch 12: loss did not improve from 0.89258\n",
            "\n",
            "Epoch 13: loss improved from 0.89258 to 0.89105, saving model to /content/drive/MyDrive/heartbeat-sounds/DNN2\n",
            "\n",
            "Epoch 14: loss improved from 0.89105 to 0.87342, saving model to /content/drive/MyDrive/heartbeat-sounds/DNN2\n",
            "\n",
            "Epoch 15: loss did not improve from 0.87342\n",
            "\n",
            "Epoch 16: loss improved from 0.87342 to 0.87259, saving model to /content/drive/MyDrive/heartbeat-sounds/DNN2\n",
            "\n",
            "Epoch 17: loss improved from 0.87259 to 0.86260, saving model to /content/drive/MyDrive/heartbeat-sounds/DNN2\n",
            "\n",
            "Epoch 18: loss improved from 0.86260 to 0.86058, saving model to /content/drive/MyDrive/heartbeat-sounds/DNN2\n",
            "\n",
            "Epoch 19: loss improved from 0.86058 to 0.84350, saving model to /content/drive/MyDrive/heartbeat-sounds/DNN2\n",
            "\n",
            "Epoch 20: loss improved from 0.84350 to 0.83289, saving model to /content/drive/MyDrive/heartbeat-sounds/DNN2\n",
            "\n",
            "Epoch 21: loss improved from 0.83289 to 0.83268, saving model to /content/drive/MyDrive/heartbeat-sounds/DNN2\n",
            "\n",
            "Epoch 22: loss improved from 0.83268 to 0.82864, saving model to /content/drive/MyDrive/heartbeat-sounds/DNN2\n",
            "\n",
            "Epoch 23: loss improved from 0.82864 to 0.81793, saving model to /content/drive/MyDrive/heartbeat-sounds/DNN2\n",
            "\n",
            "Epoch 24: loss did not improve from 0.81793\n",
            "\n",
            "Epoch 25: loss did not improve from 0.81793\n",
            "\n",
            "Epoch 26: loss improved from 0.81793 to 0.79464, saving model to /content/drive/MyDrive/heartbeat-sounds/DNN2\n",
            "\n",
            "Epoch 27: loss did not improve from 0.79464\n",
            "\n",
            "Epoch 28: loss improved from 0.79464 to 0.78693, saving model to /content/drive/MyDrive/heartbeat-sounds/DNN2\n",
            "\n",
            "Epoch 29: loss did not improve from 0.78693\n",
            "\n",
            "Epoch 30: loss improved from 0.78693 to 0.77393, saving model to /content/drive/MyDrive/heartbeat-sounds/DNN2\n",
            "\n",
            "Epoch 31: loss did not improve from 0.77393\n",
            "\n",
            "Epoch 32: loss did not improve from 0.77393\n",
            "\n",
            "Epoch 33: loss did not improve from 0.77393\n",
            "\n",
            "Epoch 34: loss did not improve from 0.77393\n",
            "\n",
            "Epoch 35: loss improved from 0.77393 to 0.77382, saving model to /content/drive/MyDrive/heartbeat-sounds/DNN2\n",
            "\n",
            "Epoch 36: loss did not improve from 0.77382\n",
            "\n",
            "Epoch 37: loss did not improve from 0.77382\n",
            "\n",
            "Epoch 38: loss improved from 0.77382 to 0.76659, saving model to /content/drive/MyDrive/heartbeat-sounds/DNN2\n",
            "\n",
            "Epoch 39: loss did not improve from 0.76659\n",
            "\n",
            "Epoch 40: loss improved from 0.76659 to 0.75873, saving model to /content/drive/MyDrive/heartbeat-sounds/DNN2\n",
            "\n",
            "Epoch 41: loss improved from 0.75873 to 0.75375, saving model to /content/drive/MyDrive/heartbeat-sounds/DNN2\n",
            "\n",
            "Epoch 42: loss did not improve from 0.75375\n",
            "\n",
            "Epoch 43: loss did not improve from 0.75375\n",
            "\n",
            "Epoch 44: loss improved from 0.75375 to 0.75090, saving model to /content/drive/MyDrive/heartbeat-sounds/DNN2\n",
            "\n",
            "Epoch 45: loss improved from 0.75090 to 0.73543, saving model to /content/drive/MyDrive/heartbeat-sounds/DNN2\n",
            "\n",
            "Epoch 46: loss did not improve from 0.73543\n",
            "\n",
            "Epoch 47: loss did not improve from 0.73543\n",
            "\n",
            "Epoch 48: loss did not improve from 0.73543\n",
            "\n",
            "Epoch 49: loss improved from 0.73543 to 0.72117, saving model to /content/drive/MyDrive/heartbeat-sounds/DNN2\n",
            "\n",
            "Epoch 50: loss improved from 0.72117 to 0.71460, saving model to /content/drive/MyDrive/heartbeat-sounds/DNN2\n",
            "\n",
            "Epoch 51: loss did not improve from 0.71460\n",
            "\n",
            "Epoch 52: loss did not improve from 0.71460\n",
            "\n",
            "Epoch 53: loss improved from 0.71460 to 0.68287, saving model to /content/drive/MyDrive/heartbeat-sounds/DNN2\n",
            "\n",
            "Epoch 54: loss did not improve from 0.68287\n",
            "\n",
            "Epoch 55: loss did not improve from 0.68287\n",
            "\n",
            "Epoch 56: loss did not improve from 0.68287\n",
            "\n",
            "Epoch 57: loss did not improve from 0.68287\n",
            "\n",
            "Epoch 58: loss improved from 0.68287 to 0.67561, saving model to /content/drive/MyDrive/heartbeat-sounds/DNN2\n",
            "\n",
            "Epoch 59: loss did not improve from 0.67561\n",
            "\n",
            "Epoch 60: loss did not improve from 0.67561\n",
            "\n",
            "Epoch 61: ReduceLROnPlateau reducing learning rate to 0.00010000000474974513.\n",
            "\n",
            "Epoch 61: loss improved from 0.67561 to 0.65194, saving model to /content/drive/MyDrive/heartbeat-sounds/DNN2\n",
            "\n",
            "Epoch 62: loss improved from 0.65194 to 0.64803, saving model to /content/drive/MyDrive/heartbeat-sounds/DNN2\n",
            "\n",
            "Epoch 63: loss did not improve from 0.64803\n",
            "\n",
            "Epoch 64: loss improved from 0.64803 to 0.63535, saving model to /content/drive/MyDrive/heartbeat-sounds/DNN2\n",
            "\n",
            "Epoch 65: loss improved from 0.63535 to 0.63282, saving model to /content/drive/MyDrive/heartbeat-sounds/DNN2\n",
            "\n",
            "Epoch 66: loss did not improve from 0.63282\n",
            "\n",
            "Epoch 67: loss did not improve from 0.63282\n",
            "\n",
            "Epoch 68: loss did not improve from 0.63282\n",
            "\n",
            "Epoch 69: loss did not improve from 0.63282\n",
            "\n",
            "Epoch 70: loss improved from 0.63282 to 0.61810, saving model to /content/drive/MyDrive/heartbeat-sounds/DNN2\n",
            "\n",
            "Epoch 71: loss improved from 0.61810 to 0.59650, saving model to /content/drive/MyDrive/heartbeat-sounds/DNN2\n",
            "\n",
            "Epoch 72: loss did not improve from 0.59650\n",
            "\n",
            "Epoch 73: loss did not improve from 0.59650\n",
            "\n",
            "Epoch 74: loss did not improve from 0.59650\n",
            "\n",
            "Epoch 75: loss did not improve from 0.59650\n",
            "\n",
            "Epoch 76: loss did not improve from 0.59650\n",
            "\n",
            "Epoch 77: loss did not improve from 0.59650\n",
            "\n",
            "Epoch 78: loss did not improve from 0.59650\n",
            "\n",
            "Epoch 79: loss did not improve from 0.59650\n",
            "\n",
            "Epoch 80: loss did not improve from 0.59650\n",
            "\n",
            "Epoch 81: loss did not improve from 0.59650\n",
            "\n",
            "Epoch 82: loss did not improve from 0.59650\n",
            "\n",
            "Epoch 83: ReduceLROnPlateau reducing learning rate to 1.0000000474974514e-05.\n",
            "\n",
            "Epoch 83: loss did not improve from 0.59650\n",
            "\n",
            "Epoch 84: loss did not improve from 0.59650\n",
            "\n",
            "Epoch 85: loss did not improve from 0.59650\n",
            "\n",
            "Epoch 86: loss did not improve from 0.59650\n",
            "\n",
            "Epoch 87: loss did not improve from 0.59650\n",
            "\n",
            "Epoch 88: loss did not improve from 0.59650\n",
            "\n",
            "Epoch 89: loss did not improve from 0.59650\n",
            "\n",
            "Epoch 90: loss did not improve from 0.59650\n",
            "\n",
            "Epoch 91: loss did not improve from 0.59650\n",
            "\n",
            "Epoch 92: loss did not improve from 0.59650\n",
            "\n",
            "Epoch 93: loss did not improve from 0.59650\n",
            "\n",
            "Epoch 94: loss did not improve from 0.59650\n",
            "\n",
            "Epoch 95: ReduceLROnPlateau reducing learning rate to 1.0000000656873453e-06.\n",
            "\n",
            "Epoch 95: loss did not improve from 0.59650\n",
            "\n",
            "Epoch 96: loss did not improve from 0.59650\n",
            "\n",
            "Epoch 97: loss did not improve from 0.59650\n",
            "\n",
            "Epoch 98: loss did not improve from 0.59650\n",
            "\n",
            "Epoch 99: loss did not improve from 0.59650\n",
            "\n",
            "Epoch 100: loss did not improve from 0.59650\n",
            "\n",
            "Epoch 101: loss did not improve from 0.59650\n",
            "\n",
            "Epoch 102: loss did not improve from 0.59650\n",
            "\n",
            "Epoch 103: loss did not improve from 0.59650\n",
            "\n",
            "Epoch 104: loss did not improve from 0.59650\n",
            "\n",
            "Epoch 105: loss did not improve from 0.59650\n",
            "\n",
            "Epoch 106: loss did not improve from 0.59650\n",
            "\n",
            "Epoch 107: ReduceLROnPlateau reducing learning rate to 1.0000001111620805e-07.\n",
            "\n",
            "Epoch 107: loss did not improve from 0.59650\n",
            "\n",
            "Epoch 108: loss did not improve from 0.59650\n",
            "\n",
            "Epoch 109: loss did not improve from 0.59650\n",
            "\n",
            "Epoch 110: loss improved from 0.59650 to 0.59151, saving model to /content/drive/MyDrive/heartbeat-sounds/DNN2\n",
            "\n",
            "Epoch 111: loss did not improve from 0.59151\n",
            "\n",
            "Epoch 112: loss did not improve from 0.59151\n",
            "\n",
            "Epoch 113: loss improved from 0.59151 to 0.58938, saving model to /content/drive/MyDrive/heartbeat-sounds/DNN2\n",
            "\n",
            "Epoch 114: loss did not improve from 0.58938\n",
            "\n",
            "Epoch 115: loss did not improve from 0.58938\n",
            "\n",
            "Epoch 116: loss did not improve from 0.58938\n",
            "\n",
            "Epoch 117: loss did not improve from 0.58938\n",
            "\n",
            "Epoch 118: loss did not improve from 0.58938\n",
            "\n",
            "Epoch 119: ReduceLROnPlateau reducing learning rate to 1.000000082740371e-08.\n",
            "\n",
            "Epoch 119: loss improved from 0.58938 to 0.58287, saving model to /content/drive/MyDrive/heartbeat-sounds/DNN2\n",
            "\n",
            "Epoch 120: loss did not improve from 0.58287\n",
            "\n",
            "Epoch 121: loss did not improve from 0.58287\n",
            "\n",
            "Epoch 122: loss did not improve from 0.58287\n",
            "\n",
            "Epoch 123: loss did not improve from 0.58287\n",
            "\n",
            "Epoch 124: loss did not improve from 0.58287\n",
            "\n",
            "Epoch 125: loss did not improve from 0.58287\n",
            "\n",
            "Epoch 126: loss did not improve from 0.58287\n",
            "\n",
            "Epoch 127: loss did not improve from 0.58287\n",
            "\n",
            "Epoch 128: loss did not improve from 0.58287\n",
            "\n",
            "Epoch 129: loss did not improve from 0.58287\n",
            "\n",
            "Epoch 130: loss did not improve from 0.58287\n",
            "\n",
            "Epoch 131: ReduceLROnPlateau reducing learning rate to 1.000000082740371e-09.\n",
            "\n",
            "Epoch 131: loss did not improve from 0.58287\n",
            "\n",
            "Epoch 132: loss did not improve from 0.58287\n",
            "\n",
            "Epoch 133: loss did not improve from 0.58287\n",
            "\n",
            "Epoch 134: loss did not improve from 0.58287\n",
            "\n",
            "Epoch 135: loss did not improve from 0.58287\n",
            "\n",
            "Epoch 136: loss did not improve from 0.58287\n",
            "\n",
            "Epoch 137: loss did not improve from 0.58287\n",
            "\n",
            "Epoch 138: loss did not improve from 0.58287\n",
            "\n",
            "Epoch 139: loss did not improve from 0.58287\n",
            "\n",
            "Epoch 140: loss did not improve from 0.58287\n",
            "\n",
            "Epoch 141: loss did not improve from 0.58287\n",
            "\n",
            "Epoch 142: loss did not improve from 0.58287\n",
            "\n",
            "Epoch 143: ReduceLROnPlateau reducing learning rate to 1.000000082740371e-10.\n",
            "\n",
            "Epoch 143: loss did not improve from 0.58287\n",
            "\n",
            "Epoch 144: loss did not improve from 0.58287\n",
            "\n",
            "Epoch 145: loss did not improve from 0.58287\n",
            "\n",
            "Epoch 146: loss did not improve from 0.58287\n",
            "\n",
            "Epoch 147: loss did not improve from 0.58287\n",
            "\n",
            "Epoch 148: loss did not improve from 0.58287\n",
            "\n",
            "Epoch 149: loss did not improve from 0.58287\n",
            "\n",
            "Epoch 150: loss did not improve from 0.58287\n",
            "\n",
            "Epoch 151: loss did not improve from 0.58287\n",
            "\n",
            "Epoch 152: loss did not improve from 0.58287\n",
            "\n",
            "Epoch 153: loss did not improve from 0.58287\n",
            "\n",
            "Epoch 154: loss did not improve from 0.58287\n",
            "\n",
            "Epoch 155: ReduceLROnPlateau reducing learning rate to 1.000000082740371e-11.\n",
            "\n",
            "Epoch 155: loss did not improve from 0.58287\n",
            "\n",
            "Epoch 156: loss did not improve from 0.58287\n",
            "\n",
            "Epoch 157: loss did not improve from 0.58287\n",
            "\n",
            "Epoch 158: loss did not improve from 0.58287\n",
            "\n",
            "Epoch 159: loss did not improve from 0.58287\n",
            "\n",
            "Epoch 160: loss did not improve from 0.58287\n",
            "\n",
            "Epoch 161: loss did not improve from 0.58287\n",
            "\n",
            "Epoch 162: loss did not improve from 0.58287\n",
            "\n",
            "Epoch 163: loss did not improve from 0.58287\n",
            "\n",
            "Epoch 164: loss did not improve from 0.58287\n",
            "\n",
            "Epoch 165: loss did not improve from 0.58287\n",
            "\n",
            "Epoch 166: loss did not improve from 0.58287\n",
            "\n",
            "Epoch 167: ReduceLROnPlateau reducing learning rate to 1.000000082740371e-12.\n",
            "\n",
            "Epoch 167: loss did not improve from 0.58287\n",
            "\n",
            "Epoch 168: loss did not improve from 0.58287\n",
            "\n",
            "Epoch 169: loss did not improve from 0.58287\n",
            "\n",
            "Epoch 170: loss did not improve from 0.58287\n",
            "\n",
            "Epoch 171: loss did not improve from 0.58287\n",
            "\n",
            "Epoch 172: loss did not improve from 0.58287\n",
            "\n",
            "Epoch 173: loss did not improve from 0.58287\n",
            "\n",
            "Epoch 174: loss did not improve from 0.58287\n",
            "\n",
            "Epoch 175: loss did not improve from 0.58287\n",
            "\n",
            "Epoch 176: loss did not improve from 0.58287\n",
            "\n",
            "Epoch 177: loss did not improve from 0.58287\n",
            "\n",
            "Epoch 178: loss did not improve from 0.58287\n",
            "\n",
            "Epoch 179: ReduceLROnPlateau reducing learning rate to 1.0000001044244145e-13.\n",
            "\n",
            "Epoch 179: loss did not improve from 0.58287\n",
            "\n",
            "Epoch 180: loss did not improve from 0.58287\n",
            "\n",
            "Epoch 181: loss did not improve from 0.58287\n",
            "\n",
            "Epoch 182: loss did not improve from 0.58287\n",
            "\n",
            "Epoch 183: loss did not improve from 0.58287\n",
            "\n",
            "Epoch 184: loss did not improve from 0.58287\n",
            "\n",
            "Epoch 185: loss did not improve from 0.58287\n",
            "\n",
            "Epoch 186: loss did not improve from 0.58287\n",
            "\n",
            "Epoch 187: loss did not improve from 0.58287\n",
            "\n",
            "Epoch 188: loss did not improve from 0.58287\n",
            "\n",
            "Epoch 189: loss did not improve from 0.58287\n",
            "\n",
            "Epoch 190: loss did not improve from 0.58287\n",
            "\n",
            "Epoch 191: ReduceLROnPlateau reducing learning rate to 1.0000001179769417e-14.\n",
            "\n",
            "Epoch 191: loss did not improve from 0.58287\n",
            "\n",
            "Epoch 192: loss did not improve from 0.58287\n",
            "\n",
            "Epoch 193: loss did not improve from 0.58287\n",
            "\n",
            "Epoch 194: loss did not improve from 0.58287\n",
            "\n",
            "Epoch 195: loss did not improve from 0.58287\n",
            "\n",
            "Epoch 196: loss did not improve from 0.58287\n",
            "\n",
            "Epoch 197: loss did not improve from 0.58287\n",
            "\n",
            "Epoch 198: loss did not improve from 0.58287\n",
            "\n",
            "Epoch 199: loss did not improve from 0.58287\n",
            "\n",
            "Epoch 200: loss did not improve from 0.58287\n"
          ]
        }
      ]
    },
    {
      "cell_type": "code",
      "source": [
        "drawTrainLossCurves(history)"
      ],
      "metadata": {
        "colab": {
          "base_uri": "https://localhost:8080/",
          "height": 598
        },
        "id": "mtEbxXphD7eT",
        "outputId": "0ce365b1-8f02-4b98-b499-a881ac22dc67"
      },
      "execution_count": 50,
      "outputs": [
        {
          "output_type": "display_data",
          "data": {
            "text/plain": [
              "<Figure size 864x576 with 1 Axes>"
            ],
            "image/png": "[encoded data removed]"
          },
          "metadata": {
            "needs_background": "light"
          }
        },
        {
          "output_type": "display_data",
          "data": {
            "text/plain": [
              "<Figure size 1008x720 with 1 Axes>"
            ],
            "image/png": "[encoded data removed]"
          },
          "metadata": {
            "needs_background": "light"
          }
        }
      ]
    },
    {
      "cell_type": "code",
      "source": [
        "performance(\"\",dnn,x_test,y_test)"
      ],
      "metadata": {
        "colab": {
          "base_uri": "https://localhost:8080/",
          "height": 585
        },
        "id": "ILiICOpLFmXb",
        "outputId": "e08aa4a5-b147-4087-ec03-07ae494ef65d"
      },
      "execution_count": 51,
      "outputs": [
        {
          "output_type": "stream",
          "name": "stdout",
          "text": [
            "10/10 [==============================] - 0s 15ms/step - loss: 0.8041 - acc: 0.6609\n",
            "10/10 [==============================] - 1s 10ms/step\n",
            "              precision    recall  f1-score   support\n",
            "\n",
            "    artifact       0.88      0.88      0.88        33\n",
            "    extrahls       0.92      0.55      0.69        22\n",
            "  extrastole       0.06      1.00      0.11         1\n",
            "      murmur       0.22      1.00      0.36        19\n",
            "      normal       0.93      0.61      0.73       214\n",
            "\n",
            "    accuracy                           0.66       289\n",
            "   macro avg       0.60      0.81      0.55       289\n",
            "weighted avg       0.87      0.66      0.72       289\n",
            "\n"
          ]
        },
        {
          "output_type": "display_data",
          "data": {
            "text/plain": [
              "<Figure size 432x288 with 2 Axes>"
            ],
            "image/png": "[encoded data removed]"
          },
          "metadata": {
            "needs_background": "light"
          }
        }
      ]
    },
    {
      "cell_type": "code",
      "source": [
        "LSTM_model = Sequential()\n",
        "LSTM_model.add(LSTM(units=64, dropout=0.05, recurrent_dropout=0.20, return_sequences=True,input_shape = (x_train.shape[1],x_train.shape[2])))\n",
        "LSTM_model.add(LSTM(units=32, dropout=0.05, recurrent_dropout=0.20, return_sequences=True))\n",
        "LSTM_model.add(LSTM(units=32, dropout=0.05, recurrent_dropout=0.20, return_sequences=False))\n",
        "LSTM_model.add(Dense(5, activation='softmax'))\n",
        "LSTM_model.summary()"
      ],
      "metadata": {
        "colab": {
          "base_uri": "https://localhost:8080/"
        },
        "id": "-6wCZ11uFcvz",
        "outputId": "01ddc074-be3f-44a2-ebeb-5373bf5b5806"
      },
      "execution_count": 55,
      "outputs": [
        {
          "output_type": "stream",
          "name": "stderr",
          "text": [
            "WARNING:tensorflow:Layer lstm_6 will not use cuDNN kernels since it doesn't meet the criteria. It will use a generic GPU kernel as fallback when running on GPU.\n",
            "WARNING:tensorflow:Layer lstm_7 will not use cuDNN kernels since it doesn't meet the criteria. It will use a generic GPU kernel as fallback when running on GPU.\n",
            "WARNING:tensorflow:Layer lstm_8 will not use cuDNN kernels since it doesn't meet the criteria. It will use a generic GPU kernel as fallback when running on GPU.\n"
          ]
        },
        {
          "output_type": "stream",
          "name": "stdout",
          "text": [
            "Model: \"sequential_6\"\n",
            "_________________________________________________________________\n",
            " Layer (type)                Output Shape              Param #   \n",
            "=================================================================\n",
            " lstm_6 (LSTM)               (None, 40, 64)            49920     \n",
            "                                                                 \n",
            " lstm_7 (LSTM)               (None, 40, 32)            12416     \n",
            "                                                                 \n",
            " lstm_8 (LSTM)               (None, 32)                8320      \n",
            "                                                                 \n",
            " dense_24 (Dense)            (None, 5)                 165       \n",
            "                                                                 \n",
            "=================================================================\n",
            "Total params: 70,821\n",
            "Trainable params: 70,821\n",
            "Non-trainable params: 0\n",
            "_________________________________________________________________\n"
          ]
        }
      ]
    },
    {
      "cell_type": "code",
      "source": [
        "LSTM_model.compile(loss='categorical_crossentropy', optimizer='Adamax', metrics=['acc'])\n",
        "MAX_PATIENT=12\n",
        "MAX_EPOCHS=150\n",
        "MAX_BATCH=32\n",
        "\n",
        "best_model_file2 = '/content/drive/MyDrive/heartbeat-sounds/LSTM2'\n",
        "# callbacks\n",
        "# removed EarlyStopping(patience=MAX_PATIENT)\n",
        "callback=[ReduceLROnPlateau(patience=MAX_PATIENT, verbose=1),\n",
        "          ModelCheckpoint(filepath=best_model_file2, monitor='loss', verbose=1, save_best_only=True)]\n",
        "\n",
        "\n",
        "print (\"training started..... please wait.\")\n",
        "# training\n",
        "history=LSTM_model.fit(x_train, y_train, \n",
        "                  batch_size=MAX_BATCH, \n",
        "                  epochs=MAX_EPOCHS,\n",
        "                  verbose=0,\n",
        "                  validation_data=(x_test, y_test),\n",
        "                  callbacks=callback)"
      ],
      "metadata": {
        "colab": {
          "base_uri": "https://localhost:8080/"
        },
        "id": "JnXjLuMeGESN",
        "outputId": "33a2eb44-87af-40cf-ac5a-28201285ebb4"
      },
      "execution_count": 56,
      "outputs": [
        {
          "output_type": "stream",
          "name": "stdout",
          "text": [
            "training started..... please wait.\n",
            "\n",
            "Epoch 1: loss improved from inf to 1.35904, saving model to /content/drive/MyDrive/heartbeat-sounds/LSTM2\n",
            "\n",
            "Epoch 2: loss improved from 1.35904 to 1.06655, saving model to /content/drive/MyDrive/heartbeat-sounds/LSTM2\n",
            "\n",
            "Epoch 3: loss improved from 1.06655 to 0.94365, saving model to /content/drive/MyDrive/heartbeat-sounds/LSTM2\n",
            "\n",
            "Epoch 4: loss improved from 0.94365 to 0.86958, saving model to /content/drive/MyDrive/heartbeat-sounds/LSTM2\n",
            "\n",
            "Epoch 5: loss improved from 0.86958 to 0.79787, saving model to /content/drive/MyDrive/heartbeat-sounds/LSTM2\n",
            "\n",
            "Epoch 6: loss improved from 0.79787 to 0.75153, saving model to /content/drive/MyDrive/heartbeat-sounds/LSTM2\n",
            "\n",
            "Epoch 7: loss improved from 0.75153 to 0.69226, saving model to /content/drive/MyDrive/heartbeat-sounds/LSTM2\n",
            "\n",
            "Epoch 8: loss improved from 0.69226 to 0.64760, saving model to /content/drive/MyDrive/heartbeat-sounds/LSTM2\n",
            "\n",
            "Epoch 9: loss improved from 0.64760 to 0.59094, saving model to /content/drive/MyDrive/heartbeat-sounds/LSTM2\n",
            "\n",
            "Epoch 10: loss improved from 0.59094 to 0.54351, saving model to /content/drive/MyDrive/heartbeat-sounds/LSTM2\n",
            "\n",
            "Epoch 11: loss improved from 0.54351 to 0.49611, saving model to /content/drive/MyDrive/heartbeat-sounds/LSTM2\n",
            "\n",
            "Epoch 12: loss improved from 0.49611 to 0.44862, saving model to /content/drive/MyDrive/heartbeat-sounds/LSTM2\n",
            "\n",
            "Epoch 13: loss improved from 0.44862 to 0.43970, saving model to /content/drive/MyDrive/heartbeat-sounds/LSTM2\n",
            "\n",
            "Epoch 14: loss improved from 0.43970 to 0.38335, saving model to /content/drive/MyDrive/heartbeat-sounds/LSTM2\n",
            "\n",
            "Epoch 15: loss improved from 0.38335 to 0.35783, saving model to /content/drive/MyDrive/heartbeat-sounds/LSTM2\n",
            "\n",
            "Epoch 16: loss improved from 0.35783 to 0.34775, saving model to /content/drive/MyDrive/heartbeat-sounds/LSTM2\n",
            "\n",
            "Epoch 17: loss improved from 0.34775 to 0.31177, saving model to /content/drive/MyDrive/heartbeat-sounds/LSTM2\n",
            "\n",
            "Epoch 18: loss improved from 0.31177 to 0.30094, saving model to /content/drive/MyDrive/heartbeat-sounds/LSTM2\n",
            "\n",
            "Epoch 19: ReduceLROnPlateau reducing learning rate to 0.00010000000474974513.\n",
            "\n",
            "Epoch 19: loss improved from 0.30094 to 0.26270, saving model to /content/drive/MyDrive/heartbeat-sounds/LSTM2\n",
            "\n",
            "Epoch 20: loss improved from 0.26270 to 0.24697, saving model to /content/drive/MyDrive/heartbeat-sounds/LSTM2\n",
            "\n",
            "Epoch 21: loss improved from 0.24697 to 0.23946, saving model to /content/drive/MyDrive/heartbeat-sounds/LSTM2\n",
            "\n",
            "Epoch 22: loss did not improve from 0.23946\n",
            "\n",
            "Epoch 23: loss did not improve from 0.23946\n",
            "\n",
            "Epoch 24: loss improved from 0.23946 to 0.22585, saving model to /content/drive/MyDrive/heartbeat-sounds/LSTM2\n",
            "\n",
            "Epoch 25: loss improved from 0.22585 to 0.22098, saving model to /content/drive/MyDrive/heartbeat-sounds/LSTM2\n",
            "\n",
            "Epoch 26: loss did not improve from 0.22098\n",
            "\n",
            "Epoch 27: loss improved from 0.22098 to 0.21684, saving model to /content/drive/MyDrive/heartbeat-sounds/LSTM2\n",
            "\n",
            "Epoch 28: loss did not improve from 0.21684\n",
            "\n",
            "Epoch 29: loss did not improve from 0.21684\n",
            "\n",
            "Epoch 30: loss did not improve from 0.21684\n",
            "\n",
            "Epoch 31: ReduceLROnPlateau reducing learning rate to 1.0000000474974514e-05.\n",
            "\n",
            "Epoch 31: loss improved from 0.21684 to 0.21524, saving model to /content/drive/MyDrive/heartbeat-sounds/LSTM2\n",
            "\n",
            "Epoch 32: loss did not improve from 0.21524\n",
            "\n",
            "Epoch 33: loss improved from 0.21524 to 0.20903, saving model to /content/drive/MyDrive/heartbeat-sounds/LSTM2\n",
            "\n",
            "Epoch 34: loss did not improve from 0.20903\n",
            "\n",
            "Epoch 35: loss improved from 0.20903 to 0.20829, saving model to /content/drive/MyDrive/heartbeat-sounds/LSTM2\n",
            "\n",
            "Epoch 36: loss did not improve from 0.20829\n",
            "\n",
            "Epoch 37: loss did not improve from 0.20829\n",
            "\n",
            "Epoch 38: loss did not improve from 0.20829\n",
            "\n",
            "Epoch 39: loss did not improve from 0.20829\n",
            "\n",
            "Epoch 40: loss did not improve from 0.20829\n",
            "\n",
            "Epoch 41: loss did not improve from 0.20829\n",
            "\n",
            "Epoch 42: loss did not improve from 0.20829\n",
            "\n",
            "Epoch 43: ReduceLROnPlateau reducing learning rate to 1.0000000656873453e-06.\n",
            "\n",
            "Epoch 43: loss did not improve from 0.20829\n",
            "\n",
            "Epoch 44: loss did not improve from 0.20829\n",
            "\n",
            "Epoch 45: loss did not improve from 0.20829\n",
            "\n",
            "Epoch 46: loss did not improve from 0.20829\n",
            "\n",
            "Epoch 47: loss did not improve from 0.20829\n",
            "\n",
            "Epoch 48: loss did not improve from 0.20829\n",
            "\n",
            "Epoch 49: loss did not improve from 0.20829\n",
            "\n",
            "Epoch 50: loss did not improve from 0.20829\n",
            "\n",
            "Epoch 51: loss did not improve from 0.20829\n",
            "\n",
            "Epoch 52: loss did not improve from 0.20829\n",
            "\n",
            "Epoch 53: loss did not improve from 0.20829\n",
            "\n",
            "Epoch 54: loss did not improve from 0.20829\n",
            "\n",
            "Epoch 55: ReduceLROnPlateau reducing learning rate to 1.0000001111620805e-07.\n",
            "\n",
            "Epoch 55: loss did not improve from 0.20829\n",
            "\n",
            "Epoch 56: loss improved from 0.20829 to 0.20715, saving model to /content/drive/MyDrive/heartbeat-sounds/LSTM2\n",
            "\n",
            "Epoch 57: loss did not improve from 0.20715\n",
            "\n",
            "Epoch 58: loss did not improve from 0.20715\n",
            "\n",
            "Epoch 59: loss did not improve from 0.20715\n",
            "\n",
            "Epoch 60: loss did not improve from 0.20715\n",
            "\n",
            "Epoch 61: loss did not improve from 0.20715\n",
            "\n",
            "Epoch 62: loss did not improve from 0.20715\n",
            "\n",
            "Epoch 63: loss did not improve from 0.20715\n",
            "\n",
            "Epoch 64: loss did not improve from 0.20715\n",
            "\n",
            "Epoch 65: loss did not improve from 0.20715\n",
            "\n",
            "Epoch 66: loss did not improve from 0.20715\n",
            "\n",
            "Epoch 67: ReduceLROnPlateau reducing learning rate to 1.000000082740371e-08.\n",
            "\n",
            "Epoch 67: loss did not improve from 0.20715\n",
            "\n",
            "Epoch 68: loss did not improve from 0.20715\n",
            "\n",
            "Epoch 69: loss did not improve from 0.20715\n",
            "\n",
            "Epoch 70: loss did not improve from 0.20715\n",
            "\n",
            "Epoch 71: loss did not improve from 0.20715\n",
            "\n",
            "Epoch 72: loss did not improve from 0.20715\n",
            "\n",
            "Epoch 73: loss did not improve from 0.20715\n",
            "\n",
            "Epoch 74: loss did not improve from 0.20715\n",
            "\n",
            "Epoch 75: loss did not improve from 0.20715\n",
            "\n",
            "Epoch 76: loss did not improve from 0.20715\n",
            "\n",
            "Epoch 77: loss did not improve from 0.20715\n",
            "\n",
            "Epoch 78: loss did not improve from 0.20715\n",
            "\n",
            "Epoch 79: ReduceLROnPlateau reducing learning rate to 1.000000082740371e-09.\n",
            "\n",
            "Epoch 79: loss did not improve from 0.20715\n",
            "\n",
            "Epoch 80: loss did not improve from 0.20715\n",
            "\n",
            "Epoch 81: loss improved from 0.20715 to 0.20389, saving model to /content/drive/MyDrive/heartbeat-sounds/LSTM2\n",
            "\n",
            "Epoch 82: loss did not improve from 0.20389\n",
            "\n",
            "Epoch 83: loss did not improve from 0.20389\n",
            "\n",
            "Epoch 84: loss did not improve from 0.20389\n",
            "\n",
            "Epoch 85: loss did not improve from 0.20389\n",
            "\n",
            "Epoch 86: loss did not improve from 0.20389\n",
            "\n",
            "Epoch 87: loss did not improve from 0.20389\n",
            "\n",
            "Epoch 88: loss did not improve from 0.20389\n",
            "\n",
            "Epoch 89: loss did not improve from 0.20389\n",
            "\n",
            "Epoch 90: loss did not improve from 0.20389\n",
            "\n",
            "Epoch 91: ReduceLROnPlateau reducing learning rate to 1.000000082740371e-10.\n",
            "\n",
            "Epoch 91: loss did not improve from 0.20389\n",
            "\n",
            "Epoch 92: loss did not improve from 0.20389\n",
            "\n",
            "Epoch 93: loss did not improve from 0.20389\n",
            "\n",
            "Epoch 94: loss did not improve from 0.20389\n",
            "\n",
            "Epoch 95: loss did not improve from 0.20389\n",
            "\n",
            "Epoch 96: loss did not improve from 0.20389\n",
            "\n",
            "Epoch 97: loss did not improve from 0.20389\n",
            "\n",
            "Epoch 98: loss did not improve from 0.20389\n",
            "\n",
            "Epoch 99: loss did not improve from 0.20389\n",
            "\n",
            "Epoch 100: loss did not improve from 0.20389\n",
            "\n",
            "Epoch 101: loss did not improve from 0.20389\n",
            "\n",
            "Epoch 102: loss did not improve from 0.20389\n",
            "\n",
            "Epoch 103: ReduceLROnPlateau reducing learning rate to 1.000000082740371e-11.\n",
            "\n",
            "Epoch 103: loss did not improve from 0.20389\n",
            "\n",
            "Epoch 104: loss did not improve from 0.20389\n",
            "\n",
            "Epoch 105: loss did not improve from 0.20389\n",
            "\n",
            "Epoch 106: loss improved from 0.20389 to 0.20310, saving model to /content/drive/MyDrive/heartbeat-sounds/LSTM2\n",
            "\n",
            "Epoch 107: loss did not improve from 0.20310\n",
            "\n",
            "Epoch 108: loss improved from 0.20310 to 0.19979, saving model to /content/drive/MyDrive/heartbeat-sounds/LSTM2\n",
            "\n",
            "Epoch 109: loss did not improve from 0.19979\n",
            "\n",
            "Epoch 110: loss did not improve from 0.19979\n",
            "\n",
            "Epoch 111: loss did not improve from 0.19979\n",
            "\n",
            "Epoch 112: loss did not improve from 0.19979\n",
            "\n",
            "Epoch 113: loss did not improve from 0.19979\n",
            "\n",
            "Epoch 114: loss did not improve from 0.19979\n",
            "\n",
            "Epoch 115: ReduceLROnPlateau reducing learning rate to 1.000000082740371e-12.\n",
            "\n",
            "Epoch 115: loss did not improve from 0.19979\n",
            "\n",
            "Epoch 116: loss did not improve from 0.19979\n",
            "\n",
            "Epoch 117: loss did not improve from 0.19979\n",
            "\n",
            "Epoch 118: loss did not improve from 0.19979\n",
            "\n",
            "Epoch 119: loss did not improve from 0.19979\n",
            "\n",
            "Epoch 120: loss did not improve from 0.19979\n",
            "\n",
            "Epoch 121: loss did not improve from 0.19979\n",
            "\n",
            "Epoch 122: loss did not improve from 0.19979\n",
            "\n",
            "Epoch 123: loss did not improve from 0.19979\n",
            "\n",
            "Epoch 124: loss did not improve from 0.19979\n",
            "\n",
            "Epoch 125: loss did not improve from 0.19979\n",
            "\n",
            "Epoch 126: loss did not improve from 0.19979\n",
            "\n",
            "Epoch 127: ReduceLROnPlateau reducing learning rate to 1.0000001044244145e-13.\n",
            "\n",
            "Epoch 127: loss did not improve from 0.19979\n",
            "\n",
            "Epoch 128: loss did not improve from 0.19979\n",
            "\n",
            "Epoch 129: loss did not improve from 0.19979\n",
            "\n",
            "Epoch 130: loss did not improve from 0.19979\n",
            "\n",
            "Epoch 131: loss did not improve from 0.19979\n",
            "\n",
            "Epoch 132: loss did not improve from 0.19979\n",
            "\n",
            "Epoch 133: loss did not improve from 0.19979\n",
            "\n",
            "Epoch 134: loss did not improve from 0.19979\n",
            "\n",
            "Epoch 135: loss did not improve from 0.19979\n",
            "\n",
            "Epoch 136: loss did not improve from 0.19979\n",
            "\n",
            "Epoch 137: loss did not improve from 0.19979\n",
            "\n",
            "Epoch 138: loss did not improve from 0.19979\n",
            "\n",
            "Epoch 139: ReduceLROnPlateau reducing learning rate to 1.0000001179769417e-14.\n",
            "\n",
            "Epoch 139: loss did not improve from 0.19979\n",
            "\n",
            "Epoch 140: loss did not improve from 0.19979\n",
            "\n",
            "Epoch 141: loss did not improve from 0.19979\n",
            "\n",
            "Epoch 142: loss did not improve from 0.19979\n",
            "\n",
            "Epoch 143: loss did not improve from 0.19979\n",
            "\n",
            "Epoch 144: loss did not improve from 0.19979\n",
            "\n",
            "Epoch 145: loss did not improve from 0.19979\n",
            "\n",
            "Epoch 146: loss did not improve from 0.19979\n",
            "\n",
            "Epoch 147: loss did not improve from 0.19979\n",
            "\n",
            "Epoch 148: loss did not improve from 0.19979\n",
            "\n",
            "Epoch 149: loss did not improve from 0.19979\n",
            "\n",
            "Epoch 150: loss did not improve from 0.19979\n"
          ]
        }
      ]
    },
    {
      "cell_type": "code",
      "source": [
        "import tensorflow as tf\n",
        "loadedLSTMModel = tf.keras.models.load_model('/content/drive/MyDrive/heartbeat-sounds/LSTM2')\n",
        "predictions = loadedLSTMModel.predict(x_test, verbose=1)\n",
        "\n",
        "y_true, y_pred = [],[]\n",
        "classes = encoder.classes_\n",
        "for idx, prediction in enumerate(predictions): \n",
        "    y_true.append(classes[np.argmax(y_test[idx])])\n",
        "    y_pred.append(classes[np.argmax(prediction)])\n",
        "    \n",
        "print(classification_report(y_pred, y_true))"
      ],
      "metadata": {
        "colab": {
          "base_uri": "https://localhost:8080/"
        },
        "id": "_kKLbWL3gq9Z",
        "outputId": "79e4ccce-04ae-445f-b9fc-e4de665b98d6"
      },
      "execution_count": 69,
      "outputs": [
        {
          "output_type": "stream",
          "name": "stderr",
          "text": [
            "WARNING:tensorflow:Layer lstm_6 will not use cuDNN kernels since it doesn't meet the criteria. It will use a generic GPU kernel as fallback when running on GPU.\n",
            "WARNING:tensorflow:Layer lstm_7 will not use cuDNN kernels since it doesn't meet the criteria. It will use a generic GPU kernel as fallback when running on GPU.\n",
            "WARNING:tensorflow:Layer lstm_8 will not use cuDNN kernels since it doesn't meet the criteria. It will use a generic GPU kernel as fallback when running on GPU.\n"
          ]
        },
        {
          "output_type": "stream",
          "name": "stdout",
          "text": [
            "10/10 [==============================] - 1s 35ms/step\n",
            "              precision    recall  f1-score   support\n",
            "\n",
            "    artifact       0.85      0.90      0.88        31\n",
            "    extrahls       0.54      0.54      0.54        13\n",
            "  extrastole       0.00      0.00      0.00         3\n",
            "      murmur       0.43      0.64      0.51        58\n",
            "      normal       0.82      0.62      0.71       184\n",
            "\n",
            "    accuracy                           0.65       289\n",
            "   macro avg       0.53      0.54      0.53       289\n",
            "weighted avg       0.72      0.65      0.67       289\n",
            "\n"
          ]
        }
      ]
    },
    {
      "cell_type": "code",
      "source": [
        "testDataset = []\n",
        "for folder in [\"/content/drive/MyDrive/heartbeat-sounds/set_a/**\",\"/content/drive/MyDrive/heartbeat-sounds/set_b/**\"]:\n",
        "    for filename in glob.iglob(folder):\n",
        "        if os.path.exists(filename):\n",
        "            label = os.path.basename(filename).split(\"_\")[0]\n",
        "            duration = librosa.get_duration(filename=filename)\n",
        "            # skip audio smaller than 3 secs\n",
        "            if duration>=3:\n",
        "                if label not in [\"Aunlabelledtest\", \"Bunlabelledtest\"]:\n",
        "                      testDataset.append({\n",
        "                              \"filename\": filename,\n",
        "                              \"label\": label,\n",
        "                          })\n",
        "                       \n",
        "                        \n",
        "testDataset = pd.DataFrame(testDataset)\n",
        "testDataset = shuffle(testDataset, random_state=25)\n",
        "testDataset.info()"
      ],
      "metadata": {
        "colab": {
          "base_uri": "https://localhost:8080/"
        },
        "id": "VfRKMCY0g-HD",
        "outputId": "8e2e3421-8eaa-4806-f283-28ab5d0a3893"
      },
      "execution_count": 70,
      "outputs": [
        {
          "output_type": "stream",
          "name": "stdout",
          "text": [
            "<class 'pandas.core.frame.DataFrame'>\n",
            "Int64Index: 462 entries, 23 to 132\n",
            "Data columns (total 2 columns):\n",
            " #   Column    Non-Null Count  Dtype \n",
            "---  ------    --------------  ----- \n",
            " 0   filename  462 non-null    object\n",
            " 1   label     462 non-null    object\n",
            "dtypes: object(2)\n",
            "memory usage: 10.8+ KB\n"
          ]
        }
      ]
    },
    {
      "cell_type": "code",
      "source": [
        "trainNew, testNew = train_test_split(testDataset, test_size=0.35, random_state=42)\n",
        "\n",
        "print(\"Train: %i\" % len(trainNew))\n",
        "print(\"Test: %i\" % len(testNew))"
      ],
      "metadata": {
        "colab": {
          "base_uri": "https://localhost:8080/"
        },
        "id": "Bkr0gZoTiR-d",
        "outputId": "5da78c32-c858-4a5f-ebe3-e242c59d8a19"
      },
      "execution_count": 72,
      "outputs": [
        {
          "output_type": "stream",
          "name": "stdout",
          "text": [
            "Train: 300\n",
            "Test: 162\n"
          ]
        }
      ]
    },
    {
      "cell_type": "code",
      "source": [
        "import tensorflow as tf\n",
        "import librosa\n",
        "from collections import defaultdict\n",
        "import numpy as np"
      ],
      "metadata": {
        "id": "W1Xf2yJKnx3L"
      },
      "execution_count": 76,
      "outputs": []
    },
    {
      "cell_type": "code",
      "source": [
        "def eachQuantumPrediction(filepath,offset,model):\n",
        "  quantum = np.asarray(extract_features(filepath,offset))\n",
        "  quantum = quantum.reshape(1, quantum.shape[0], quantum.shape[1], 1)\n",
        "  return np.argmax(model.predict(quantum)[0])\n"
      ],
      "metadata": {
        "id": "KTPeu8XDiqCl"
      },
      "execution_count": 89,
      "outputs": []
    },
    {
      "cell_type": "code",
      "source": [
        "def samplePrediction(filepath, model):\n",
        "  duration = librosa.get_duration(filename=filepath)\n",
        "  slice_size = 3\n",
        "  iterations = int((duration-slice_size)/(slice_size-1))\n",
        "  iterations += 1\n",
        "  initial_offset = (duration - ((iterations*(slice_size-1))+1))/2\n",
        "  maxi = -1\n",
        "  maxCount = 0\n",
        "  hmap = defaultdict(int)\n",
        "  for i in range(iterations):\n",
        "      offset = initial_offset + i*(slice_size-1)\n",
        "      predNum = eachQuantumPrediction(filepath,offset,model)\n",
        "      hmap[predNum] += 1\n",
        "      if hmap[predNum] > maxCount:\n",
        "        maxCount = hmap[predNum]\n",
        "        maxi = predNum\n",
        "  return maxi\n",
        "  "
      ],
      "metadata": {
        "id": "lH2y8rp6lFk9"
      },
      "execution_count": 90,
      "outputs": []
    },
    {
      "cell_type": "code",
      "source": [
        "def samplesPrediction(model):\n",
        "  y_true, y_pred = [],[]\n",
        "  classes = encoder.classes_\n",
        "  for idx in tqdm(range(len(testNew))):\n",
        "    y_pred.append(classes[samplePrediction(testNew.filename.iloc[idx],model)])\n",
        "    y_true.append(testNew.label.iloc[idx])\n",
        "  print(classification_report(y_pred, y_true))\n",
        "  skplt.metrics.plot_confusion_matrix(y_true, y_pred, normalize=False)\n",
        "  plt.xticks(rotation=50)\n",
        "  plt.show()"
      ],
      "metadata": {
        "id": "xna5Di3zlH99"
      },
      "execution_count": 94,
      "outputs": []
    },
    {
      "cell_type": "code",
      "source": [
        "samplesPrediction(tf.keras.models.load_model('/content/drive/MyDrive/heartbeat-sounds/CNN2'))"
      ],
      "metadata": {
        "colab": {
          "base_uri": "https://localhost:8080/",
          "height": 1000
        },
        "id": "xfc8S4eSoIsU",
        "outputId": "691ba862-2e70-4d8b-f292-217ad876bb75"
      },
      "execution_count": 95,
      "outputs": [
        {
          "output_type": "stream",
          "name": "stderr",
          "text": [
            "\r  0%|          | 0/162 [00:00<?, ?it/s]"
          ]
        },
        {
          "output_type": "stream",
          "name": "stdout",
          "text": [
            "1/1 [==============================] - 0s 112ms/step\n",
            "1/1 [==============================] - 0s 30ms/step\n"
          ]
        },
        {
          "output_type": "stream",
          "name": "stderr",
          "text": [
            "\r  1%|          | 1/162 [00:00<01:03,  2.53it/s]"
          ]
        },
        {
          "output_type": "stream",
          "name": "stdout",
          "text": [
            "1/1 [==============================] - 0s 27ms/step\n",
            "1/1 [==============================] - 0s 26ms/step\n",
            "1/1 [==============================] - 0s 27ms/step\n",
            "1/1 [==============================] - 0s 27ms/step\n"
          ]
        },
        {
          "output_type": "stream",
          "name": "stderr",
          "text": [
            "\r  1%|          | 2/162 [00:01<01:30,  1.76it/s]"
          ]
        },
        {
          "output_type": "stream",
          "name": "stdout",
          "text": [
            "1/1 [==============================] - 0s 27ms/step\n"
          ]
        },
        {
          "output_type": "stream",
          "name": "stderr",
          "text": [
            "\r  2%|▏         | 3/162 [00:01<01:01,  2.60it/s]"
          ]
        },
        {
          "output_type": "stream",
          "name": "stdout",
          "text": [
            "1/1 [==============================] - 0s 32ms/step\n",
            "1/1 [==============================] - 0s 31ms/step\n",
            "1/1 [==============================] - 0s 27ms/step\n"
          ]
        },
        {
          "output_type": "stream",
          "name": "stderr",
          "text": [
            "\r  2%|▏         | 4/162 [00:01<01:11,  2.22it/s]"
          ]
        },
        {
          "output_type": "stream",
          "name": "stdout",
          "text": [
            "1/1 [==============================] - 0s 42ms/step\n",
            "1/1 [==============================] - 0s 26ms/step\n",
            "1/1 [==============================] - 0s 26ms/step\n",
            "1/1 [==============================] - 0s 27ms/step\n",
            "1/1 [==============================] - 0s 26ms/step\n"
          ]
        },
        {
          "output_type": "stream",
          "name": "stderr",
          "text": [
            "\r  3%|▎         | 5/162 [00:02<01:34,  1.66it/s]"
          ]
        },
        {
          "output_type": "stream",
          "name": "stdout",
          "text": [
            "1/1 [==============================] - 0s 26ms/step\n"
          ]
        },
        {
          "output_type": "stream",
          "name": "stderr",
          "text": [
            "\r  4%|▎         | 6/162 [00:02<01:11,  2.19it/s]"
          ]
        },
        {
          "output_type": "stream",
          "name": "stdout",
          "text": [
            "1/1 [==============================] - 0s 28ms/step\n",
            "1/1 [==============================] - 0s 28ms/step\n",
            "1/1 [==============================] - 0s 28ms/step\n",
            "1/1 [==============================] - 0s 30ms/step\n"
          ]
        },
        {
          "output_type": "stream",
          "name": "stderr",
          "text": [
            "\r  4%|▍         | 7/162 [00:03<01:26,  1.79it/s]"
          ]
        },
        {
          "output_type": "stream",
          "name": "stdout",
          "text": [
            "1/1 [==============================] - 0s 27ms/step\n",
            "1/1 [==============================] - 0s 27ms/step\n",
            "1/1 [==============================] - 0s 27ms/step\n",
            "1/1 [==============================] - 0s 31ms/step\n",
            "1/1 [==============================] - 0s 32ms/step\n"
          ]
        },
        {
          "output_type": "stream",
          "name": "stderr",
          "text": [
            "\r  5%|▍         | 8/162 [00:04<01:40,  1.54it/s]"
          ]
        },
        {
          "output_type": "stream",
          "name": "stdout",
          "text": [
            "1/1 [==============================] - 0s 28ms/step\n",
            "1/1 [==============================] - 0s 28ms/step\n",
            "1/1 [==============================] - 0s 38ms/step\n"
          ]
        },
        {
          "output_type": "stream",
          "name": "stderr",
          "text": [
            "\r  6%|▌         | 9/162 [00:04<01:33,  1.64it/s]"
          ]
        },
        {
          "output_type": "stream",
          "name": "stdout",
          "text": [
            "1/1 [==============================] - 0s 28ms/step\n",
            "1/1 [==============================] - 0s 35ms/step\n",
            "1/1 [==============================] - 0s 36ms/step\n",
            "1/1 [==============================] - 0s 26ms/step\n"
          ]
        },
        {
          "output_type": "stream",
          "name": "stderr",
          "text": [
            "\r  6%|▌         | 10/162 [00:05<01:37,  1.57it/s]"
          ]
        },
        {
          "output_type": "stream",
          "name": "stdout",
          "text": [
            "1/1 [==============================] - 0s 26ms/step\n",
            "1/1 [==============================] - 0s 28ms/step\n",
            "1/1 [==============================] - 0s 31ms/step\n",
            "1/1 [==============================] - 0s 31ms/step\n"
          ]
        },
        {
          "output_type": "stream",
          "name": "stderr",
          "text": [
            "\r  7%|▋         | 11/162 [00:06<01:38,  1.53it/s]"
          ]
        },
        {
          "output_type": "stream",
          "name": "stdout",
          "text": [
            "1/1 [==============================] - 0s 28ms/step\n",
            "1/1 [==============================] - 0s 27ms/step\n",
            "1/1 [==============================] - 0s 27ms/step\n",
            "1/1 [==============================] - 0s 26ms/step\n",
            "1/1 [==============================] - 0s 36ms/step\n"
          ]
        },
        {
          "output_type": "stream",
          "name": "stderr",
          "text": [
            "\r  7%|▋         | 12/162 [00:07<01:47,  1.40it/s]"
          ]
        },
        {
          "output_type": "stream",
          "name": "stdout",
          "text": [
            "1/1 [==============================] - 0s 30ms/step\n",
            "1/1 [==============================] - 0s 29ms/step\n",
            "1/1 [==============================] - 0s 27ms/step\n",
            "1/1 [==============================] - 0s 29ms/step\n"
          ]
        },
        {
          "output_type": "stream",
          "name": "stderr",
          "text": [
            "\r  8%|▊         | 13/162 [00:07<01:44,  1.42it/s]"
          ]
        },
        {
          "output_type": "stream",
          "name": "stdout",
          "text": [
            "1/1 [==============================] - 0s 33ms/step\n",
            "1/1 [==============================] - 0s 27ms/step\n",
            "1/1 [==============================] - 0s 26ms/step\n"
          ]
        },
        {
          "output_type": "stream",
          "name": "stderr",
          "text": [
            "\r  9%|▊         | 14/162 [00:08<01:40,  1.48it/s]"
          ]
        },
        {
          "output_type": "stream",
          "name": "stdout",
          "text": [
            "1/1 [==============================] - 0s 30ms/step\n",
            "1/1 [==============================] - 0s 26ms/step\n",
            "1/1 [==============================] - 0s 37ms/step\n"
          ]
        },
        {
          "output_type": "stream",
          "name": "stderr",
          "text": [
            "\r  9%|▉         | 15/162 [00:09<01:36,  1.53it/s]"
          ]
        },
        {
          "output_type": "stream",
          "name": "stdout",
          "text": [
            "1/1 [==============================] - 0s 42ms/step\n",
            "1/1 [==============================] - 0s 52ms/step\n",
            "1/1 [==============================] - 0s 39ms/step\n"
          ]
        },
        {
          "output_type": "stream",
          "name": "stderr",
          "text": [
            "\r 10%|▉         | 16/162 [00:09<01:44,  1.39it/s]"
          ]
        },
        {
          "output_type": "stream",
          "name": "stdout",
          "text": [
            "1/1 [==============================] - 0s 37ms/step\n",
            "1/1 [==============================] - 0s 49ms/step\n",
            "1/1 [==============================] - 0s 45ms/step\n",
            "1/1 [==============================] - 0s 42ms/step\n"
          ]
        },
        {
          "output_type": "stream",
          "name": "stderr",
          "text": [
            "\r 10%|█         | 17/162 [00:11<01:59,  1.22it/s]"
          ]
        },
        {
          "output_type": "stream",
          "name": "stdout",
          "text": [
            "1/1 [==============================] - 0s 32ms/step\n",
            "1/1 [==============================] - 0s 43ms/step\n",
            "1/1 [==============================] - 0s 31ms/step\n",
            "1/1 [==============================] - 0s 62ms/step\n"
          ]
        },
        {
          "output_type": "stream",
          "name": "stderr",
          "text": [
            "\r 11%|█         | 18/162 [00:12<02:12,  1.09it/s]"
          ]
        },
        {
          "output_type": "stream",
          "name": "stdout",
          "text": [
            "1/1 [==============================] - 0s 39ms/step\n",
            "1/1 [==============================] - 0s 26ms/step\n",
            "1/1 [==============================] - 0s 27ms/step\n",
            "1/1 [==============================] - 0s 27ms/step\n"
          ]
        },
        {
          "output_type": "stream",
          "name": "stderr",
          "text": [
            "\r 12%|█▏        | 19/162 [00:13<02:08,  1.11it/s]"
          ]
        },
        {
          "output_type": "stream",
          "name": "stdout",
          "text": [
            "1/1 [==============================] - 0s 28ms/step\n",
            "1/1 [==============================] - 0s 30ms/step\n",
            "1/1 [==============================] - 0s 34ms/step\n",
            "1/1 [==============================] - 0s 59ms/step\n"
          ]
        },
        {
          "output_type": "stream",
          "name": "stderr",
          "text": [
            "\r 12%|█▏        | 20/162 [00:14<02:19,  1.02it/s]"
          ]
        },
        {
          "output_type": "stream",
          "name": "stdout",
          "text": [
            "1/1 [==============================] - 0s 106ms/step\n",
            "1/1 [==============================] - 0s 97ms/step\n",
            "1/1 [==============================] - 0s 27ms/step\n"
          ]
        },
        {
          "output_type": "stream",
          "name": "stderr",
          "text": [
            "\r 13%|█▎        | 21/162 [00:15<02:32,  1.08s/it]"
          ]
        },
        {
          "output_type": "stream",
          "name": "stdout",
          "text": [
            "1/1 [==============================] - 0s 31ms/step\n",
            "1/1 [==============================] - 0s 26ms/step\n",
            "1/1 [==============================] - 0s 30ms/step\n"
          ]
        },
        {
          "output_type": "stream",
          "name": "stderr",
          "text": [
            "\r 14%|█▎        | 22/162 [00:16<02:08,  1.09it/s]"
          ]
        },
        {
          "output_type": "stream",
          "name": "stdout",
          "text": [
            "1/1 [==============================] - 0s 32ms/step\n"
          ]
        },
        {
          "output_type": "stream",
          "name": "stderr",
          "text": [
            "\r 14%|█▍        | 23/162 [00:16<01:36,  1.44it/s]"
          ]
        },
        {
          "output_type": "stream",
          "name": "stdout",
          "text": [
            "1/1 [==============================] - 0s 28ms/step\n"
          ]
        },
        {
          "output_type": "stream",
          "name": "stderr",
          "text": [
            "\r 15%|█▍        | 24/162 [00:16<01:14,  1.84it/s]"
          ]
        },
        {
          "output_type": "stream",
          "name": "stdout",
          "text": [
            "1/1 [==============================] - 0s 26ms/step\n",
            "1/1 [==============================] - 0s 27ms/step\n",
            "1/1 [==============================] - 0s 27ms/step\n",
            "1/1 [==============================] - 0s 34ms/step\n",
            "1/1 [==============================] - 0s 36ms/step\n",
            "1/1 [==============================] - 0s 30ms/step\n",
            "1/1 [==============================] - 0s 35ms/step\n"
          ]
        },
        {
          "output_type": "stream",
          "name": "stderr",
          "text": [
            "\r 15%|█▌        | 25/162 [00:17<01:42,  1.34it/s]"
          ]
        },
        {
          "output_type": "stream",
          "name": "stdout",
          "text": [
            "1/1 [==============================] - 0s 28ms/step\n",
            "1/1 [==============================] - 0s 33ms/step\n",
            "1/1 [==============================] - 0s 36ms/step\n",
            "1/1 [==============================] - 0s 30ms/step\n",
            "1/1 [==============================] - 0s 29ms/step\n",
            "1/1 [==============================] - 0s 30ms/step\n",
            "1/1 [==============================] - 0s 27ms/step\n",
            "1/1 [==============================] - 0s 26ms/step\n"
          ]
        },
        {
          "output_type": "stream",
          "name": "stderr",
          "text": [
            "\r 16%|█▌        | 26/162 [00:19<02:08,  1.06it/s]"
          ]
        },
        {
          "output_type": "stream",
          "name": "stdout",
          "text": [
            "1/1 [==============================] - 0s 30ms/step\n"
          ]
        },
        {
          "output_type": "stream",
          "name": "stderr",
          "text": [
            "\r 17%|█▋        | 27/162 [00:19<01:36,  1.40it/s]"
          ]
        },
        {
          "output_type": "stream",
          "name": "stdout",
          "text": [
            "1/1 [==============================] - 0s 29ms/step\n",
            "1/1 [==============================] - 0s 26ms/step\n",
            "1/1 [==============================] - 0s 29ms/step\n",
            "1/1 [==============================] - 0s 28ms/step\n",
            "1/1 [==============================] - 0s 27ms/step\n",
            "1/1 [==============================] - 0s 28ms/step\n"
          ]
        },
        {
          "output_type": "stream",
          "name": "stderr",
          "text": [
            "\r 17%|█▋        | 28/162 [00:20<01:47,  1.25it/s]"
          ]
        },
        {
          "output_type": "stream",
          "name": "stdout",
          "text": [
            "1/1 [==============================] - 0s 26ms/step\n",
            "1/1 [==============================] - 0s 39ms/step\n",
            "1/1 [==============================] - 0s 25ms/step\n",
            "1/1 [==============================] - 0s 27ms/step\n"
          ]
        },
        {
          "output_type": "stream",
          "name": "stderr",
          "text": [
            "\r 18%|█▊        | 29/162 [00:20<01:42,  1.30it/s]"
          ]
        },
        {
          "output_type": "stream",
          "name": "stdout",
          "text": [
            "1/1 [==============================] - 0s 29ms/step\n",
            "1/1 [==============================] - 0s 31ms/step\n",
            "1/1 [==============================] - 0s 31ms/step\n",
            "1/1 [==============================] - 0s 36ms/step\n",
            "1/1 [==============================] - 0s 29ms/step\n"
          ]
        },
        {
          "output_type": "stream",
          "name": "stderr",
          "text": [
            "\r 19%|█▊        | 30/162 [00:21<01:45,  1.25it/s]"
          ]
        },
        {
          "output_type": "stream",
          "name": "stdout",
          "text": [
            "1/1 [==============================] - 0s 29ms/step\n",
            "1/1 [==============================] - 0s 26ms/step\n",
            "1/1 [==============================] - 0s 31ms/step\n",
            "1/1 [==============================] - 0s 34ms/step\n"
          ]
        },
        {
          "output_type": "stream",
          "name": "stderr",
          "text": [
            "\r 19%|█▉        | 31/162 [00:22<01:41,  1.29it/s]"
          ]
        },
        {
          "output_type": "stream",
          "name": "stdout",
          "text": [
            "1/1 [==============================] - 0s 75ms/step\n",
            "1/1 [==============================] - 0s 39ms/step\n",
            "1/1 [==============================] - 0s 35ms/step\n",
            "1/1 [==============================] - 0s 51ms/step\n",
            "1/1 [==============================] - 0s 38ms/step\n"
          ]
        },
        {
          "output_type": "stream",
          "name": "stderr",
          "text": [
            "\r 20%|█▉        | 32/162 [00:23<02:01,  1.07it/s]"
          ]
        },
        {
          "output_type": "stream",
          "name": "stdout",
          "text": [
            "1/1 [==============================] - 0s 43ms/step\n",
            "1/1 [==============================] - 0s 53ms/step\n",
            "1/1 [==============================] - 0s 48ms/step\n",
            "1/1 [==============================] - 0s 46ms/step\n",
            "1/1 [==============================] - 0s 44ms/step\n",
            "1/1 [==============================] - 0s 63ms/step\n"
          ]
        },
        {
          "output_type": "stream",
          "name": "stderr",
          "text": [
            "\r 20%|██        | 33/162 [00:25<02:26,  1.14s/it]"
          ]
        },
        {
          "output_type": "stream",
          "name": "stdout",
          "text": [
            "1/1 [==============================] - 0s 49ms/step\n",
            "1/1 [==============================] - 0s 52ms/step\n",
            "1/1 [==============================] - 0s 31ms/step\n",
            "1/1 [==============================] - 0s 32ms/step\n"
          ]
        },
        {
          "output_type": "stream",
          "name": "stderr",
          "text": [
            "\r 21%|██        | 34/162 [00:26<02:18,  1.08s/it]"
          ]
        },
        {
          "output_type": "stream",
          "name": "stdout",
          "text": [
            "1/1 [==============================] - 0s 31ms/step\n",
            "1/1 [==============================] - 0s 31ms/step\n",
            "1/1 [==============================] - 0s 27ms/step\n",
            "1/1 [==============================] - 0s 26ms/step\n",
            "1/1 [==============================] - 0s 31ms/step\n",
            "1/1 [==============================] - 0s 32ms/step\n"
          ]
        },
        {
          "output_type": "stream",
          "name": "stderr",
          "text": [
            "\r 22%|██▏       | 35/162 [00:27<02:15,  1.07s/it]"
          ]
        },
        {
          "output_type": "stream",
          "name": "stdout",
          "text": [
            "1/1 [==============================] - 0s 30ms/step\n"
          ]
        },
        {
          "output_type": "stream",
          "name": "stderr",
          "text": [
            "\r 22%|██▏       | 36/162 [00:27<01:40,  1.25it/s]"
          ]
        },
        {
          "output_type": "stream",
          "name": "stdout",
          "text": [
            "1/1 [==============================] - 0s 32ms/step\n"
          ]
        },
        {
          "output_type": "stream",
          "name": "stderr",
          "text": [
            "\r 23%|██▎       | 37/162 [00:27<01:16,  1.62it/s]"
          ]
        },
        {
          "output_type": "stream",
          "name": "stdout",
          "text": [
            "1/1 [==============================] - 0s 26ms/step\n"
          ]
        },
        {
          "output_type": "stream",
          "name": "stderr",
          "text": [
            "\r 23%|██▎       | 38/162 [00:27<00:59,  2.08it/s]"
          ]
        },
        {
          "output_type": "stream",
          "name": "stdout",
          "text": [
            "1/1 [==============================] - 0s 26ms/step\n",
            "1/1 [==============================] - 0s 29ms/step\n",
            "1/1 [==============================] - 0s 30ms/step\n",
            "1/1 [==============================] - 0s 32ms/step\n",
            "1/1 [==============================] - 0s 35ms/step\n"
          ]
        },
        {
          "output_type": "stream",
          "name": "stderr",
          "text": [
            "\r 24%|██▍       | 39/162 [00:28<01:13,  1.68it/s]"
          ]
        },
        {
          "output_type": "stream",
          "name": "stdout",
          "text": [
            "1/1 [==============================] - 0s 29ms/step\n",
            "1/1 [==============================] - 0s 30ms/step\n"
          ]
        },
        {
          "output_type": "stream",
          "name": "stderr",
          "text": [
            "\r 25%|██▍       | 40/162 [00:29<01:03,  1.93it/s]"
          ]
        },
        {
          "output_type": "stream",
          "name": "stdout",
          "text": [
            "1/1 [==============================] - 0s 27ms/step\n",
            "1/1 [==============================] - 0s 27ms/step\n",
            "1/1 [==============================] - 0s 26ms/step\n",
            "1/1 [==============================] - 0s 27ms/step\n"
          ]
        },
        {
          "output_type": "stream",
          "name": "stderr",
          "text": [
            "\r 25%|██▌       | 41/162 [00:29<01:12,  1.67it/s]"
          ]
        },
        {
          "output_type": "stream",
          "name": "stdout",
          "text": [
            "1/1 [==============================] - 0s 26ms/step\n",
            "1/1 [==============================] - 0s 27ms/step\n",
            "1/1 [==============================] - 0s 26ms/step\n",
            "1/1 [==============================] - 0s 27ms/step\n",
            "1/1 [==============================] - 0s 34ms/step\n",
            "1/1 [==============================] - 0s 27ms/step\n",
            "1/1 [==============================] - 0s 26ms/step\n",
            "1/1 [==============================] - 0s 26ms/step\n",
            "1/1 [==============================] - 0s 27ms/step\n",
            "1/1 [==============================] - 0s 27ms/step\n"
          ]
        },
        {
          "output_type": "stream",
          "name": "stderr",
          "text": [
            "\r 26%|██▌       | 42/162 [00:31<01:52,  1.07it/s]"
          ]
        },
        {
          "output_type": "stream",
          "name": "stdout",
          "text": [
            "1/1 [==============================] - 0s 29ms/step\n",
            "1/1 [==============================] - 0s 26ms/step\n",
            "1/1 [==============================] - 0s 32ms/step\n",
            "1/1 [==============================] - 0s 28ms/step\n",
            "1/1 [==============================] - 0s 28ms/step\n",
            "1/1 [==============================] - 0s 27ms/step\n"
          ]
        },
        {
          "output_type": "stream",
          "name": "stderr",
          "text": [
            "\r 27%|██▋       | 43/162 [00:32<01:54,  1.04it/s]"
          ]
        },
        {
          "output_type": "stream",
          "name": "stdout",
          "text": [
            "1/1 [==============================] - 0s 31ms/step\n",
            "1/1 [==============================] - 0s 30ms/step\n",
            "1/1 [==============================] - 0s 25ms/step\n"
          ]
        },
        {
          "output_type": "stream",
          "name": "stderr",
          "text": [
            "\r 27%|██▋       | 44/162 [00:33<01:38,  1.19it/s]"
          ]
        },
        {
          "output_type": "stream",
          "name": "stdout",
          "text": [
            "1/1 [==============================] - 0s 26ms/step\n",
            "1/1 [==============================] - 0s 26ms/step\n",
            "1/1 [==============================] - 0s 29ms/step\n"
          ]
        },
        {
          "output_type": "stream",
          "name": "stderr",
          "text": [
            "\r 28%|██▊       | 45/162 [00:33<01:26,  1.35it/s]"
          ]
        },
        {
          "output_type": "stream",
          "name": "stdout",
          "text": [
            "1/1 [==============================] - 0s 32ms/step\n",
            "1/1 [==============================] - 0s 26ms/step\n",
            "1/1 [==============================] - 0s 26ms/step\n",
            "1/1 [==============================] - 0s 31ms/step\n"
          ]
        },
        {
          "output_type": "stream",
          "name": "stderr",
          "text": [
            "\r 28%|██▊       | 46/162 [00:34<01:24,  1.38it/s]"
          ]
        },
        {
          "output_type": "stream",
          "name": "stdout",
          "text": [
            "1/1 [==============================] - 0s 26ms/step\n",
            "1/1 [==============================] - 0s 26ms/step\n",
            "1/1 [==============================] - 0s 26ms/step\n",
            "1/1 [==============================] - 0s 41ms/step\n"
          ]
        },
        {
          "output_type": "stream",
          "name": "stderr",
          "text": [
            "\r 29%|██▉       | 47/162 [00:35<01:22,  1.40it/s]"
          ]
        },
        {
          "output_type": "stream",
          "name": "stdout",
          "text": [
            "1/1 [==============================] - 0s 32ms/step\n",
            "1/1 [==============================] - 0s 28ms/step\n",
            "1/1 [==============================] - 0s 31ms/step\n",
            "1/1 [==============================] - 0s 32ms/step\n",
            "1/1 [==============================] - 0s 26ms/step\n",
            "1/1 [==============================] - 0s 27ms/step\n",
            "1/1 [==============================] - 0s 43ms/step\n",
            "1/1 [==============================] - 0s 80ms/step\n",
            "1/1 [==============================] - 0s 48ms/step\n",
            "1/1 [==============================] - 0s 63ms/step\n",
            "1/1 [==============================] - 0s 33ms/step\n",
            "1/1 [==============================] - 0s 29ms/step\n",
            "1/1 [==============================] - 0s 37ms/step\n"
          ]
        },
        {
          "output_type": "stream",
          "name": "stderr",
          "text": [
            "\r 30%|██▉       | 48/162 [00:38<02:35,  1.36s/it]"
          ]
        },
        {
          "output_type": "stream",
          "name": "stdout",
          "text": [
            "1/1 [==============================] - 0s 30ms/step\n"
          ]
        },
        {
          "output_type": "stream",
          "name": "stderr",
          "text": [
            "\r 30%|███       | 49/162 [00:38<01:54,  1.01s/it]"
          ]
        },
        {
          "output_type": "stream",
          "name": "stdout",
          "text": [
            "1/1 [==============================] - 0s 37ms/step\n",
            "1/1 [==============================] - 0s 32ms/step\n",
            "1/1 [==============================] - 0s 52ms/step\n",
            "1/1 [==============================] - 0s 45ms/step\n",
            "1/1 [==============================] - 0s 32ms/step\n"
          ]
        },
        {
          "output_type": "stream",
          "name": "stderr",
          "text": [
            "\r 31%|███       | 50/162 [00:39<01:59,  1.07s/it]"
          ]
        },
        {
          "output_type": "stream",
          "name": "stdout",
          "text": [
            "1/1 [==============================] - 0s 40ms/step\n",
            "1/1 [==============================] - 0s 28ms/step\n"
          ]
        },
        {
          "output_type": "stream",
          "name": "stderr",
          "text": [
            "\r 31%|███▏      | 51/162 [00:39<01:38,  1.12it/s]"
          ]
        },
        {
          "output_type": "stream",
          "name": "stdout",
          "text": [
            "1/1 [==============================] - 0s 33ms/step\n",
            "1/1 [==============================] - 0s 27ms/step\n",
            "1/1 [==============================] - 0s 32ms/step\n"
          ]
        },
        {
          "output_type": "stream",
          "name": "stderr",
          "text": [
            "\r 32%|███▏      | 52/162 [00:40<01:25,  1.28it/s]"
          ]
        },
        {
          "output_type": "stream",
          "name": "stdout",
          "text": [
            "1/1 [==============================] - 0s 28ms/step\n"
          ]
        },
        {
          "output_type": "stream",
          "name": "stderr",
          "text": [
            "\r 33%|███▎      | 53/162 [00:40<01:05,  1.67it/s]"
          ]
        },
        {
          "output_type": "stream",
          "name": "stdout",
          "text": [
            "1/1 [==============================] - 0s 32ms/step\n"
          ]
        },
        {
          "output_type": "stream",
          "name": "stderr",
          "text": [
            "\r 33%|███▎      | 54/162 [00:40<00:51,  2.12it/s]"
          ]
        },
        {
          "output_type": "stream",
          "name": "stdout",
          "text": [
            "1/1 [==============================] - 0s 27ms/step\n",
            "1/1 [==============================] - 0s 47ms/step\n"
          ]
        },
        {
          "output_type": "stream",
          "name": "stderr",
          "text": [
            "\r 34%|███▍      | 55/162 [00:41<00:47,  2.23it/s]"
          ]
        },
        {
          "output_type": "stream",
          "name": "stdout",
          "text": [
            "1/1 [==============================] - 0s 32ms/step\n"
          ]
        },
        {
          "output_type": "stream",
          "name": "stderr",
          "text": [
            "\r 35%|███▍      | 56/162 [00:41<00:38,  2.74it/s]"
          ]
        },
        {
          "output_type": "stream",
          "name": "stdout",
          "text": [
            "1/1 [==============================] - 0s 31ms/step\n",
            "1/1 [==============================] - 0s 28ms/step\n"
          ]
        },
        {
          "output_type": "stream",
          "name": "stderr",
          "text": [
            "\r 35%|███▌      | 57/162 [00:41<00:37,  2.79it/s]"
          ]
        },
        {
          "output_type": "stream",
          "name": "stdout",
          "text": [
            "1/1 [==============================] - 0s 28ms/step\n",
            "1/1 [==============================] - 0s 28ms/step\n",
            "1/1 [==============================] - 0s 33ms/step\n"
          ]
        },
        {
          "output_type": "stream",
          "name": "stderr",
          "text": [
            "\r 36%|███▌      | 58/162 [00:42<00:45,  2.31it/s]"
          ]
        },
        {
          "output_type": "stream",
          "name": "stdout",
          "text": [
            "1/1 [==============================] - 0s 32ms/step\n",
            "1/1 [==============================] - 0s 27ms/step\n",
            "1/1 [==============================] - 0s 28ms/step\n",
            "1/1 [==============================] - 0s 27ms/step\n",
            "1/1 [==============================] - 0s 26ms/step\n",
            "1/1 [==============================] - 0s 27ms/step\n",
            "1/1 [==============================] - 0s 26ms/step\n"
          ]
        },
        {
          "output_type": "stream",
          "name": "stderr",
          "text": [
            "\r 36%|███▋      | 59/162 [00:43<01:07,  1.52it/s]"
          ]
        },
        {
          "output_type": "stream",
          "name": "stdout",
          "text": [
            "1/1 [==============================] - 0s 28ms/step\n",
            "1/1 [==============================] - 0s 26ms/step\n",
            "1/1 [==============================] - 0s 27ms/step\n",
            "1/1 [==============================] - 0s 38ms/step\n"
          ]
        },
        {
          "output_type": "stream",
          "name": "stderr",
          "text": [
            "\r 37%|███▋      | 60/162 [00:44<01:10,  1.44it/s]"
          ]
        },
        {
          "output_type": "stream",
          "name": "stdout",
          "text": [
            "1/1 [==============================] - 0s 32ms/step\n",
            "1/1 [==============================] - 0s 28ms/step\n"
          ]
        },
        {
          "output_type": "stream",
          "name": "stderr",
          "text": [
            "\r 38%|███▊      | 61/162 [00:44<00:59,  1.71it/s]"
          ]
        },
        {
          "output_type": "stream",
          "name": "stdout",
          "text": [
            "1/1 [==============================] - 0s 27ms/step\n",
            "1/1 [==============================] - 0s 27ms/step\n",
            "1/1 [==============================] - 0s 31ms/step\n",
            "1/1 [==============================] - 0s 26ms/step\n"
          ]
        },
        {
          "output_type": "stream",
          "name": "stderr",
          "text": [
            "\r 38%|███▊      | 62/162 [00:45<01:03,  1.57it/s]"
          ]
        },
        {
          "output_type": "stream",
          "name": "stdout",
          "text": [
            "1/1 [==============================] - 0s 26ms/step\n",
            "1/1 [==============================] - 0s 31ms/step\n",
            "1/1 [==============================] - 0s 26ms/step\n"
          ]
        },
        {
          "output_type": "stream",
          "name": "stderr",
          "text": [
            "\r 39%|███▉      | 63/162 [00:45<01:00,  1.64it/s]"
          ]
        },
        {
          "output_type": "stream",
          "name": "stdout",
          "text": [
            "1/1 [==============================] - 0s 31ms/step\n",
            "1/1 [==============================] - 0s 33ms/step\n",
            "1/1 [==============================] - 0s 26ms/step\n"
          ]
        },
        {
          "output_type": "stream",
          "name": "stderr",
          "text": [
            "\r 40%|███▉      | 64/162 [00:46<00:58,  1.69it/s]"
          ]
        },
        {
          "output_type": "stream",
          "name": "stdout",
          "text": [
            "1/1 [==============================] - 0s 32ms/step\n",
            "1/1 [==============================] - 0s 26ms/step\n",
            "1/1 [==============================] - 0s 26ms/step\n",
            "1/1 [==============================] - 0s 29ms/step\n"
          ]
        },
        {
          "output_type": "stream",
          "name": "stderr",
          "text": [
            "\r 40%|████      | 65/162 [00:47<00:59,  1.63it/s]"
          ]
        },
        {
          "output_type": "stream",
          "name": "stdout",
          "text": [
            "1/1 [==============================] - 0s 25ms/step\n"
          ]
        },
        {
          "output_type": "stream",
          "name": "stderr",
          "text": [
            "\r 41%|████      | 66/162 [00:47<00:46,  2.09it/s]"
          ]
        },
        {
          "output_type": "stream",
          "name": "stdout",
          "text": [
            "1/1 [==============================] - 0s 40ms/step\n",
            "1/1 [==============================] - 0s 27ms/step\n",
            "1/1 [==============================] - 0s 33ms/step\n",
            "1/1 [==============================] - 0s 30ms/step\n"
          ]
        },
        {
          "output_type": "stream",
          "name": "stderr",
          "text": [
            "\r 41%|████▏     | 67/162 [00:47<00:52,  1.82it/s]"
          ]
        },
        {
          "output_type": "stream",
          "name": "stdout",
          "text": [
            "1/1 [==============================] - 0s 29ms/step\n",
            "1/1 [==============================] - 0s 27ms/step\n",
            "1/1 [==============================] - 0s 27ms/step\n",
            "1/1 [==============================] - 0s 27ms/step\n"
          ]
        },
        {
          "output_type": "stream",
          "name": "stderr",
          "text": [
            "\r 42%|████▏     | 68/162 [00:48<00:58,  1.62it/s]"
          ]
        },
        {
          "output_type": "stream",
          "name": "stdout",
          "text": [
            "1/1 [==============================] - 0s 31ms/step\n"
          ]
        },
        {
          "output_type": "stream",
          "name": "stderr",
          "text": [
            "\r 43%|████▎     | 69/162 [00:48<00:44,  2.08it/s]"
          ]
        },
        {
          "output_type": "stream",
          "name": "stdout",
          "text": [
            "1/1 [==============================] - 0s 26ms/step\n",
            "1/1 [==============================] - 0s 32ms/step\n"
          ]
        },
        {
          "output_type": "stream",
          "name": "stderr",
          "text": [
            "\r 43%|████▎     | 70/162 [00:49<00:40,  2.27it/s]"
          ]
        },
        {
          "output_type": "stream",
          "name": "stdout",
          "text": [
            "1/1 [==============================] - 0s 33ms/step\n"
          ]
        },
        {
          "output_type": "stream",
          "name": "stderr",
          "text": [
            "\r 44%|████▍     | 71/162 [00:49<00:33,  2.74it/s]"
          ]
        },
        {
          "output_type": "stream",
          "name": "stdout",
          "text": [
            "1/1 [==============================] - 0s 27ms/step\n",
            "1/1 [==============================] - 0s 45ms/step\n",
            "1/1 [==============================] - 0s 71ms/step\n"
          ]
        },
        {
          "output_type": "stream",
          "name": "stderr",
          "text": [
            "\r 44%|████▍     | 72/162 [00:50<00:40,  2.21it/s]"
          ]
        },
        {
          "output_type": "stream",
          "name": "stdout",
          "text": [
            "1/1 [==============================] - 0s 38ms/step\n"
          ]
        },
        {
          "output_type": "stream",
          "name": "stderr",
          "text": [
            "\r 45%|████▌     | 73/162 [00:50<00:35,  2.51it/s]"
          ]
        },
        {
          "output_type": "stream",
          "name": "stdout",
          "text": [
            "1/1 [==============================] - 0s 43ms/step\n",
            "1/1 [==============================] - 0s 41ms/step\n",
            "1/1 [==============================] - 0s 58ms/step\n"
          ]
        },
        {
          "output_type": "stream",
          "name": "stderr",
          "text": [
            "\r 46%|████▌     | 74/162 [00:51<00:47,  1.85it/s]"
          ]
        },
        {
          "output_type": "stream",
          "name": "stdout",
          "text": [
            "1/1 [==============================] - 0s 36ms/step\n",
            "1/1 [==============================] - 0s 41ms/step\n",
            "1/1 [==============================] - 0s 43ms/step\n",
            "1/1 [==============================] - 0s 48ms/step\n",
            "1/1 [==============================] - 0s 47ms/step\n"
          ]
        },
        {
          "output_type": "stream",
          "name": "stderr",
          "text": [
            "\r 46%|████▋     | 75/162 [00:52<01:09,  1.24it/s]"
          ]
        },
        {
          "output_type": "stream",
          "name": "stdout",
          "text": [
            "1/1 [==============================] - 0s 38ms/step\n",
            "1/1 [==============================] - 0s 42ms/step\n",
            "1/1 [==============================] - 0s 28ms/step\n",
            "1/1 [==============================] - 0s 29ms/step\n"
          ]
        },
        {
          "output_type": "stream",
          "name": "stderr",
          "text": [
            "\r 47%|████▋     | 76/162 [00:53<01:12,  1.18it/s]"
          ]
        },
        {
          "output_type": "stream",
          "name": "stdout",
          "text": [
            "1/1 [==============================] - 0s 29ms/step\n",
            "1/1 [==============================] - 0s 26ms/step\n",
            "1/1 [==============================] - 0s 36ms/step\n"
          ]
        },
        {
          "output_type": "stream",
          "name": "stderr",
          "text": [
            "\r 48%|████▊     | 77/162 [00:58<02:43,  1.93s/it]"
          ]
        },
        {
          "output_type": "stream",
          "name": "stdout",
          "text": [
            "1/1 [==============================] - 0s 35ms/step\n",
            "1/1 [==============================] - 0s 37ms/step\n",
            "1/1 [==============================] - 0s 54ms/step\n",
            "1/1 [==============================] - 0s 34ms/step\n",
            "1/1 [==============================] - 0s 39ms/step\n"
          ]
        },
        {
          "output_type": "stream",
          "name": "stderr",
          "text": [
            "\r 48%|████▊     | 78/162 [00:58<02:15,  1.62s/it]"
          ]
        },
        {
          "output_type": "stream",
          "name": "stdout",
          "text": [
            "1/1 [==============================] - 0s 38ms/step\n",
            "1/1 [==============================] - 0s 35ms/step\n",
            "1/1 [==============================] - 0s 33ms/step\n"
          ]
        },
        {
          "output_type": "stream",
          "name": "stderr",
          "text": [
            "\r 49%|████▉     | 79/162 [00:59<01:47,  1.29s/it]"
          ]
        },
        {
          "output_type": "stream",
          "name": "stdout",
          "text": [
            "1/1 [==============================] - 0s 36ms/step\n",
            "1/1 [==============================] - 0s 34ms/step\n",
            "1/1 [==============================] - 0s 33ms/step\n",
            "1/1 [==============================] - 0s 33ms/step\n"
          ]
        },
        {
          "output_type": "stream",
          "name": "stderr",
          "text": [
            "\r 49%|████▉     | 80/162 [01:00<01:31,  1.11s/it]"
          ]
        },
        {
          "output_type": "stream",
          "name": "stdout",
          "text": [
            "1/1 [==============================] - 0s 36ms/step\n",
            "1/1 [==============================] - 0s 35ms/step\n",
            "1/1 [==============================] - 0s 36ms/step\n"
          ]
        },
        {
          "output_type": "stream",
          "name": "stderr",
          "text": [
            "\r 50%|█████     | 81/162 [01:00<01:17,  1.05it/s]"
          ]
        },
        {
          "output_type": "stream",
          "name": "stdout",
          "text": [
            "1/1 [==============================] - 0s 35ms/step\n",
            "1/1 [==============================] - 0s 35ms/step\n",
            "1/1 [==============================] - 0s 34ms/step\n",
            "1/1 [==============================] - 0s 40ms/step\n"
          ]
        },
        {
          "output_type": "stream",
          "name": "stderr",
          "text": [
            "\r 51%|█████     | 82/162 [01:01<01:11,  1.12it/s]"
          ]
        },
        {
          "output_type": "stream",
          "name": "stdout",
          "text": [
            "1/1 [==============================] - 0s 40ms/step\n"
          ]
        },
        {
          "output_type": "stream",
          "name": "stderr",
          "text": [
            "\r 51%|█████     | 83/162 [01:01<00:54,  1.46it/s]"
          ]
        },
        {
          "output_type": "stream",
          "name": "stdout",
          "text": [
            "1/1 [==============================] - 0s 35ms/step\n",
            "1/1 [==============================] - 0s 34ms/step\n",
            "1/1 [==============================] - 0s 37ms/step\n",
            "1/1 [==============================] - 0s 34ms/step\n"
          ]
        },
        {
          "output_type": "stream",
          "name": "stderr",
          "text": [
            "\r 52%|█████▏    | 84/162 [01:02<00:53,  1.45it/s]"
          ]
        },
        {
          "output_type": "stream",
          "name": "stdout",
          "text": [
            "1/1 [==============================] - 0s 39ms/step\n"
          ]
        },
        {
          "output_type": "stream",
          "name": "stderr",
          "text": [
            "\r 52%|█████▏    | 85/162 [01:02<00:41,  1.84it/s]"
          ]
        },
        {
          "output_type": "stream",
          "name": "stdout",
          "text": [
            "1/1 [==============================] - 0s 35ms/step\n",
            "1/1 [==============================] - 0s 35ms/step\n",
            "1/1 [==============================] - 0s 35ms/step\n",
            "1/1 [==============================] - 0s 38ms/step\n",
            "1/1 [==============================] - 0s 56ms/step\n",
            "1/1 [==============================] - 0s 42ms/step\n",
            "1/1 [==============================] - 0s 50ms/step\n",
            "1/1 [==============================] - 0s 55ms/step\n"
          ]
        },
        {
          "output_type": "stream",
          "name": "stderr",
          "text": [
            "\r 53%|█████▎    | 86/162 [01:04<01:14,  1.02it/s]"
          ]
        },
        {
          "output_type": "stream",
          "name": "stdout",
          "text": [
            "1/1 [==============================] - 0s 42ms/step\n"
          ]
        },
        {
          "output_type": "stream",
          "name": "stderr",
          "text": [
            "\r 54%|█████▎    | 87/162 [01:04<00:59,  1.27it/s]"
          ]
        },
        {
          "output_type": "stream",
          "name": "stdout",
          "text": [
            "1/1 [==============================] - 0s 61ms/step\n",
            "1/1 [==============================] - 0s 54ms/step\n",
            "1/1 [==============================] - 0s 81ms/step\n"
          ]
        },
        {
          "output_type": "stream",
          "name": "stderr",
          "text": [
            "\r 54%|█████▍    | 88/162 [01:05<01:03,  1.16it/s]"
          ]
        },
        {
          "output_type": "stream",
          "name": "stdout",
          "text": [
            "1/1 [==============================] - 0s 79ms/step\n"
          ]
        },
        {
          "output_type": "stream",
          "name": "stderr",
          "text": [
            "\r 55%|█████▍    | 89/162 [01:06<00:51,  1.41it/s]"
          ]
        },
        {
          "output_type": "stream",
          "name": "stdout",
          "text": [
            "1/1 [==============================] - 0s 64ms/step\n",
            "1/1 [==============================] - 0s 44ms/step\n",
            "1/1 [==============================] - 0s 52ms/step\n",
            "1/1 [==============================] - 0s 52ms/step\n"
          ]
        },
        {
          "output_type": "stream",
          "name": "stderr",
          "text": [
            "\r 56%|█████▌    | 90/162 [01:07<01:03,  1.13it/s]"
          ]
        },
        {
          "output_type": "stream",
          "name": "stdout",
          "text": [
            "1/1 [==============================] - 0s 55ms/step\n",
            "1/1 [==============================] - 0s 73ms/step\n",
            "1/1 [==============================] - 0s 45ms/step\n",
            "1/1 [==============================] - 0s 67ms/step\n"
          ]
        },
        {
          "output_type": "stream",
          "name": "stderr",
          "text": [
            "\r 56%|█████▌    | 91/162 [01:08<01:12,  1.02s/it]"
          ]
        },
        {
          "output_type": "stream",
          "name": "stdout",
          "text": [
            "1/1 [==============================] - 0s 52ms/step\n"
          ]
        },
        {
          "output_type": "stream",
          "name": "stderr",
          "text": [
            "\r 57%|█████▋    | 92/162 [01:09<00:56,  1.24it/s]"
          ]
        },
        {
          "output_type": "stream",
          "name": "stdout",
          "text": [
            "1/1 [==============================] - 0s 66ms/step\n"
          ]
        },
        {
          "output_type": "stream",
          "name": "stderr",
          "text": [
            "\r 57%|█████▋    | 93/162 [01:09<00:44,  1.55it/s]"
          ]
        },
        {
          "output_type": "stream",
          "name": "stdout",
          "text": [
            "1/1 [==============================] - 0s 46ms/step\n",
            "1/1 [==============================] - 0s 50ms/step\n",
            "1/1 [==============================] - 0s 41ms/step\n"
          ]
        },
        {
          "output_type": "stream",
          "name": "stderr",
          "text": [
            "\r 58%|█████▊    | 94/162 [01:10<00:46,  1.47it/s]"
          ]
        },
        {
          "output_type": "stream",
          "name": "stdout",
          "text": [
            "1/1 [==============================] - 0s 31ms/step\n",
            "1/1 [==============================] - 0s 32ms/step\n",
            "1/1 [==============================] - 0s 38ms/step\n",
            "1/1 [==============================] - 0s 34ms/step\n",
            "1/1 [==============================] - 0s 34ms/step\n",
            "1/1 [==============================] - 0s 37ms/step\n"
          ]
        },
        {
          "output_type": "stream",
          "name": "stderr",
          "text": [
            "\r 59%|█████▊    | 95/162 [01:11<00:53,  1.25it/s]"
          ]
        },
        {
          "output_type": "stream",
          "name": "stdout",
          "text": [
            "1/1 [==============================] - 0s 33ms/step\n",
            "1/1 [==============================] - 0s 33ms/step\n",
            "1/1 [==============================] - 0s 36ms/step\n",
            "1/1 [==============================] - 0s 38ms/step\n"
          ]
        },
        {
          "output_type": "stream",
          "name": "stderr",
          "text": [
            "\r 59%|█████▉    | 96/162 [01:12<00:51,  1.29it/s]"
          ]
        },
        {
          "output_type": "stream",
          "name": "stdout",
          "text": [
            "1/1 [==============================] - 0s 39ms/step\n",
            "1/1 [==============================] - 0s 127ms/step\n",
            "1/1 [==============================] - 0s 79ms/step\n",
            "1/1 [==============================] - 0s 122ms/step\n"
          ]
        },
        {
          "output_type": "stream",
          "name": "stderr",
          "text": [
            "\r 60%|█████▉    | 97/162 [01:14<01:13,  1.13s/it]"
          ]
        },
        {
          "output_type": "stream",
          "name": "stdout",
          "text": [
            "1/1 [==============================] - 0s 32ms/step\n",
            "1/1 [==============================] - 0s 36ms/step\n"
          ]
        },
        {
          "output_type": "stream",
          "name": "stderr",
          "text": [
            "\r 60%|██████    | 98/162 [01:14<00:57,  1.11it/s]"
          ]
        },
        {
          "output_type": "stream",
          "name": "stdout",
          "text": [
            "1/1 [==============================] - 0s 36ms/step\n"
          ]
        },
        {
          "output_type": "stream",
          "name": "stderr",
          "text": [
            "\r 61%|██████    | 99/162 [01:14<00:43,  1.46it/s]"
          ]
        },
        {
          "output_type": "stream",
          "name": "stdout",
          "text": [
            "1/1 [==============================] - 0s 31ms/step\n",
            "1/1 [==============================] - 0s 37ms/step\n",
            "1/1 [==============================] - 0s 32ms/step\n",
            "1/1 [==============================] - 0s 32ms/step\n",
            "1/1 [==============================] - 0s 33ms/step\n",
            "1/1 [==============================] - 0s 32ms/step\n"
          ]
        },
        {
          "output_type": "stream",
          "name": "stderr",
          "text": [
            "\r 62%|██████▏   | 100/162 [01:15<00:49,  1.25it/s]"
          ]
        },
        {
          "output_type": "stream",
          "name": "stdout",
          "text": [
            "1/1 [==============================] - 0s 31ms/step\n",
            "1/1 [==============================] - 0s 34ms/step\n",
            "1/1 [==============================] - 0s 52ms/step\n"
          ]
        },
        {
          "output_type": "stream",
          "name": "stderr",
          "text": [
            "\r 62%|██████▏   | 101/162 [01:16<00:44,  1.36it/s]"
          ]
        },
        {
          "output_type": "stream",
          "name": "stdout",
          "text": [
            "1/1 [==============================] - 0s 34ms/step\n"
          ]
        },
        {
          "output_type": "stream",
          "name": "stderr",
          "text": [
            "\r 63%|██████▎   | 102/162 [01:16<00:33,  1.77it/s]"
          ]
        },
        {
          "output_type": "stream",
          "name": "stdout",
          "text": [
            "1/1 [==============================] - 0s 36ms/step\n"
          ]
        },
        {
          "output_type": "stream",
          "name": "stderr",
          "text": [
            "\r 64%|██████▎   | 103/162 [01:16<00:26,  2.20it/s]"
          ]
        },
        {
          "output_type": "stream",
          "name": "stdout",
          "text": [
            "1/1 [==============================] - 0s 31ms/step\n",
            "1/1 [==============================] - 0s 32ms/step\n",
            "1/1 [==============================] - 0s 37ms/step\n",
            "1/1 [==============================] - 0s 30ms/step\n"
          ]
        },
        {
          "output_type": "stream",
          "name": "stderr",
          "text": [
            "\r 64%|██████▍   | 104/162 [01:17<00:31,  1.82it/s]"
          ]
        },
        {
          "output_type": "stream",
          "name": "stdout",
          "text": [
            "1/1 [==============================] - 0s 30ms/step\n",
            "1/1 [==============================] - 0s 38ms/step\n"
          ]
        },
        {
          "output_type": "stream",
          "name": "stderr",
          "text": [
            "\r 65%|██████▍   | 105/162 [01:17<00:27,  2.04it/s]"
          ]
        },
        {
          "output_type": "stream",
          "name": "stdout",
          "text": [
            "1/1 [==============================] - 0s 38ms/step\n",
            "1/1 [==============================] - 0s 33ms/step\n",
            "1/1 [==============================] - 0s 42ms/step\n",
            "1/1 [==============================] - 0s 38ms/step\n",
            "1/1 [==============================] - 0s 31ms/step\n",
            "1/1 [==============================] - 0s 32ms/step\n"
          ]
        },
        {
          "output_type": "stream",
          "name": "stderr",
          "text": [
            "\r 65%|██████▌   | 106/162 [01:18<00:37,  1.48it/s]"
          ]
        },
        {
          "output_type": "stream",
          "name": "stdout",
          "text": [
            "1/1 [==============================] - 0s 40ms/step\n",
            "1/1 [==============================] - 0s 40ms/step\n"
          ]
        },
        {
          "output_type": "stream",
          "name": "stderr",
          "text": [
            "\r 66%|██████▌   | 107/162 [01:19<00:34,  1.61it/s]"
          ]
        },
        {
          "output_type": "stream",
          "name": "stdout",
          "text": [
            "1/1 [==============================] - 0s 52ms/step\n",
            "1/1 [==============================] - 0s 43ms/step\n",
            "1/1 [==============================] - 0s 38ms/step\n",
            "1/1 [==============================] - 0s 33ms/step\n"
          ]
        },
        {
          "output_type": "stream",
          "name": "stderr",
          "text": [
            "\r 67%|██████▋   | 108/162 [01:20<00:43,  1.25it/s]"
          ]
        },
        {
          "output_type": "stream",
          "name": "stdout",
          "text": [
            "1/1 [==============================] - 0s 69ms/step\n",
            "1/1 [==============================] - 0s 51ms/step\n"
          ]
        },
        {
          "output_type": "stream",
          "name": "stderr",
          "text": [
            "\r 67%|██████▋   | 109/162 [01:21<00:38,  1.39it/s]"
          ]
        },
        {
          "output_type": "stream",
          "name": "stdout",
          "text": [
            "1/1 [==============================] - 0s 51ms/step\n",
            "1/1 [==============================] - 0s 37ms/step\n",
            "1/1 [==============================] - 0s 63ms/step\n",
            "1/1 [==============================] - 0s 44ms/step\n",
            "1/1 [==============================] - 0s 39ms/step\n",
            "1/1 [==============================] - 0s 34ms/step\n",
            "1/1 [==============================] - 0s 37ms/step\n"
          ]
        },
        {
          "output_type": "stream",
          "name": "stderr",
          "text": [
            "\r 68%|██████▊   | 110/162 [01:22<00:54,  1.04s/it]"
          ]
        },
        {
          "output_type": "stream",
          "name": "stdout",
          "text": [
            "1/1 [==============================] - 0s 30ms/step\n"
          ]
        },
        {
          "output_type": "stream",
          "name": "stderr",
          "text": [
            "\r 69%|██████▊   | 111/162 [01:23<00:39,  1.28it/s]"
          ]
        },
        {
          "output_type": "stream",
          "name": "stdout",
          "text": [
            "1/1 [==============================] - 0s 33ms/step\n",
            "1/1 [==============================] - 0s 30ms/step\n",
            "1/1 [==============================] - 0s 33ms/step\n",
            "1/1 [==============================] - 0s 28ms/step\n"
          ]
        },
        {
          "output_type": "stream",
          "name": "stderr",
          "text": [
            "\r 69%|██████▉   | 112/162 [01:23<00:37,  1.33it/s]"
          ]
        },
        {
          "output_type": "stream",
          "name": "stdout",
          "text": [
            "1/1 [==============================] - 0s 32ms/step\n",
            "1/1 [==============================] - 0s 32ms/step\n",
            "1/1 [==============================] - 0s 33ms/step\n",
            "1/1 [==============================] - 0s 42ms/step\n",
            "1/1 [==============================] - 0s 32ms/step\n",
            "1/1 [==============================] - 0s 29ms/step\n",
            "1/1 [==============================] - 0s 35ms/step\n"
          ]
        },
        {
          "output_type": "stream",
          "name": "stderr",
          "text": [
            "\r 70%|██████▉   | 113/162 [01:24<00:43,  1.12it/s]"
          ]
        },
        {
          "output_type": "stream",
          "name": "stdout",
          "text": [
            "1/1 [==============================] - 0s 28ms/step\n"
          ]
        },
        {
          "output_type": "stream",
          "name": "stderr",
          "text": [
            "\r 70%|███████   | 114/162 [01:25<00:32,  1.48it/s]"
          ]
        },
        {
          "output_type": "stream",
          "name": "stdout",
          "text": [
            "1/1 [==============================] - 0s 29ms/step\n",
            "1/1 [==============================] - 0s 45ms/step\n"
          ]
        },
        {
          "output_type": "stream",
          "name": "stderr",
          "text": [
            "\r 71%|███████   | 115/162 [01:25<00:27,  1.72it/s]"
          ]
        },
        {
          "output_type": "stream",
          "name": "stdout",
          "text": [
            "1/1 [==============================] - 0s 30ms/step\n",
            "1/1 [==============================] - 0s 30ms/step\n",
            "1/1 [==============================] - 0s 30ms/step\n",
            "1/1 [==============================] - 0s 34ms/step\n",
            "1/1 [==============================] - 0s 29ms/step\n"
          ]
        },
        {
          "output_type": "stream",
          "name": "stderr",
          "text": [
            "\r 72%|███████▏  | 116/162 [01:26<00:30,  1.48it/s]"
          ]
        },
        {
          "output_type": "stream",
          "name": "stdout",
          "text": [
            "1/1 [==============================] - 0s 30ms/step\n",
            "1/1 [==============================] - 0s 29ms/step\n"
          ]
        },
        {
          "output_type": "stream",
          "name": "stderr",
          "text": [
            "\r 72%|███████▏  | 117/162 [01:26<00:25,  1.74it/s]"
          ]
        },
        {
          "output_type": "stream",
          "name": "stdout",
          "text": [
            "1/1 [==============================] - 0s 28ms/step\n"
          ]
        },
        {
          "output_type": "stream",
          "name": "stderr",
          "text": [
            "\r 73%|███████▎  | 118/162 [01:26<00:20,  2.19it/s]"
          ]
        },
        {
          "output_type": "stream",
          "name": "stdout",
          "text": [
            "1/1 [==============================] - 0s 29ms/step\n",
            "1/1 [==============================] - 0s 28ms/step\n",
            "1/1 [==============================] - 0s 28ms/step\n",
            "1/1 [==============================] - 0s 35ms/step\n"
          ]
        },
        {
          "output_type": "stream",
          "name": "stderr",
          "text": [
            "\r 73%|███████▎  | 119/162 [01:27<00:23,  1.84it/s]"
          ]
        },
        {
          "output_type": "stream",
          "name": "stdout",
          "text": [
            "1/1 [==============================] - 0s 29ms/step\n",
            "1/1 [==============================] - 0s 35ms/step\n",
            "1/1 [==============================] - 0s 28ms/step\n",
            "1/1 [==============================] - 0s 29ms/step\n",
            "1/1 [==============================] - 0s 31ms/step\n",
            "1/1 [==============================] - 0s 28ms/step\n",
            "1/1 [==============================] - 0s 28ms/step\n",
            "1/1 [==============================] - 0s 28ms/step\n",
            "1/1 [==============================] - 0s 29ms/step\n",
            "1/1 [==============================] - 0s 34ms/step\n"
          ]
        },
        {
          "output_type": "stream",
          "name": "stderr",
          "text": [
            "\r 74%|███████▍  | 120/162 [01:29<00:37,  1.11it/s]"
          ]
        },
        {
          "output_type": "stream",
          "name": "stdout",
          "text": [
            "1/1 [==============================] - 0s 31ms/step\n",
            "1/1 [==============================] - 0s 32ms/step\n",
            "1/1 [==============================] - 0s 33ms/step\n",
            "1/1 [==============================] - 0s 28ms/step\n"
          ]
        },
        {
          "output_type": "stream",
          "name": "stderr",
          "text": [
            "\r 75%|███████▍  | 121/162 [01:30<00:35,  1.17it/s]"
          ]
        },
        {
          "output_type": "stream",
          "name": "stdout",
          "text": [
            "1/1 [==============================] - 0s 27ms/step\n",
            "1/1 [==============================] - 0s 33ms/step\n",
            "1/1 [==============================] - 0s 27ms/step\n",
            "1/1 [==============================] - 0s 30ms/step\n",
            "1/1 [==============================] - 0s 29ms/step\n"
          ]
        },
        {
          "output_type": "stream",
          "name": "stderr",
          "text": [
            "\r 75%|███████▌  | 122/162 [01:31<00:34,  1.16it/s]"
          ]
        },
        {
          "output_type": "stream",
          "name": "stdout",
          "text": [
            "1/1 [==============================] - 0s 33ms/step\n",
            "1/1 [==============================] - 0s 27ms/step\n",
            "1/1 [==============================] - 0s 30ms/step\n",
            "1/1 [==============================] - 0s 29ms/step\n"
          ]
        },
        {
          "output_type": "stream",
          "name": "stderr",
          "text": [
            "\r 76%|███████▌  | 123/162 [01:31<00:31,  1.23it/s]"
          ]
        },
        {
          "output_type": "stream",
          "name": "stdout",
          "text": [
            "1/1 [==============================] - 0s 27ms/step\n",
            "1/1 [==============================] - 0s 32ms/step\n",
            "1/1 [==============================] - 0s 27ms/step\n"
          ]
        },
        {
          "output_type": "stream",
          "name": "stderr",
          "text": [
            "\r 77%|███████▋  | 124/162 [01:32<00:27,  1.39it/s]"
          ]
        },
        {
          "output_type": "stream",
          "name": "stdout",
          "text": [
            "1/1 [==============================] - 0s 35ms/step\n",
            "1/1 [==============================] - 0s 41ms/step\n",
            "1/1 [==============================] - 0s 38ms/step\n"
          ]
        },
        {
          "output_type": "stream",
          "name": "stderr",
          "text": [
            "\r 77%|███████▋  | 125/162 [01:32<00:25,  1.44it/s]"
          ]
        },
        {
          "output_type": "stream",
          "name": "stdout",
          "text": [
            "1/1 [==============================] - 0s 40ms/step\n",
            "1/1 [==============================] - 0s 41ms/step\n"
          ]
        },
        {
          "output_type": "stream",
          "name": "stderr",
          "text": [
            "\r 78%|███████▊  | 126/162 [01:33<00:23,  1.51it/s]"
          ]
        },
        {
          "output_type": "stream",
          "name": "stdout",
          "text": [
            "1/1 [==============================] - 0s 56ms/step\n",
            "1/1 [==============================] - 0s 58ms/step\n",
            "1/1 [==============================] - 0s 54ms/step\n"
          ]
        },
        {
          "output_type": "stream",
          "name": "stderr",
          "text": [
            "\r 78%|███████▊  | 127/162 [01:34<00:25,  1.37it/s]"
          ]
        },
        {
          "output_type": "stream",
          "name": "stdout",
          "text": [
            "1/1 [==============================] - 0s 31ms/step\n"
          ]
        },
        {
          "output_type": "stream",
          "name": "stderr",
          "text": [
            "\r 79%|███████▉  | 128/162 [01:34<00:20,  1.67it/s]"
          ]
        },
        {
          "output_type": "stream",
          "name": "stdout",
          "text": [
            "1/1 [==============================] - 0s 35ms/step\n",
            "1/1 [==============================] - 0s 39ms/step\n",
            "1/1 [==============================] - 0s 67ms/step\n",
            "1/1 [==============================] - 0s 44ms/step\n",
            "1/1 [==============================] - 0s 42ms/step\n"
          ]
        },
        {
          "output_type": "stream",
          "name": "stderr",
          "text": [
            "\r 80%|███████▉  | 129/162 [01:35<00:27,  1.21it/s]"
          ]
        },
        {
          "output_type": "stream",
          "name": "stdout",
          "text": [
            "1/1 [==============================] - 0s 37ms/step\n",
            "1/1 [==============================] - 0s 26ms/step\n",
            "1/1 [==============================] - 0s 31ms/step\n"
          ]
        },
        {
          "output_type": "stream",
          "name": "stderr",
          "text": [
            "\r 80%|████████  | 130/162 [01:36<00:23,  1.34it/s]"
          ]
        },
        {
          "output_type": "stream",
          "name": "stdout",
          "text": [
            "1/1 [==============================] - 0s 34ms/step\n",
            "1/1 [==============================] - 0s 34ms/step\n",
            "1/1 [==============================] - 0s 29ms/step\n",
            "1/1 [==============================] - 0s 29ms/step\n"
          ]
        },
        {
          "output_type": "stream",
          "name": "stderr",
          "text": [
            "\r 81%|████████  | 131/162 [01:37<00:23,  1.33it/s]"
          ]
        },
        {
          "output_type": "stream",
          "name": "stdout",
          "text": [
            "1/1 [==============================] - 0s 33ms/step\n",
            "1/1 [==============================] - 0s 27ms/step\n"
          ]
        },
        {
          "output_type": "stream",
          "name": "stderr",
          "text": [
            "\r 81%|████████▏ | 132/162 [01:37<00:18,  1.59it/s]"
          ]
        },
        {
          "output_type": "stream",
          "name": "stdout",
          "text": [
            "1/1 [==============================] - 0s 32ms/step\n",
            "1/1 [==============================] - 0s 32ms/step\n",
            "1/1 [==============================] - 0s 32ms/step\n",
            "1/1 [==============================] - 0s 33ms/step\n"
          ]
        },
        {
          "output_type": "stream",
          "name": "stderr",
          "text": [
            "\r 82%|████████▏ | 133/162 [01:38<00:18,  1.54it/s]"
          ]
        },
        {
          "output_type": "stream",
          "name": "stdout",
          "text": [
            "1/1 [==============================] - 0s 29ms/step\n"
          ]
        },
        {
          "output_type": "stream",
          "name": "stderr",
          "text": [
            "\r 83%|████████▎ | 134/162 [01:38<00:14,  1.95it/s]"
          ]
        },
        {
          "output_type": "stream",
          "name": "stdout",
          "text": [
            "1/1 [==============================] - 0s 28ms/step\n"
          ]
        },
        {
          "output_type": "stream",
          "name": "stderr",
          "text": [
            "\r 83%|████████▎ | 135/162 [01:38<00:11,  2.43it/s]"
          ]
        },
        {
          "output_type": "stream",
          "name": "stdout",
          "text": [
            "1/1 [==============================] - 0s 27ms/step\n",
            "1/1 [==============================] - 0s 27ms/step\n"
          ]
        },
        {
          "output_type": "stream",
          "name": "stderr",
          "text": [
            "\r 84%|████████▍ | 136/162 [01:39<00:10,  2.55it/s]"
          ]
        },
        {
          "output_type": "stream",
          "name": "stdout",
          "text": [
            "1/1 [==============================] - 0s 29ms/step\n",
            "1/1 [==============================] - 0s 26ms/step\n",
            "1/1 [==============================] - 0s 26ms/step\n",
            "1/1 [==============================] - 0s 26ms/step\n"
          ]
        },
        {
          "output_type": "stream",
          "name": "stderr",
          "text": [
            "\r 85%|████████▍ | 137/162 [01:39<00:12,  2.04it/s]"
          ]
        },
        {
          "output_type": "stream",
          "name": "stdout",
          "text": [
            "1/1 [==============================] - 0s 26ms/step\n"
          ]
        },
        {
          "output_type": "stream",
          "name": "stderr",
          "text": [
            "\r 85%|████████▌ | 138/162 [01:39<00:09,  2.53it/s]"
          ]
        },
        {
          "output_type": "stream",
          "name": "stdout",
          "text": [
            "1/1 [==============================] - 0s 35ms/step\n",
            "1/1 [==============================] - 0s 33ms/step\n"
          ]
        },
        {
          "output_type": "stream",
          "name": "stderr",
          "text": [
            "\r 86%|████████▌ | 139/162 [01:40<00:08,  2.61it/s]"
          ]
        },
        {
          "output_type": "stream",
          "name": "stdout",
          "text": [
            "1/1 [==============================] - 0s 27ms/step\n",
            "1/1 [==============================] - 0s 32ms/step\n",
            "1/1 [==============================] - 0s 31ms/step\n",
            "1/1 [==============================] - 0s 34ms/step\n",
            "1/1 [==============================] - 0s 35ms/step\n",
            "1/1 [==============================] - 0s 26ms/step\n",
            "1/1 [==============================] - 0s 33ms/step\n"
          ]
        },
        {
          "output_type": "stream",
          "name": "stderr",
          "text": [
            "\r 86%|████████▋ | 140/162 [01:41<00:13,  1.59it/s]"
          ]
        },
        {
          "output_type": "stream",
          "name": "stdout",
          "text": [
            "1/1 [==============================] - 0s 31ms/step\n",
            "1/1 [==============================] - 0s 28ms/step\n",
            "1/1 [==============================] - 0s 32ms/step\n"
          ]
        },
        {
          "output_type": "stream",
          "name": "stderr",
          "text": [
            "\r 87%|████████▋ | 141/162 [01:42<00:12,  1.64it/s]"
          ]
        },
        {
          "output_type": "stream",
          "name": "stdout",
          "text": [
            "1/1 [==============================] - 0s 32ms/step\n",
            "1/1 [==============================] - 0s 27ms/step\n",
            "1/1 [==============================] - 0s 27ms/step\n",
            "1/1 [==============================] - 0s 26ms/step\n"
          ]
        },
        {
          "output_type": "stream",
          "name": "stderr",
          "text": [
            "\r 88%|████████▊ | 142/162 [01:42<00:13,  1.54it/s]"
          ]
        },
        {
          "output_type": "stream",
          "name": "stdout",
          "text": [
            "1/1 [==============================] - 0s 27ms/step\n",
            "1/1 [==============================] - 0s 26ms/step\n",
            "1/1 [==============================] - 0s 27ms/step\n"
          ]
        },
        {
          "output_type": "stream",
          "name": "stderr",
          "text": [
            "\r 88%|████████▊ | 143/162 [01:43<00:11,  1.60it/s]"
          ]
        },
        {
          "output_type": "stream",
          "name": "stdout",
          "text": [
            "1/1 [==============================] - 0s 37ms/step\n",
            "1/1 [==============================] - 0s 27ms/step\n",
            "1/1 [==============================] - 0s 32ms/step\n"
          ]
        },
        {
          "output_type": "stream",
          "name": "stderr",
          "text": [
            "\r 89%|████████▉ | 144/162 [01:43<00:10,  1.64it/s]"
          ]
        },
        {
          "output_type": "stream",
          "name": "stdout",
          "text": [
            "1/1 [==============================] - 0s 26ms/step\n",
            "1/1 [==============================] - 0s 44ms/step\n",
            "1/1 [==============================] - 0s 31ms/step\n",
            "1/1 [==============================] - 0s 27ms/step\n"
          ]
        },
        {
          "output_type": "stream",
          "name": "stderr",
          "text": [
            "\r 90%|████████▉ | 145/162 [01:44<00:10,  1.55it/s]"
          ]
        },
        {
          "output_type": "stream",
          "name": "stdout",
          "text": [
            "1/1 [==============================] - 0s 28ms/step\n",
            "1/1 [==============================] - 0s 31ms/step\n"
          ]
        },
        {
          "output_type": "stream",
          "name": "stderr",
          "text": [
            "\r 90%|█████████ | 146/162 [01:45<00:09,  1.76it/s]"
          ]
        },
        {
          "output_type": "stream",
          "name": "stdout",
          "text": [
            "1/1 [==============================] - 0s 27ms/step\n",
            "1/1 [==============================] - 0s 27ms/step\n",
            "1/1 [==============================] - 0s 29ms/step\n",
            "1/1 [==============================] - 0s 42ms/step\n",
            "1/1 [==============================] - 0s 26ms/step\n"
          ]
        },
        {
          "output_type": "stream",
          "name": "stderr",
          "text": [
            "\r 91%|█████████ | 147/162 [01:45<00:09,  1.52it/s]"
          ]
        },
        {
          "output_type": "stream",
          "name": "stdout",
          "text": [
            "1/1 [==============================] - 0s 26ms/step\n",
            "1/1 [==============================] - 0s 36ms/step\n",
            "1/1 [==============================] - 0s 42ms/step\n",
            "1/1 [==============================] - 0s 37ms/step\n",
            "1/1 [==============================] - 0s 58ms/step\n",
            "1/1 [==============================] - 0s 41ms/step\n"
          ]
        },
        {
          "output_type": "stream",
          "name": "stderr",
          "text": [
            "\r 91%|█████████▏| 148/162 [01:47<00:12,  1.10it/s]"
          ]
        },
        {
          "output_type": "stream",
          "name": "stdout",
          "text": [
            "1/1 [==============================] - 0s 31ms/step\n",
            "1/1 [==============================] - 0s 30ms/step\n",
            "1/1 [==============================] - 0s 55ms/step\n",
            "1/1 [==============================] - 0s 33ms/step\n",
            "1/1 [==============================] - 0s 39ms/step\n"
          ]
        },
        {
          "output_type": "stream",
          "name": "stderr",
          "text": [
            "\r 92%|█████████▏| 149/162 [01:48<00:12,  1.00it/s]"
          ]
        },
        {
          "output_type": "stream",
          "name": "stdout",
          "text": [
            "1/1 [==============================] - 0s 32ms/step\n",
            "1/1 [==============================] - 0s 35ms/step\n",
            "1/1 [==============================] - 0s 32ms/step\n",
            "1/1 [==============================] - 0s 63ms/step\n",
            "1/1 [==============================] - 0s 41ms/step\n"
          ]
        },
        {
          "output_type": "stream",
          "name": "stderr",
          "text": [
            "\r 93%|█████████▎| 150/162 [01:49<00:13,  1.09s/it]"
          ]
        },
        {
          "output_type": "stream",
          "name": "stdout",
          "text": [
            "1/1 [==============================] - 0s 27ms/step\n",
            "1/1 [==============================] - 0s 25ms/step\n",
            "1/1 [==============================] - 0s 26ms/step\n",
            "1/1 [==============================] - 0s 25ms/step\n",
            "1/1 [==============================] - 0s 26ms/step\n"
          ]
        },
        {
          "output_type": "stream",
          "name": "stderr",
          "text": [
            "\r 93%|█████████▎| 151/162 [01:50<00:11,  1.02s/it]"
          ]
        },
        {
          "output_type": "stream",
          "name": "stdout",
          "text": [
            "1/1 [==============================] - 0s 27ms/step\n",
            "1/1 [==============================] - 0s 33ms/step\n",
            "1/1 [==============================] - 0s 27ms/step\n"
          ]
        },
        {
          "output_type": "stream",
          "name": "stderr",
          "text": [
            "\r 94%|█████████▍| 152/162 [01:51<00:08,  1.15it/s]"
          ]
        },
        {
          "output_type": "stream",
          "name": "stdout",
          "text": [
            "1/1 [==============================] - 0s 26ms/step\n",
            "1/1 [==============================] - 0s 27ms/step\n",
            "1/1 [==============================] - 0s 29ms/step\n",
            "1/1 [==============================] - 0s 29ms/step\n"
          ]
        },
        {
          "output_type": "stream",
          "name": "stderr",
          "text": [
            "\r 94%|█████████▍| 153/162 [01:52<00:07,  1.21it/s]"
          ]
        },
        {
          "output_type": "stream",
          "name": "stdout",
          "text": [
            "1/1 [==============================] - 0s 27ms/step\n",
            "1/1 [==============================] - 0s 37ms/step\n"
          ]
        },
        {
          "output_type": "stream",
          "name": "stderr",
          "text": [
            "\r 95%|█████████▌| 154/162 [01:52<00:05,  1.46it/s]"
          ]
        },
        {
          "output_type": "stream",
          "name": "stdout",
          "text": [
            "1/1 [==============================] - 0s 33ms/step\n",
            "1/1 [==============================] - 0s 29ms/step\n"
          ]
        },
        {
          "output_type": "stream",
          "name": "stderr",
          "text": [
            "\r 96%|█████████▌| 155/162 [01:52<00:04,  1.70it/s]"
          ]
        },
        {
          "output_type": "stream",
          "name": "stdout",
          "text": [
            "1/1 [==============================] - 0s 32ms/step\n",
            "1/1 [==============================] - 0s 27ms/step\n",
            "1/1 [==============================] - 0s 28ms/step\n"
          ]
        },
        {
          "output_type": "stream",
          "name": "stderr",
          "text": [
            "\r 96%|█████████▋| 156/162 [01:53<00:03,  1.77it/s]"
          ]
        },
        {
          "output_type": "stream",
          "name": "stdout",
          "text": [
            "1/1 [==============================] - 0s 25ms/step\n",
            "1/1 [==============================] - 0s 26ms/step\n",
            "1/1 [==============================] - 0s 34ms/step\n"
          ]
        },
        {
          "output_type": "stream",
          "name": "stderr",
          "text": [
            "\r 97%|█████████▋| 157/162 [01:53<00:02,  1.77it/s]"
          ]
        },
        {
          "output_type": "stream",
          "name": "stdout",
          "text": [
            "1/1 [==============================] - 0s 32ms/step\n",
            "1/1 [==============================] - 0s 32ms/step\n",
            "1/1 [==============================] - 0s 28ms/step\n",
            "1/1 [==============================] - 0s 28ms/step\n"
          ]
        },
        {
          "output_type": "stream",
          "name": "stderr",
          "text": [
            "\r 98%|█████████▊| 158/162 [01:54<00:02,  1.62it/s]"
          ]
        },
        {
          "output_type": "stream",
          "name": "stdout",
          "text": [
            "1/1 [==============================] - 0s 30ms/step\n",
            "1/1 [==============================] - 0s 30ms/step\n",
            "1/1 [==============================] - 0s 27ms/step\n"
          ]
        },
        {
          "output_type": "stream",
          "name": "stderr",
          "text": [
            "\r 98%|█████████▊| 159/162 [01:55<00:01,  1.70it/s]"
          ]
        },
        {
          "output_type": "stream",
          "name": "stdout",
          "text": [
            "1/1 [==============================] - 0s 26ms/step\n"
          ]
        },
        {
          "output_type": "stream",
          "name": "stderr",
          "text": [
            "\r 99%|█████████▉| 160/162 [01:55<00:00,  2.17it/s]"
          ]
        },
        {
          "output_type": "stream",
          "name": "stdout",
          "text": [
            "1/1 [==============================] - 0s 28ms/step\n"
          ]
        },
        {
          "output_type": "stream",
          "name": "stderr",
          "text": [
            "\r 99%|█████████▉| 161/162 [01:55<00:00,  2.63it/s]"
          ]
        },
        {
          "output_type": "stream",
          "name": "stdout",
          "text": [
            "1/1 [==============================] - 0s 28ms/step\n",
            "1/1 [==============================] - 0s 27ms/step\n",
            "1/1 [==============================] - 0s 27ms/step\n"
          ]
        },
        {
          "output_type": "stream",
          "name": "stderr",
          "text": [
            "100%|██████████| 162/162 [01:55<00:00,  1.40it/s]"
          ]
        },
        {
          "output_type": "stream",
          "name": "stdout",
          "text": [
            "              precision    recall  f1-score   support\n",
            "\n",
            "    artifact       1.00      1.00      1.00        12\n",
            "    extrahls       1.00      1.00      1.00         5\n",
            "  extrastole       1.00      0.82      0.90        11\n",
            "      murmur       0.97      0.95      0.96        40\n",
            "      normal       0.97      1.00      0.98        94\n",
            "\n",
            "    accuracy                           0.98       162\n",
            "   macro avg       0.99      0.95      0.97       162\n",
            "weighted avg       0.98      0.98      0.97       162\n",
            "\n"
          ]
        },
        {
          "output_type": "stream",
          "name": "stderr",
          "text": [
            "\n"
          ]
        },
        {
          "output_type": "display_data",
          "data": {
            "text/plain": [
              "<Figure size 432x288 with 2 Axes>"
            ],
            "image/png": "[encoded data removed]"
          },
          "metadata": {
            "needs_background": "light"
          }
        }
      ]
    }
  ]
}